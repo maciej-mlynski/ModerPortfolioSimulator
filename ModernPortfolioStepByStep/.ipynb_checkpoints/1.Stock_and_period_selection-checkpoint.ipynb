{
 "cells": [
  {
   "cell_type": "code",
   "execution_count": 1,
   "id": "ce010b71",
   "metadata": {},
   "outputs": [],
   "source": [
    "# Import libraries\n",
    "import numpy as np\n",
    "import pandas as pd\n",
    "import seaborn as sb\n",
    "sb.set()\n",
    "import scipy.optimize as optimization\n",
    "import datetime as dt\n",
    "from datetime import timedelta\n",
    "from matplotlib import rcParams\n",
    "rcParams['figure.figsize'] = 10,6\n",
    "import math\n",
    "import scipy.stats\n",
    "import matplotlib.pyplot as plt\n",
    "import time\n",
    "from ipywidgets import Checkbox\n",
    "import pandas_datareader as pdr\n",
    "import warnings\n",
    "warnings.filterwarnings(\"ignore\")"
   ]
  },
  {
   "cell_type": "code",
   "execution_count": 2,
   "id": "69d8f9c9",
   "metadata": {},
   "outputs": [],
   "source": [
    "import sys\n",
    "sys.path.append('../../ModernPortfolio_project/DEFINITIONS')\n",
    "\n",
    "import StockSelection as stock"
   ]
  },
  {
   "cell_type": "code",
   "execution_count": 15,
   "id": "41f61b01",
   "metadata": {},
   "outputs": [],
   "source": [
    "# Create checkbox listo to choese\n",
    "SPX_= Checkbox(description = 'CSPX.L')\n",
    "BTC_ = Checkbox(description = 'BTC-USD')\n",
    "IEF_ = Checkbox(description = 'IEF')\n",
    "FILL_ = Checkbox(description = 'FILL')\n",
    "PALL_ = Checkbox(description = 'PALL')\n",
    "FXI_ = Checkbox(description = 'FXI')\n",
    "GMF_ = Checkbox(description = 'GMF')\n",
    "EXS1_ = Checkbox(description = 'EXS1.DE')\n",
    "VGK_ = Checkbox(description = 'VGK')\n",
    "DBC_ = Checkbox(description = 'DBC')\n",
    "BNO_ = Checkbox(description = 'BNO')\n",
    "PICK_ = Checkbox(description = 'PICK')\n",
    "SGOL_ = Checkbox(description = 'SGOL')\n",
    "PPLT_ = Checkbox(description = 'PPLT')\n",
    "SIVR_ = Checkbox(description = 'SIVR')\n",
    "BNO_ = Checkbox(description = 'BNO')\n",
    "quaterly = Checkbox(description = 'quaterly')\n",
    "yearly = Checkbox(description = 'yearly')\n",
    "full_DR = Checkbox(description = '365')\n",
    "busieness_DR = Checkbox(description = '252')\n",
    "HighestSR = Checkbox(description = 'Highest Sharp Ratio')\n",
    "MyWallet = Checkbox(description = 'My Choice')"
   ]
  },
  {
   "cell_type": "code",
   "execution_count": 16,
   "id": "1b7fbeb1",
   "metadata": {},
   "outputs": [
    {
     "data": {
      "text/plain": [
       "'Equity'"
      ]
     },
     "metadata": {},
     "output_type": "display_data"
    },
    {
     "data": {
      "application/vnd.jupyter.widget-view+json": {
       "model_id": "4872641f895345ceb5ae45e2fc6b03b8",
       "version_major": 2,
       "version_minor": 0
      },
      "text/plain": [
       "Checkbox(value=False, description='CSPX.L')"
      ]
     },
     "metadata": {},
     "output_type": "display_data"
    },
    {
     "data": {
      "application/vnd.jupyter.widget-view+json": {
       "model_id": "688bfaf6d824492b9485af2b65ddc493",
       "version_major": 2,
       "version_minor": 0
      },
      "text/plain": [
       "Checkbox(value=False, description='FXI')"
      ]
     },
     "metadata": {},
     "output_type": "display_data"
    },
    {
     "data": {
      "application/vnd.jupyter.widget-view+json": {
       "model_id": "aa7fcd3c46ea4b0fb5bf1e29d40a8ff4",
       "version_major": 2,
       "version_minor": 0
      },
      "text/plain": [
       "Checkbox(value=False, description='GMF')"
      ]
     },
     "metadata": {},
     "output_type": "display_data"
    },
    {
     "data": {
      "application/vnd.jupyter.widget-view+json": {
       "model_id": "154fcc7936ef4d4fb6bbd59dc2b159af",
       "version_major": 2,
       "version_minor": 0
      },
      "text/plain": [
       "Checkbox(value=False, description='EXS1.DE')"
      ]
     },
     "metadata": {},
     "output_type": "display_data"
    },
    {
     "data": {
      "application/vnd.jupyter.widget-view+json": {
       "model_id": "4a4f376c034c4903ab20ef150ce52c23",
       "version_major": 2,
       "version_minor": 0
      },
      "text/plain": [
       "Checkbox(value=False, description='VGK')"
      ]
     },
     "metadata": {},
     "output_type": "display_data"
    },
    {
     "data": {
      "text/plain": [
       "'Comodity'"
      ]
     },
     "metadata": {},
     "output_type": "display_data"
    },
    {
     "data": {
      "application/vnd.jupyter.widget-view+json": {
       "model_id": "79333b40b4894b349833ad44991a529f",
       "version_major": 2,
       "version_minor": 0
      },
      "text/plain": [
       "Checkbox(value=False, description='DBC')"
      ]
     },
     "metadata": {},
     "output_type": "display_data"
    },
    {
     "data": {
      "application/vnd.jupyter.widget-view+json": {
       "model_id": "4f4e981add35451ba8e8bb7d30e5248b",
       "version_major": 2,
       "version_minor": 0
      },
      "text/plain": [
       "Checkbox(value=False, description='FILL')"
      ]
     },
     "metadata": {},
     "output_type": "display_data"
    },
    {
     "data": {
      "application/vnd.jupyter.widget-view+json": {
       "model_id": "170ac20b11f840a1bdf4b94088c1b9a5",
       "version_major": 2,
       "version_minor": 0
      },
      "text/plain": [
       "Checkbox(value=False, description='BNO')"
      ]
     },
     "metadata": {},
     "output_type": "display_data"
    },
    {
     "data": {
      "application/vnd.jupyter.widget-view+json": {
       "model_id": "e2a7b8da49a14e49be9ad8bdb613fac4",
       "version_major": 2,
       "version_minor": 0
      },
      "text/plain": [
       "Checkbox(value=False, description='PICK')"
      ]
     },
     "metadata": {},
     "output_type": "display_data"
    },
    {
     "data": {
      "text/plain": [
       "'Precious metals'"
      ]
     },
     "metadata": {},
     "output_type": "display_data"
    },
    {
     "data": {
      "application/vnd.jupyter.widget-view+json": {
       "model_id": "b064f5fafa8340b7b7c8ecaa4252684f",
       "version_major": 2,
       "version_minor": 0
      },
      "text/plain": [
       "Checkbox(value=False, description='SGOL')"
      ]
     },
     "metadata": {},
     "output_type": "display_data"
    },
    {
     "data": {
      "application/vnd.jupyter.widget-view+json": {
       "model_id": "0a214b92199a4058a06ec89df0a383b7",
       "version_major": 2,
       "version_minor": 0
      },
      "text/plain": [
       "Checkbox(value=False, description='PPLT')"
      ]
     },
     "metadata": {},
     "output_type": "display_data"
    },
    {
     "data": {
      "application/vnd.jupyter.widget-view+json": {
       "model_id": "4446ace132924ac196ca78818ec6b372",
       "version_major": 2,
       "version_minor": 0
      },
      "text/plain": [
       "Checkbox(value=False, description='SIVR')"
      ]
     },
     "metadata": {},
     "output_type": "display_data"
    },
    {
     "data": {
      "application/vnd.jupyter.widget-view+json": {
       "model_id": "e4a3025209fb48558dddecb718e4dd59",
       "version_major": 2,
       "version_minor": 0
      },
      "text/plain": [
       "Checkbox(value=False, description='PALL')"
      ]
     },
     "metadata": {},
     "output_type": "display_data"
    },
    {
     "data": {
      "text/plain": [
       "'Crypto'"
      ]
     },
     "metadata": {},
     "output_type": "display_data"
    },
    {
     "data": {
      "application/vnd.jupyter.widget-view+json": {
       "model_id": "337820d8ef2741d9928b25796d006461",
       "version_major": 2,
       "version_minor": 0
      },
      "text/plain": [
       "Checkbox(value=False, description='BTC-USD')"
      ]
     },
     "metadata": {},
     "output_type": "display_data"
    },
    {
     "data": {
      "text/plain": [
       "'Bonds'"
      ]
     },
     "metadata": {},
     "output_type": "display_data"
    },
    {
     "data": {
      "application/vnd.jupyter.widget-view+json": {
       "model_id": "73d85e93a85b4d74bd0fadaf7b76228f",
       "version_major": 2,
       "version_minor": 0
      },
      "text/plain": [
       "Checkbox(value=False, description='IEF')"
      ]
     },
     "metadata": {},
     "output_type": "display_data"
    }
   ],
   "source": [
    "tick = display('Equity', SPX_, FXI_, GMF_, EXS1_, VGK_, \\\n",
    "        'Comodity', DBC_, FILL_, BNO_, PICK_, \\\n",
    "        'Precious metals', SGOL_, PPLT_, SIVR_, PALL_,\\\n",
    "       'Crypto', BTC_, \\\n",
    "       'Bonds', IEF_)"
   ]
  },
  {
   "cell_type": "code",
   "execution_count": 17,
   "id": "131b3dd6",
   "metadata": {},
   "outputs": [
    {
     "name": "stdout",
     "output_type": "stream",
     "text": [
      "Your choice: ['CSPX.L', 'DBC', 'SIVR', 'BTC-USD']\n"
     ]
    }
   ],
   "source": [
    "tickers = stock.choese_stock(SPX_, FXI_, GMF_, EXS1_, VGK_,DBC_, FILL_, BNO_, PICK_,SGOL_, PPLT_, SIVR_, PALL_,BTC_,IEF_)"
   ]
  },
  {
   "cell_type": "markdown",
   "id": "131af9fd",
   "metadata": {},
   "source": [
    "### 1.1 Add more tickers by hand"
   ]
  },
  {
   "cell_type": "code",
   "execution_count": 18,
   "id": "e02bce9e",
   "metadata": {},
   "outputs": [],
   "source": [
    "# First we must check if ticker exist or if has not been choesen already\n",
    "new_tickers = ['AMZN', 'TSLAAOOA', 'BTC-USD'] # FORMAT eg. ticker = ['AMZN', 'TSLA', 'GM']"
   ]
  },
  {
   "cell_type": "code",
   "execution_count": 19,
   "id": "05b0b9b8",
   "metadata": {},
   "outputs": [
    {
     "name": "stdout",
     "output_type": "stream",
     "text": [
      "AMZN exist in Yahoo Finance and has been added to your analysis\n",
      "TSLAAOOA does not exist in Yahoo Finance\n",
      "BTC-USD has been already choesen priviously\n"
     ]
    }
   ],
   "source": [
    "tickers = stock.add_stock_by_hand(tickers, new_tickers)"
   ]
  },
  {
   "cell_type": "code",
   "execution_count": 20,
   "id": "35ee256b",
   "metadata": {},
   "outputs": [
    {
     "data": {
      "text/plain": [
       "['CSPX.L', 'DBC', 'SIVR', 'BTC-USD', 'AMZN']"
      ]
     },
     "execution_count": 20,
     "metadata": {},
     "output_type": "execute_result"
    }
   ],
   "source": [
    "tickers"
   ]
  },
  {
   "cell_type": "markdown",
   "id": "9e03d9bd",
   "metadata": {},
   "source": [
    "### 2. Select period of analysis\n"
   ]
  },
  {
   "cell_type": "code",
   "execution_count": 21,
   "id": "90cd1fd3",
   "metadata": {},
   "outputs": [
    {
     "data": {
      "text/plain": [
       "Timestamp('2022-05-26 17:32:13.365084')"
      ]
     },
     "execution_count": 21,
     "metadata": {},
     "output_type": "execute_result"
    }
   ],
   "source": [
    "pd.to_datetime(dt.datetime.today())"
   ]
  },
  {
   "cell_type": "code",
   "execution_count": 22,
   "id": "ca5f9c3d",
   "metadata": {},
   "outputs": [],
   "source": [
    "start = '2012-04-01' # FORMAT: 'yyyy-mm-dd'\n",
    "end = '2022-05-07'   # FORMAT: 'yyyy-mm-dd'"
   ]
  },
  {
   "cell_type": "markdown",
   "id": "b21b4ab1",
   "metadata": {},
   "source": [
    "### 3. Check if given period is aveliable\n",
    "\n",
    "Some assets may be listed later than the period you have selected. At this stage we want to check if the date you have selected is available. If NOT - the algorithm will tell you which market it is and when the earliest data is available."
   ]
  },
  {
   "cell_type": "code",
   "execution_count": 24,
   "id": "38cdb56e",
   "metadata": {},
   "outputs": [
    {
     "name": "stdout",
     "output_type": "stream",
     "text": [
      "First aveliable date to comapre stocks is 2014-09-17 00:00:00. This stock is BTC-USD.\n",
      "---------------------------------------------------\n",
      "If this is to short period, You can always unmark stock with the lowest start date aveliable\n",
      "Remember that if you want to delete ticker from analysis u must shift+enter all cells again\n"
     ]
    }
   ],
   "source": [
    "new_start = stock.find_first_date_from_choesen_stosks(start, end, tickers)"
   ]
  },
  {
   "cell_type": "markdown",
   "id": "e7276705",
   "metadata": {},
   "source": [
    "### 4. Check day of the week\n",
    "\n",
    "Usually stocks are listed in weekdays, so we nedd to be sure that date that been choesen is not listed at weekend. Algo will find the best fitted day for You. If start date is wrong it will move forward to find aveliable date. If end date is wrong it will take previous date aveliable"
   ]
  },
  {
   "cell_type": "code",
   "execution_count": 25,
   "id": "a492ef78",
   "metadata": {},
   "outputs": [
    {
     "data": {
      "text/plain": [
       "Timestamp('2014-09-17 00:00:00')"
      ]
     },
     "execution_count": 25,
     "metadata": {},
     "output_type": "execute_result"
    }
   ],
   "source": [
    "start = stock.check_start_date(new_start)\n",
    "start"
   ]
  },
  {
   "cell_type": "code",
   "execution_count": 26,
   "id": "8f106641",
   "metadata": {},
   "outputs": [
    {
     "data": {
      "text/plain": [
       "Timestamp('2022-05-06 00:00:00')"
      ]
     },
     "execution_count": 26,
     "metadata": {},
     "output_type": "execute_result"
    }
   ],
   "source": [
    "end = stock.check_end_date(end)\n",
    "end"
   ]
  },
  {
   "cell_type": "code",
   "execution_count": null,
   "id": "1482240f",
   "metadata": {},
   "outputs": [],
   "source": []
  }
 ],
 "metadata": {
  "kernelspec": {
   "display_name": "Python 3",
   "language": "python",
   "name": "python3"
  },
  "language_info": {
   "codemirror_mode": {
    "name": "ipython",
    "version": 3
   },
   "file_extension": ".py",
   "mimetype": "text/x-python",
   "name": "python",
   "nbconvert_exporter": "python",
   "pygments_lexer": "ipython3",
   "version": "3.8.8"
  }
 },
 "nbformat": 4,
 "nbformat_minor": 5
}
