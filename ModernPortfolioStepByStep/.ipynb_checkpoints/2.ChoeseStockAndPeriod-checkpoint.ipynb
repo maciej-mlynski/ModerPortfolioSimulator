{
 "cells": [
  {
   "cell_type": "code",
   "execution_count": 1,
   "id": "0164a562",
   "metadata": {},
   "outputs": [],
   "source": [
    "import numpy as np\n",
    "import yfinance as yf\n",
    "import pandas as pd\n",
    "import matplotlib.pyplot as plt\n",
    "import scipy.optimize as optimization\n",
    "import pandas_datareader as pdr\n",
    "import datetime as dt\n",
    "from ipywidgets import Checkbox"
   ]
  },
  {
   "cell_type": "markdown",
   "id": "01983200",
   "metadata": {},
   "source": [
    "## Select stocks"
   ]
  },
  {
   "cell_type": "code",
   "execution_count": 2,
   "id": "9a37c7bf",
   "metadata": {},
   "outputs": [],
   "source": [
    "# Create checkbox listo to choese\n",
    "SPX_= Checkbox(description = 'CSPX.L')\n",
    "BTC_ = Checkbox(description = 'BTC-USD')\n",
    "IEF_ = Checkbox(description = 'IEF')\n",
    "FILL_ = Checkbox(description = 'FILL')\n",
    "PALL_ = Checkbox(description = 'PALL')"
   ]
  },
  {
   "cell_type": "code",
   "execution_count": 33,
   "id": "3e77734f",
   "metadata": {},
   "outputs": [],
   "source": [
    "# def function that take selected tickers\n",
    "def choese_stock(SPX_, BTC_, IEF_, FILL_, PALL_):\n",
    "\n",
    "    # All aveliable tickers\n",
    "    tickers = [SPX_, BTC_, IEF_, FILL_, PALL_]\n",
    "    \n",
    "    # Tickers that user selectes\n",
    "    choesen_ticker = []\n",
    "\n",
    "    # Add tickers to choesen ticker by loop\n",
    "    for ticker in tickers:\n",
    "\n",
    "        if ticker.get_interact_value() == True:\n",
    "            ticker_name = ticker.description\n",
    "            choesen_ticker.append(ticker_name)\n",
    "\n",
    "        else:\n",
    "            pass\n",
    "\n",
    "    # Condition: You must select at least 2 stocks\n",
    "    if len(choesen_ticker) <2:\n",
    "        print('You must select at least 2 stocks in analyse perpouse')\n",
    "    \n",
    "    # If condiction is fulfilled then print choesen tickers\n",
    "    else:\n",
    "        print(f'Your choice: {choesen_ticker}')\n",
    "        \n",
    "    return choesen_ticker\n"
   ]
  },
  {
   "cell_type": "markdown",
   "id": "1410af9f",
   "metadata": {},
   "source": [
    "### iShares Core S&P 500 UCITS ETF USD (Acc) \n",
    "\n",
    "**Ticker:** CSPX.L\n",
    "\n",
    "**Currency:** USD\n",
    "\n",
    "**More info:** [Link](https://finance.yahoo.com/quote/CSPX.L?p=CSPX.L&.tsrc=fin-srch)\n",
    "\n",
    "-----------------------------------------------------------\n",
    "\n",
    "### BTC-USD\n",
    "\n",
    "Ticker: BTC-USD\n",
    "\n",
    "Currency: USD\n",
    "\n",
    "More info: [link](https://finance.yahoo.com/quote/BTC-USD?p=BTC-USD&.tsrc=fin-srch)\n",
    "\n",
    "-----------------------------------------------------------\n",
    "\n",
    "\n",
    "### iShares 7-10 Year Treasury Bond ETF\n",
    "\n",
    "**Ticker:** IEF\n",
    "\n",
    "**Currency:** USD\n",
    "\n",
    "**More info:** [Link](https://finance.yahoo.com/quote/IEF/risk?p=IEF)"
   ]
  },
  {
   "cell_type": "code",
   "execution_count": null,
   "id": "46424dc4",
   "metadata": {},
   "outputs": [],
   "source": []
  },
  {
   "cell_type": "code",
   "execution_count": 34,
   "id": "e7888e67",
   "metadata": {},
   "outputs": [
    {
     "data": {
      "application/vnd.jupyter.widget-view+json": {
       "model_id": "68bf154064784852b00c67aab2807614",
       "version_major": 2,
       "version_minor": 0
      },
      "text/plain": [
       "Checkbox(value=False, description='CSPX.L')"
      ]
     },
     "metadata": {},
     "output_type": "display_data"
    },
    {
     "data": {
      "application/vnd.jupyter.widget-view+json": {
       "model_id": "8f280b7e5ea1486d90cef9c584b1df9d",
       "version_major": 2,
       "version_minor": 0
      },
      "text/plain": [
       "Checkbox(value=True, description='BTC-USD')"
      ]
     },
     "metadata": {},
     "output_type": "display_data"
    },
    {
     "data": {
      "application/vnd.jupyter.widget-view+json": {
       "model_id": "39352e9d72e24886ac0a16b372a027ba",
       "version_major": 2,
       "version_minor": 0
      },
      "text/plain": [
       "Checkbox(value=True, description='IEF')"
      ]
     },
     "metadata": {},
     "output_type": "display_data"
    },
    {
     "data": {
      "application/vnd.jupyter.widget-view+json": {
       "model_id": "df521cd10287475095eca5b3c47c9883",
       "version_major": 2,
       "version_minor": 0
      },
      "text/plain": [
       "Checkbox(value=True, description='FILL')"
      ]
     },
     "metadata": {},
     "output_type": "display_data"
    },
    {
     "data": {
      "application/vnd.jupyter.widget-view+json": {
       "model_id": "33cd5b86331a45f183f78ce1e95d18a0",
       "version_major": 2,
       "version_minor": 0
      },
      "text/plain": [
       "Checkbox(value=False, description='PALL')"
      ]
     },
     "metadata": {},
     "output_type": "display_data"
    }
   ],
   "source": [
    "display(SPX_, BTC_, IEF_, FILL_, PALL_)"
   ]
  },
  {
   "cell_type": "code",
   "execution_count": 35,
   "id": "f3eda242",
   "metadata": {},
   "outputs": [
    {
     "name": "stdout",
     "output_type": "stream",
     "text": [
      "Your choice: ['BTC-USD', 'IEF', 'FILL']\n"
     ]
    }
   ],
   "source": [
    "tickers = choese_stock(SPX_, BTC_, IEF_, FILL_, PALL_)"
   ]
  },
  {
   "cell_type": "code",
   "execution_count": null,
   "id": "aa075c64",
   "metadata": {},
   "outputs": [],
   "source": []
  },
  {
   "cell_type": "code",
   "execution_count": 36,
   "id": "3764eabc",
   "metadata": {},
   "outputs": [
    {
     "data": {
      "text/plain": [
       "['BTC-USD', 'IEF', 'FILL']"
      ]
     },
     "execution_count": 36,
     "metadata": {},
     "output_type": "execute_result"
    }
   ],
   "source": [
    "tickers"
   ]
  },
  {
   "cell_type": "markdown",
   "id": "7bea2522",
   "metadata": {},
   "source": [
    "# Select period u are intrested in"
   ]
  },
  {
   "cell_type": "code",
   "execution_count": 12,
   "id": "3113b60e",
   "metadata": {},
   "outputs": [],
   "source": [
    "start = '2012-04-01'\n",
    "end = '2022-04-20'"
   ]
  },
  {
   "cell_type": "code",
   "execution_count": null,
   "id": "aa6ce4fc",
   "metadata": {},
   "outputs": [],
   "source": []
  },
  {
   "cell_type": "code",
   "execution_count": 7,
   "id": "6fdc70bb",
   "metadata": {},
   "outputs": [],
   "source": [
    "# function that check first day that stock is aveliable on yahoo\n",
    "# We must have all stock in same period, so the most recent day will be begining of analysis\n",
    "# The conclusion is that start date does not have to be true period of analysis becouse it also depend on aveliability of data\n",
    "\n",
    "def find_first_date_from_choesen_stosks(start, end, tickers):\n",
    "    \n",
    "    # download data\n",
    "    df = pd.DataFrame(index=tickers)\n",
    "    for ticker in tickers:\n",
    "        # closing prices\n",
    "        df[ticker] = pdr.get_data_yahoo(ticker, start=start, end=end).first_valid_index()\n",
    "        df.append(df[ticker])\n",
    "\n",
    "    # Check oldest start date for all tickers (max means oldest in this case)\n",
    "    first_date = df.iloc[0].max()\n",
    "    first_date_ticker = tickers[df.iloc[0].argmax()]\n",
    "    \n",
    "    print(f'First aveliable date to comapre stocks is {first_date}. This stock is {first_date_ticker}.')\n",
    "    print('---------------------------------------------------')\n",
    "    print('If this is to short period, You can always unmark stock with the lowest start date aveliable')\n",
    "    \n",
    "    return first_date"
   ]
  },
  {
   "cell_type": "markdown",
   "id": "6ca7c84f",
   "metadata": {},
   "source": [
    "## Check if choesen period does not start to early\n",
    "\n",
    "Find first date that singular stock has emerged. The latest date will be final start date, becouse to make QA we need the same periods for all stocks!!!"
   ]
  },
  {
   "cell_type": "code",
   "execution_count": 14,
   "id": "8b354e67",
   "metadata": {},
   "outputs": [
    {
     "name": "stdout",
     "output_type": "stream",
     "text": [
      "First aveliable date to comapre stocks is 2014-09-17 00:00:00. This stock is BTC-USD.\n",
      "---------------------------------------------------\n",
      "If this is to short period, You can always unmark stock with the lowest start date aveliable\n"
     ]
    }
   ],
   "source": [
    "new_start = find_first_date_from_choesen_stosks(start, end, tickers)"
   ]
  },
  {
   "cell_type": "code",
   "execution_count": 15,
   "id": "11ecf164",
   "metadata": {},
   "outputs": [
    {
     "data": {
      "text/plain": [
       "Timestamp('2014-09-17 00:00:00')"
      ]
     },
     "execution_count": 15,
     "metadata": {},
     "output_type": "execute_result"
    }
   ],
   "source": [
    "new_start"
   ]
  },
  {
   "cell_type": "code",
   "execution_count": 16,
   "id": "6bfcf753",
   "metadata": {},
   "outputs": [],
   "source": [
    "end = pd.Timestamp(end)"
   ]
  },
  {
   "cell_type": "code",
   "execution_count": 17,
   "id": "52c9325f",
   "metadata": {},
   "outputs": [
    {
     "data": {
      "text/plain": [
       "Timestamp('2022-04-20 00:00:00')"
      ]
     },
     "execution_count": 17,
     "metadata": {},
     "output_type": "execute_result"
    }
   ],
   "source": [
    "end"
   ]
  },
  {
   "cell_type": "markdown",
   "id": "37d9a7c7",
   "metadata": {},
   "source": [
    "# Check day of the week\n",
    "\n",
    "If weekend we need to move to the closest date. For start we move forward, for end me move back"
   ]
  },
  {
   "cell_type": "code",
   "execution_count": 18,
   "id": "658542b5",
   "metadata": {},
   "outputs": [],
   "source": [
    "# Check if user choese working date date. If anserw is YES, then move forward to closest work day\n",
    "def check_start_date(new_start):\n",
    "\n",
    "    # Check if start and end date is weekend or weekday\n",
    "    if new_start.weekday() == 5:\n",
    "\n",
    "        new_start = new_start + dt.timedelta(days=2)\n",
    "\n",
    "    elif new_start.weekday() == 6:\n",
    "\n",
    "        new_start = new_start + dt.timedelta(days=1)\n",
    "\n",
    "    else:\n",
    "        pass\n",
    "\n",
    "    return new_start\n",
    "\n",
    "\n",
    "# Check if user choese working date date. If anserw is YES, then move back to closest work day       \n",
    "def check_end_date(end):\n",
    "\n",
    "    # Check if start and end date is weekend or weekday\n",
    "    if end.weekday() == 5:\n",
    "\n",
    "        end = end + dt.timedelta(days=-1)\n",
    "\n",
    "    elif end.weekday() == 6:\n",
    "\n",
    "        end = end + dt.timedelta(days=-2)\n",
    "\n",
    "    else:\n",
    "        pass\n",
    "\n",
    "    return end"
   ]
  },
  {
   "cell_type": "code",
   "execution_count": 19,
   "id": "d396977c",
   "metadata": {},
   "outputs": [
    {
     "data": {
      "text/plain": [
       "Timestamp('2014-09-17 00:00:00')"
      ]
     },
     "execution_count": 19,
     "metadata": {},
     "output_type": "execute_result"
    }
   ],
   "source": [
    "check_start_date(new_start)"
   ]
  },
  {
   "cell_type": "code",
   "execution_count": 20,
   "id": "a0aa02e6",
   "metadata": {},
   "outputs": [
    {
     "data": {
      "text/plain": [
       "Timestamp('2022-04-20 00:00:00')"
      ]
     },
     "execution_count": 20,
     "metadata": {},
     "output_type": "execute_result"
    }
   ],
   "source": [
    "check_end_date(end)"
   ]
  },
  {
   "cell_type": "markdown",
   "id": "82170f91",
   "metadata": {},
   "source": [
    "### The next step\n",
    "\n",
    "We must prepare the data. Crypto has daily quoted unlike to traditional stock market. We must handle any missing data also if any. All that things done in notebook [here](http://localhost:8888/notebooks/ModernPortfolio_project/1.%20DataPrepFunctions.ipynb)"
   ]
  },
  {
   "cell_type": "code",
   "execution_count": null,
   "id": "956c24c8",
   "metadata": {},
   "outputs": [],
   "source": []
  }
 ],
 "metadata": {
  "kernelspec": {
   "display_name": "Python 3",
   "language": "python",
   "name": "python3"
  },
  "language_info": {
   "codemirror_mode": {
    "name": "ipython",
    "version": 3
   },
   "file_extension": ".py",
   "mimetype": "text/x-python",
   "name": "python",
   "nbconvert_exporter": "python",
   "pygments_lexer": "ipython3",
   "version": "3.8.8"
  }
 },
 "nbformat": 4,
 "nbformat_minor": 5
}
