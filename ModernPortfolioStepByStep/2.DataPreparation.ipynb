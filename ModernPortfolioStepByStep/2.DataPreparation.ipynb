{
 "cells": [
  {
   "cell_type": "code",
   "execution_count": 3,
   "id": "e5a60f45",
   "metadata": {},
   "outputs": [],
   "source": [
    "# Import libraries\n",
    "import numpy as np\n",
    "import pandas as pd\n",
    "import seaborn as sb\n",
    "sb.set()\n",
    "import scipy.optimize as optimization\n",
    "import datetime as dt\n",
    "from datetime import timedelta\n",
    "from matplotlib import rcParams\n",
    "rcParams['figure.figsize'] = 10,6\n",
    "import math\n",
    "import scipy.stats\n",
    "import matplotlib.pyplot as plt\n",
    "import time\n",
    "from ipywidgets import Checkbox\n",
    "import pandas_datareader as pdr\n",
    "import warnings\n",
    "warnings.filterwarnings(\"ignore\")"
   ]
  },
  {
   "cell_type": "code",
   "execution_count": 4,
   "id": "968a1f21",
   "metadata": {},
   "outputs": [],
   "source": [
    "import sys\n",
    "sys.path.append('../../ModernPortfolio_project/DEFINITIONS')\n",
    "\n",
    "import DataPreparation as prep"
   ]
  },
  {
   "cell_type": "markdown",
   "id": "f013eb67",
   "metadata": {},
   "source": [
    "### 5. Prepare data\n",
    "\n",
    "As known traditional markets are listed only in weekdays, but in my modern portfolio model you can choose cryptocarecy stocks also, where days off does not exist. In order for next steps of analysis, all stocks must be in the same date range. I decided not to cut cryptocurrency persion, but instead I added the closing prices to traditional markets for weekend periods (Sat, Sun). The values for weekend is last listed value at week day (friday). In the future I will add funtionality which let's you make that decision."
   ]
  },
  {
   "cell_type": "markdown",
   "id": "fab1ed75",
   "metadata": {},
   "source": [
    "##### 5.1 Chceck quote type\n",
    "\n",
    "We must check quote type of all assets, becouse listing frequency could be different for some of them"
   ]
  },
  {
   "cell_type": "code",
   "execution_count": 5,
   "id": "73ac94ca",
   "metadata": {},
   "outputs": [],
   "source": [
    "tickers = ['CSPX.L', 'BNO', 'AMZN', 'BTC-USD', 'IEF']\n",
    "start = '2014-09-17' # FORMAT: 'yyyy-mm-dd'\n",
    "end = '2022-05-06'"
   ]
  },
  {
   "cell_type": "code",
   "execution_count": 6,
   "id": "ed45e858",
   "metadata": {},
   "outputs": [
    {
     "name": "stdout",
     "output_type": "stream",
     "text": [
      "It looks like some of your assets are cryptocurrencies\n",
      "Crypto markets are listed every single day in addition to traditional stocks\n"
     ]
    }
   ],
   "source": [
    "freq, qType = prep.check_quote_type(tickers, start, end)"
   ]
  },
  {
   "cell_type": "code",
   "execution_count": 7,
   "id": "c76efbf0",
   "metadata": {},
   "outputs": [
    {
     "data": {
      "text/html": [
       "<div>\n",
       "<style scoped>\n",
       "    .dataframe tbody tr th:only-of-type {\n",
       "        vertical-align: middle;\n",
       "    }\n",
       "\n",
       "    .dataframe tbody tr th {\n",
       "        vertical-align: top;\n",
       "    }\n",
       "\n",
       "    .dataframe thead th {\n",
       "        text-align: right;\n",
       "    }\n",
       "</style>\n",
       "<table border=\"1\" class=\"dataframe\">\n",
       "  <thead>\n",
       "    <tr style=\"text-align: right;\">\n",
       "      <th></th>\n",
       "      <th>0</th>\n",
       "    </tr>\n",
       "  </thead>\n",
       "  <tbody>\n",
       "    <tr>\n",
       "      <th>CSPX.L</th>\n",
       "      <td>ETF</td>\n",
       "    </tr>\n",
       "    <tr>\n",
       "      <th>BNO</th>\n",
       "      <td>ETF</td>\n",
       "    </tr>\n",
       "    <tr>\n",
       "      <th>AMZN</th>\n",
       "      <td>EQUITY</td>\n",
       "    </tr>\n",
       "    <tr>\n",
       "      <th>BTC-USD</th>\n",
       "      <td>CRYPTOCURRENCY</td>\n",
       "    </tr>\n",
       "    <tr>\n",
       "      <th>IEF</th>\n",
       "      <td>ETF</td>\n",
       "    </tr>\n",
       "  </tbody>\n",
       "</table>\n",
       "</div>"
      ],
      "text/plain": [
       "                      0\n",
       "CSPX.L              ETF\n",
       "BNO                 ETF\n",
       "AMZN             EQUITY\n",
       "BTC-USD  CRYPTOCURRENCY\n",
       "IEF                 ETF"
      ]
     },
     "execution_count": 7,
     "metadata": {},
     "output_type": "execute_result"
    }
   ],
   "source": [
    "tickers, tic_type = prep.sort_tickers(qType, tickers)\n",
    "tic_type"
   ]
  },
  {
   "cell_type": "code",
   "execution_count": 8,
   "id": "55d6a2be",
   "metadata": {},
   "outputs": [
    {
     "data": {
      "text/plain": [
       "['BTC-USD', 'CSPX.L', 'BNO', 'AMZN', 'IEF']"
      ]
     },
     "execution_count": 8,
     "metadata": {},
     "output_type": "execute_result"
    }
   ],
   "source": [
    "tickers"
   ]
  },
  {
   "cell_type": "markdown",
   "id": "f25548fc",
   "metadata": {},
   "source": [
    "##### 5.2 Select frequency if needed"
   ]
  },
  {
   "cell_type": "code",
   "execution_count": 9,
   "id": "13d00c10",
   "metadata": {},
   "outputs": [],
   "source": [
    "full_DR = Checkbox(description = '365')\n",
    "busieness_DR = Checkbox(description = '252')"
   ]
  },
  {
   "cell_type": "code",
   "execution_count": 10,
   "id": "0843e20b",
   "metadata": {},
   "outputs": [
    {
     "name": "stdout",
     "output_type": "stream",
     "text": [
      "Now you will decide if you want to work on full date range or only business days:\n"
     ]
    },
    {
     "data": {
      "application/vnd.jupyter.widget-view+json": {
       "model_id": "11fe5911181b45249fa804721e0912aa",
       "version_major": 2,
       "version_minor": 0
      },
      "text/plain": [
       "Checkbox(value=False, description='365')"
      ]
     },
     "metadata": {},
     "output_type": "display_data"
    },
    {
     "data": {
      "application/vnd.jupyter.widget-view+json": {
       "model_id": "b28e82a61b1f4798811f2110207abe2a",
       "version_major": 2,
       "version_minor": 0
      },
      "text/plain": [
       "Checkbox(value=False, description='252')"
      ]
     },
     "metadata": {},
     "output_type": "display_data"
    }
   ],
   "source": [
    "full_DR, busieness_DR = prep.select_freq(full_DR, busieness_DR, freq)"
   ]
  },
  {
   "cell_type": "code",
   "execution_count": 11,
   "id": "4b45b424",
   "metadata": {},
   "outputs": [
    {
     "name": "stdout",
     "output_type": "stream",
     "text": [
      "Your choice: ['252']\n"
     ]
    }
   ],
   "source": [
    "choesen_freq = prep.choese_freq(full_DR, busieness_DR, freq)"
   ]
  },
  {
   "cell_type": "markdown",
   "id": "33d13395",
   "metadata": {},
   "source": [
    "##### 5.3 Create prepared dataframe\n"
   ]
  },
  {
   "cell_type": "code",
   "execution_count": 13,
   "id": "352935bf",
   "metadata": {},
   "outputs": [],
   "source": [
    "df, n = prep.createDF_with_choesen_ferq(choesen_freq, tickers, start, end, prep.createPrepDataFrame, prep.PasteMissingRows, prep.create_data_without_weekends, prep.cut_weekends)"
   ]
  },
  {
   "cell_type": "code",
   "execution_count": 15,
   "id": "a9e1b067",
   "metadata": {},
   "outputs": [],
   "source": [
    "df.to_csv('preparedData_252.csv', header=True)"
   ]
  },
  {
   "cell_type": "code",
   "execution_count": null,
   "id": "9135084a",
   "metadata": {},
   "outputs": [],
   "source": []
  },
  {
   "cell_type": "code",
   "execution_count": null,
   "id": "ad6be20e",
   "metadata": {},
   "outputs": [],
   "source": []
  },
  {
   "cell_type": "code",
   "execution_count": null,
   "id": "360cc587",
   "metadata": {},
   "outputs": [],
   "source": []
  },
  {
   "cell_type": "code",
   "execution_count": null,
   "id": "f40a1978",
   "metadata": {},
   "outputs": [],
   "source": []
  },
  {
   "cell_type": "code",
   "execution_count": null,
   "id": "a451f3d5",
   "metadata": {},
   "outputs": [],
   "source": []
  },
  {
   "cell_type": "code",
   "execution_count": null,
   "id": "29b6af5e",
   "metadata": {},
   "outputs": [],
   "source": []
  },
  {
   "cell_type": "code",
   "execution_count": null,
   "id": "6503d540",
   "metadata": {},
   "outputs": [],
   "source": []
  },
  {
   "cell_type": "code",
   "execution_count": null,
   "id": "171f568e",
   "metadata": {},
   "outputs": [],
   "source": []
  },
  {
   "cell_type": "code",
   "execution_count": null,
   "id": "d9cb71fb",
   "metadata": {},
   "outputs": [],
   "source": []
  }
 ],
 "metadata": {
  "kernelspec": {
   "display_name": "Python 3",
   "language": "python",
   "name": "python3"
  },
  "language_info": {
   "codemirror_mode": {
    "name": "ipython",
    "version": 3
   },
   "file_extension": ".py",
   "mimetype": "text/x-python",
   "name": "python",
   "nbconvert_exporter": "python",
   "pygments_lexer": "ipython3",
   "version": "3.8.8"
  }
 },
 "nbformat": 4,
 "nbformat_minor": 5
}
