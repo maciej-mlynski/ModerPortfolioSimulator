{
 "cells": [
  {
   "cell_type": "code",
   "execution_count": 2,
   "id": "87e67fbc",
   "metadata": {},
   "outputs": [],
   "source": [
    "import numpy as np\n",
    "import pandas as pd\n",
    "import seaborn as sb\n",
    "sb.set()\n",
    "import scipy.optimize as optimization\n",
    "import datetime as dt\n",
    "from datetime import timedelta\n",
    "from matplotlib import rcParams\n",
    "rcParams['figure.figsize'] = 10,6\n",
    "import math\n",
    "import scipy.stats\n",
    "import matplotlib.pyplot as plt\n",
    "import time\n",
    "from ipywidgets import Checkbox\n",
    "import pandas_datareader as pdr\n",
    "import warnings\n",
    "warnings.filterwarnings(\"ignore\")"
   ]
  },
  {
   "cell_type": "code",
   "execution_count": 6,
   "id": "71ec7b07",
   "metadata": {},
   "outputs": [],
   "source": [
    "tickers = ['BTC-USD', 'CSPX.L', 'IEF', 'FILL', 'PALL']"
   ]
  },
  {
   "cell_type": "code",
   "execution_count": 7,
   "id": "1fab3542",
   "metadata": {},
   "outputs": [],
   "source": [
    "df = pd.read_csv('../DATA/PrepData.csv',  index_col='Date')"
   ]
  },
  {
   "cell_type": "code",
   "execution_count": 14,
   "id": "f3449367",
   "metadata": {},
   "outputs": [],
   "source": [
    "n = 365"
   ]
  },
  {
   "cell_type": "code",
   "execution_count": 22,
   "id": "b2e86a71",
   "metadata": {},
   "outputs": [
    {
     "data": {
      "text/plain": [
       "Text(0.5, 1.0, 'Correlation Heatmap')"
      ]
     },
     "execution_count": 22,
     "metadata": {},
     "output_type": "execute_result"
    },
    {
     "data": {
      "image/png": "[encoded data removed]",
      "text/plain": [
       "<Figure size 720x432 with 2 Axes>"
      ]
     },
     "metadata": {},
     "output_type": "display_data"
    }
   ],
   "source": [
    "heatmap = sb.heatmap(df.pct_change(n).corr(), annot=True)\n",
    "heatmap.set_title('Correlation Heatmap',fontdict={'fontsize':18})"
   ]
  },
  {
   "cell_type": "code",
   "execution_count": 23,
   "id": "57d30b56",
   "metadata": {},
   "outputs": [
    {
     "data": {
      "text/html": [
       "<div>\n",
       "<style scoped>\n",
       "    .dataframe tbody tr th:only-of-type {\n",
       "        vertical-align: middle;\n",
       "    }\n",
       "\n",
       "    .dataframe tbody tr th {\n",
       "        vertical-align: top;\n",
       "    }\n",
       "\n",
       "    .dataframe thead th {\n",
       "        text-align: right;\n",
       "    }\n",
       "</style>\n",
       "<table border=\"1\" class=\"dataframe\">\n",
       "  <thead>\n",
       "    <tr style=\"text-align: right;\">\n",
       "      <th></th>\n",
       "      <th>BTC-USD</th>\n",
       "      <th>CSPX.L</th>\n",
       "      <th>IEF</th>\n",
       "      <th>FILL</th>\n",
       "      <th>PALL</th>\n",
       "    </tr>\n",
       "  </thead>\n",
       "  <tbody>\n",
       "    <tr>\n",
       "      <th>BTC-USD</th>\n",
       "      <td>1.000000</td>\n",
       "      <td>0.451494</td>\n",
       "      <td>-0.294178</td>\n",
       "      <td>0.284401</td>\n",
       "      <td>0.171291</td>\n",
       "    </tr>\n",
       "    <tr>\n",
       "      <th>CSPX.L</th>\n",
       "      <td>0.451494</td>\n",
       "      <td>1.000000</td>\n",
       "      <td>-0.481463</td>\n",
       "      <td>0.681691</td>\n",
       "      <td>0.228866</td>\n",
       "    </tr>\n",
       "    <tr>\n",
       "      <th>IEF</th>\n",
       "      <td>-0.294178</td>\n",
       "      <td>-0.481463</td>\n",
       "      <td>1.000000</td>\n",
       "      <td>-0.778746</td>\n",
       "      <td>0.319227</td>\n",
       "    </tr>\n",
       "    <tr>\n",
       "      <th>FILL</th>\n",
       "      <td>0.284401</td>\n",
       "      <td>0.681691</td>\n",
       "      <td>-0.778746</td>\n",
       "      <td>1.000000</td>\n",
       "      <td>-0.127796</td>\n",
       "    </tr>\n",
       "    <tr>\n",
       "      <th>PALL</th>\n",
       "      <td>0.171291</td>\n",
       "      <td>0.228866</td>\n",
       "      <td>0.319227</td>\n",
       "      <td>-0.127796</td>\n",
       "      <td>1.000000</td>\n",
       "    </tr>\n",
       "  </tbody>\n",
       "</table>\n",
       "</div>"
      ],
      "text/plain": [
       "          BTC-USD    CSPX.L       IEF      FILL      PALL\n",
       "BTC-USD  1.000000  0.451494 -0.294178  0.284401  0.171291\n",
       "CSPX.L   0.451494  1.000000 -0.481463  0.681691  0.228866\n",
       "IEF     -0.294178 -0.481463  1.000000 -0.778746  0.319227\n",
       "FILL     0.284401  0.681691 -0.778746  1.000000 -0.127796\n",
       "PALL     0.171291  0.228866  0.319227 -0.127796  1.000000"
      ]
     },
     "execution_count": 23,
     "metadata": {},
     "output_type": "execute_result"
    }
   ],
   "source": [
    "df.pct_change(n).corr()"
   ]
  },
  {
   "cell_type": "code",
   "execution_count": null,
   "id": "e3243a54",
   "metadata": {},
   "outputs": [],
   "source": []
  }
 ],
 "metadata": {
  "kernelspec": {
   "display_name": "Python 3",
   "language": "python",
   "name": "python3"
  },
  "language_info": {
   "codemirror_mode": {
    "name": "ipython",
    "version": 3
   },
   "file_extension": ".py",
   "mimetype": "text/x-python",
   "name": "python",
   "nbconvert_exporter": "python",
   "pygments_lexer": "ipython3",
   "version": "3.8.8"
  }
 },
 "nbformat": 4,
 "nbformat_minor": 5
}
