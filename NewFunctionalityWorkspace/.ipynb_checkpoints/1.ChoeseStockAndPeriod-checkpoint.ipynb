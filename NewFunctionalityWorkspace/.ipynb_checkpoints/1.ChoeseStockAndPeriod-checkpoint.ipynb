{
 "cells": [
  {
   "cell_type": "markdown",
   "id": "f8c00879",
   "metadata": {},
   "source": [
    "**I would like to change 2 things in my algo:**\n",
    "\n",
    "1. Add more tickers to choese for use\n",
    "2. Add aveliability to write own ticker by hand (with error handling if ticker does not exist)"
   ]
  },
  {
   "cell_type": "code",
   "execution_count": 1,
   "id": "9cdcf248",
   "metadata": {},
   "outputs": [],
   "source": [
    "import numpy as np\n",
    "import yfinance as yf\n",
    "import pandas as pd\n",
    "import matplotlib.pyplot as plt\n",
    "import scipy.optimize as optimization\n",
    "import pandas_datareader as pdr\n",
    "import datetime as dt\n",
    "from ipywidgets import Checkbox"
   ]
  },
  {
   "cell_type": "code",
   "execution_count": 2,
   "id": "44727e81",
   "metadata": {},
   "outputs": [],
   "source": [
    "# def function that take selected tickers\n",
    "def choese_stock(tick):\n",
    "\n",
    "    # All aveliable tickers\n",
    "    tickers = [SPX_, FXI_, GMF_, EXS1_, VGK_,DBC_, FILL_, BNO_, PICK_,SGOL_, PPLT_, SIVR_, PALL_,BTC_,IEF_]\n",
    "    \n",
    "    # Tickers that user selectes\n",
    "    choesen_ticker = []\n",
    "\n",
    "    # Add tickers to choesen ticker by loop\n",
    "    for ticker in tickers:\n",
    "\n",
    "        if ticker.get_interact_value() == True:\n",
    "            ticker_name = ticker.description\n",
    "            choesen_ticker.append(ticker_name)\n",
    "\n",
    "        else:\n",
    "            pass\n",
    "\n",
    "    # Condition: You must select at least 2 stocks\n",
    "    if len(choesen_ticker) <2:\n",
    "        print('You must select at least 2 stocks in analyse perpouse')\n",
    "    \n",
    "    # If condiction is fulfilled then print choesen tickers\n",
    "    else:\n",
    "        print(f'Your choice: {choesen_ticker}')\n",
    "        \n",
    "    return choesen_ticker\n"
   ]
  },
  {
   "cell_type": "code",
   "execution_count": 3,
   "id": "7db463d1",
   "metadata": {},
   "outputs": [],
   "source": [
    "def add_stock_by_hand(tickers, new_tickers):\n",
    "    \n",
    "    for ticker in new_tickers:\n",
    "\n",
    "        # Check if ticker has not been taken already in checkbox\n",
    "        if ticker in tickers:\n",
    "                print(f'{ticker} has been already choesen priviously')\n",
    "        else:\n",
    "\n",
    "            # If no check if ticker exist in Yahoo Finance\n",
    "            try:\n",
    "                check_ticker = pdr.get_data_yahoo(ticker).first_valid_index()\n",
    "                tickers.append(ticker)\n",
    "                # If exist add to tickers array\n",
    "                print(f'{ticker} exist in Yahoo Finance and has been added to your analysis')\n",
    "\n",
    "            # If does not exist print comment\n",
    "            except:\n",
    "                print(f'{ticker} does not exist in Yahoo Finance')\n",
    "                \n",
    "    return tickers"
   ]
  },
  {
   "cell_type": "code",
   "execution_count": 4,
   "id": "1130f2b7",
   "metadata": {},
   "outputs": [],
   "source": [
    "# Create checkbox listo to choese\n",
    "SPX_= Checkbox(description = 'CSPX.L')\n",
    "BTC_ = Checkbox(description = 'BTC-USD')\n",
    "IEF_ = Checkbox(description = 'IEF')\n",
    "FILL_ = Checkbox(description = 'FILL')\n",
    "PALL_ = Checkbox(description = 'PALL')\n",
    "FXI_ = Checkbox(description = 'FXI')\n",
    "GMF_ = Checkbox(description = 'GMF')\n",
    "EXS1_ = Checkbox(description = 'EXS1.DE')\n",
    "VGK_ = Checkbox(description = 'VGK')\n",
    "DBC_ = Checkbox(description = 'DBC')\n",
    "BNO_ = Checkbox(description = 'BNO')\n",
    "PICK_ = Checkbox(description = 'PICK')\n",
    "SGOL_ = Checkbox(description = 'SGOL')\n",
    "PPLT_ = Checkbox(description = 'PPLT')\n",
    "SIVR_ = Checkbox(description = 'SIVR')\n",
    "BNO_ = Checkbox(description = 'BNO')"
   ]
  },
  {
   "cell_type": "markdown",
   "id": "cbe70051",
   "metadata": {},
   "source": [
    "**1.Add more tickers**"
   ]
  },
  {
   "cell_type": "code",
   "execution_count": 7,
   "id": "4739767e",
   "metadata": {},
   "outputs": [
    {
     "data": {
      "text/plain": [
       "'Equity'"
      ]
     },
     "metadata": {},
     "output_type": "display_data"
    },
    {
     "data": {
      "application/vnd.jupyter.widget-view+json": {
       "model_id": "dee5299f4c274909ab8c0551347858bf",
       "version_major": 2,
       "version_minor": 0
      },
      "text/plain": [
       "Checkbox(value=False, description='CSPX.L')"
      ]
     },
     "metadata": {},
     "output_type": "display_data"
    },
    {
     "data": {
      "application/vnd.jupyter.widget-view+json": {
       "model_id": "34919563917a4b73b01a93c73b3f104d",
       "version_major": 2,
       "version_minor": 0
      },
      "text/plain": [
       "Checkbox(value=False, description='FXI')"
      ]
     },
     "metadata": {},
     "output_type": "display_data"
    },
    {
     "data": {
      "application/vnd.jupyter.widget-view+json": {
       "model_id": "ee0a0daa43294655a91cc45fd105248f",
       "version_major": 2,
       "version_minor": 0
      },
      "text/plain": [
       "Checkbox(value=False, description='GMF')"
      ]
     },
     "metadata": {},
     "output_type": "display_data"
    },
    {
     "data": {
      "application/vnd.jupyter.widget-view+json": {
       "model_id": "15bf2ab37f10466c9815cc0fda9b5432",
       "version_major": 2,
       "version_minor": 0
      },
      "text/plain": [
       "Checkbox(value=False, description='EXS1.DE')"
      ]
     },
     "metadata": {},
     "output_type": "display_data"
    },
    {
     "data": {
      "application/vnd.jupyter.widget-view+json": {
       "model_id": "47201d0ba1e145f29dfc4097907df5d0",
       "version_major": 2,
       "version_minor": 0
      },
      "text/plain": [
       "Checkbox(value=False, description='VGK')"
      ]
     },
     "metadata": {},
     "output_type": "display_data"
    },
    {
     "data": {
      "text/plain": [
       "'Comodity'"
      ]
     },
     "metadata": {},
     "output_type": "display_data"
    },
    {
     "data": {
      "application/vnd.jupyter.widget-view+json": {
       "model_id": "1327819b093e4a9dba0487409ccf5b7d",
       "version_major": 2,
       "version_minor": 0
      },
      "text/plain": [
       "Checkbox(value=False, description='DBC')"
      ]
     },
     "metadata": {},
     "output_type": "display_data"
    },
    {
     "data": {
      "application/vnd.jupyter.widget-view+json": {
       "model_id": "0367a1a41ca040c78616815c39deee6b",
       "version_major": 2,
       "version_minor": 0
      },
      "text/plain": [
       "Checkbox(value=False, description='FILL')"
      ]
     },
     "metadata": {},
     "output_type": "display_data"
    },
    {
     "data": {
      "application/vnd.jupyter.widget-view+json": {
       "model_id": "a432127d8bc64bf7a0a6db2b8861e218",
       "version_major": 2,
       "version_minor": 0
      },
      "text/plain": [
       "Checkbox(value=True, description='BNO')"
      ]
     },
     "metadata": {},
     "output_type": "display_data"
    },
    {
     "data": {
      "application/vnd.jupyter.widget-view+json": {
       "model_id": "c4fcc8f3a1b24f78924c0ce03e775d6e",
       "version_major": 2,
       "version_minor": 0
      },
      "text/plain": [
       "Checkbox(value=False, description='PICK')"
      ]
     },
     "metadata": {},
     "output_type": "display_data"
    },
    {
     "data": {
      "text/plain": [
       "'Precious metals'"
      ]
     },
     "metadata": {},
     "output_type": "display_data"
    },
    {
     "data": {
      "application/vnd.jupyter.widget-view+json": {
       "model_id": "58c818b01be048269ca2cb7348be4d75",
       "version_major": 2,
       "version_minor": 0
      },
      "text/plain": [
       "Checkbox(value=False, description='SGOL')"
      ]
     },
     "metadata": {},
     "output_type": "display_data"
    },
    {
     "data": {
      "application/vnd.jupyter.widget-view+json": {
       "model_id": "fa6195b4a15a4c5fbda3caa008d66603",
       "version_major": 2,
       "version_minor": 0
      },
      "text/plain": [
       "Checkbox(value=True, description='PPLT')"
      ]
     },
     "metadata": {},
     "output_type": "display_data"
    },
    {
     "data": {
      "application/vnd.jupyter.widget-view+json": {
       "model_id": "60f44fa1638040da9f6af26ca2c0848e",
       "version_major": 2,
       "version_minor": 0
      },
      "text/plain": [
       "Checkbox(value=False, description='SIVR')"
      ]
     },
     "metadata": {},
     "output_type": "display_data"
    },
    {
     "data": {
      "application/vnd.jupyter.widget-view+json": {
       "model_id": "7e4f2499dff34a719b551547157729eb",
       "version_major": 2,
       "version_minor": 0
      },
      "text/plain": [
       "Checkbox(value=False, description='PALL')"
      ]
     },
     "metadata": {},
     "output_type": "display_data"
    },
    {
     "data": {
      "text/plain": [
       "'Crypto'"
      ]
     },
     "metadata": {},
     "output_type": "display_data"
    },
    {
     "data": {
      "application/vnd.jupyter.widget-view+json": {
       "model_id": "867c3679ded3436d9127fbad5fd58336",
       "version_major": 2,
       "version_minor": 0
      },
      "text/plain": [
       "Checkbox(value=False, description='BTC-USD')"
      ]
     },
     "metadata": {},
     "output_type": "display_data"
    },
    {
     "data": {
      "text/plain": [
       "'Bonds'"
      ]
     },
     "metadata": {},
     "output_type": "display_data"
    },
    {
     "data": {
      "application/vnd.jupyter.widget-view+json": {
       "model_id": "08e74d312301431bab8e9724bdde850f",
       "version_major": 2,
       "version_minor": 0
      },
      "text/plain": [
       "Checkbox(value=True, description='IEF')"
      ]
     },
     "metadata": {},
     "output_type": "display_data"
    }
   ],
   "source": [
    "tick = display('Equity', SPX_, FXI_, GMF_, EXS1_, VGK_, \\\n",
    "        'Comodity', DBC_, FILL_, BNO_, PICK_, \\\n",
    "        'Precious metals', SGOL_, PPLT_, SIVR_, PALL_,\\\n",
    "       'Crypto', BTC_, \\\n",
    "       'Bonds', IEF_)"
   ]
  },
  {
   "cell_type": "code",
   "execution_count": 9,
   "id": "8a67601d",
   "metadata": {},
   "outputs": [
    {
     "name": "stdout",
     "output_type": "stream",
     "text": [
      "Your choice: ['BNO', 'PPLT', 'IEF']\n"
     ]
    }
   ],
   "source": [
    "tickers = choese_stock(tick)"
   ]
  },
  {
   "cell_type": "markdown",
   "id": "a48e06d8",
   "metadata": {},
   "source": [
    "**2. Add option to write own ticker**"
   ]
  },
  {
   "cell_type": "code",
   "execution_count": 7,
   "id": "477f791f",
   "metadata": {},
   "outputs": [],
   "source": [
    "# First we must check if ticker exist\n",
    "new_tickers = ['AMZN', 'TSLAAOOA', 'BTC-USD'] # FORMAT eg. ticker = ['AMZN', 'TSLA', 'GM']"
   ]
  },
  {
   "cell_type": "code",
   "execution_count": 9,
   "id": "e83d197d",
   "metadata": {},
   "outputs": [
    {
     "name": "stdout",
     "output_type": "stream",
     "text": [
      "AMZN has been already choesen priviously\n",
      "TSLAAOOA does not exist in Yahoo Finance\n",
      "BTC-USD has been already choesen priviously\n"
     ]
    }
   ],
   "source": [
    "tickers = add_stock_by_hand(tickers, new_tickers)"
   ]
  },
  {
   "cell_type": "code",
   "execution_count": 10,
   "id": "fee7a24d",
   "metadata": {},
   "outputs": [
    {
     "data": {
      "text/plain": [
       "['FXI', 'FILL', 'SGOL', 'SIVR', 'BTC-USD', 'AMZN']"
      ]
     },
     "execution_count": 10,
     "metadata": {},
     "output_type": "execute_result"
    }
   ],
   "source": [
    "tickers"
   ]
  },
  {
   "cell_type": "code",
   "execution_count": 11,
   "id": "2e0142fc",
   "metadata": {},
   "outputs": [],
   "source": [
    "tick"
   ]
  },
  {
   "cell_type": "code",
   "execution_count": null,
   "id": "3106d469",
   "metadata": {},
   "outputs": [],
   "source": []
  }
 ],
 "metadata": {
  "kernelspec": {
   "display_name": "Python 3",
   "language": "python",
   "name": "python3"
  },
  "language_info": {
   "codemirror_mode": {
    "name": "ipython",
    "version": 3
   },
   "file_extension": ".py",
   "mimetype": "text/x-python",
   "name": "python",
   "nbconvert_exporter": "python",
   "pygments_lexer": "ipython3",
   "version": "3.8.8"
  }
 },
 "nbformat": 4,
 "nbformat_minor": 5
}
