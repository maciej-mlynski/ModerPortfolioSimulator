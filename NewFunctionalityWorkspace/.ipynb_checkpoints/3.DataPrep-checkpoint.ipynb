{
 "cells": [
  {
   "cell_type": "markdown",
   "id": "7153042a",
   "metadata": {},
   "source": [
    "**I would like to add option for user to choose if want to drop market listing at weekends. Since now algo automaticly add weekends**\n",
    "\n",
    "To be more clear. Crypto markets are listed every single day, unlik traditional stocks. I decided that I will repeat Friday's stock prices for Sat and Sunday, just in case user will choose crypto for analysis. Now I want user to make that decision for himself. Deletion is obvously much easer to implement, but there will be lots of changes after, becouse of the multiplier, which was always 365, but now It will depend on user choice (252 or 365)."
   ]
  },
  {
   "cell_type": "markdown",
   "id": "7c954038",
   "metadata": {},
   "source": [
    "#### Steps\n",
    "1. Check if portfolio assets contains crypto\n",
    "2. If the anserw is YES, ask if want to cut or add trading days\n",
    "3. It the anserw is NO, automaticly just do nothing, just append stocks to one Data Frame\n",
    "\n",
    "* Other changes will be added in Markowitz Simulation notebook, but here we must add 'n' paramiters to last return in definition"
   ]
  },
  {
   "cell_type": "code",
   "execution_count": 1,
   "id": "76fa202a",
   "metadata": {},
   "outputs": [],
   "source": [
    "import numpy as np\n",
    "import pandas as pd\n",
    "import seaborn as sb\n",
    "sb.set()\n",
    "import scipy.optimize as optimization\n",
    "import datetime as dt\n",
    "from matplotlib import rcParams\n",
    "rcParams['figure.figsize'] = 10,6\n",
    "import math\n",
    "import scipy.stats\n",
    "import matplotlib.pyplot as plt\n",
    "import time\n",
    "import pandas_datareader as pdr\n",
    "from ipywidgets import Checkbox\n",
    "from dateutil.relativedelta import relativedelta\n",
    "import warnings\n",
    "warnings.filterwarnings(\"ignore\")"
   ]
  },
  {
   "cell_type": "code",
   "execution_count": 2,
   "id": "eb47fc03",
   "metadata": {},
   "outputs": [],
   "source": [
    "class PasteMissingRows:\n",
    "    \n",
    "    def __init__(self, ticker, start_date, end_date):\n",
    "        \n",
    "        self.df = None\n",
    "        self.dates_check = None\n",
    "        self.df_result = None\n",
    "        self.ticker = ticker\n",
    "        self.start_date = start_date\n",
    "        self.end_date = end_date\n",
    "\n",
    "          \n",
    "    def Download_df(self):\n",
    "        \n",
    "        # Download data from yahoo\n",
    "        stock_data = pdr.get_data_yahoo([self.ticker], start = self.start_date, end = self.end_date)['Adj Close']\n",
    "        \n",
    "        df = pd.DataFrame(stock_data)\n",
    "        # Make copy and reset index\n",
    "        df.reset_index(inplace=True)\n",
    "        \n",
    "        return df\n",
    "            \n",
    "        \n",
    "    def Create_df_with_all_dates(self):\n",
    "        \n",
    "        df = self.Download_df()\n",
    "\n",
    "        # Range of dates\n",
    "        dates_check = pd.DataFrame({\"dates\":pd.date_range(start = self.start_date, end = self.end_date)})\n",
    "\n",
    "        return dates_check   \n",
    "    \n",
    "    # Function to insert row in the dataframe\n",
    "    def Insert_value(self,row_number, df, row_value):\n",
    "\n",
    "        # Slice above rows\n",
    "        df1 = df[0:row_number]\n",
    "\n",
    "        # Store below rows\n",
    "        df2 = df[row_number:]\n",
    "\n",
    "        # Insert the row in the upper half dataframe\n",
    "        df1.loc[row_number] = row_value\n",
    "\n",
    "        # Concat the two dataframes\n",
    "        df_result = pd.concat([df1, df2])\n",
    "\n",
    "        # Reassign the index labels\n",
    "        df_result.index = [*range(df_result.shape[0])]\n",
    "        \n",
    "        return df_result\n",
    "\n",
    "    # Function that detect mising rows in df and add previous values where missing\n",
    "    def Insert_row_to_df(self):\n",
    "        \n",
    "        dates_check = self.Create_df_with_all_dates()\n",
    "        df = self.Download_df()\n",
    "        \n",
    "        if len(df) < len(dates_check):\n",
    "        \n",
    "            for i in range(1, len(dates_check)):\n",
    "\n",
    "                # if diff between next days is > 1\n",
    "                if (df['Date'].loc[i] - df['Date'].loc[i-1]).days > 1:\n",
    "\n",
    "                    # first [0]+1 = 1\n",
    "                    row_number = i\n",
    "                    row_value = [dates_check['dates'].iloc[i-1], df[self.ticker].iloc[i-1]]\n",
    "\n",
    "                    # Let's call the function and insert the row\n",
    "                    df = self.Insert_value(row_number, df, row_value)\n",
    "                    df = df.sort_values(by=\"Date\")\n",
    "\n",
    "                else:\n",
    "                    df = df.sort_values(by=\"Date\")\n",
    "                    \n",
    "            df.drop_duplicates(subset=None, keep='first', inplace=True)\n",
    "                    \n",
    "        else:\n",
    "            pass\n",
    "            df = df[:-1]\n",
    "  \n",
    "    \n",
    "        return df\n",
    "    \n",
    "    \n",
    "def createPrepDataFrame(tickers, start, end, PasteMissingRows):    \n",
    "    \n",
    "    data = pd.DataFrame()\n",
    "\n",
    "    # loop by tickers\n",
    "    for ticker in tickers:\n",
    "\n",
    "        # Use function to insert missing rows for each ticker\n",
    "        dt = PasteMissingRows(ticker=ticker, start_date=start, end_date=end).Insert_row_to_df()\n",
    "\n",
    "        # Set index for proper concating\n",
    "        dt.set_index('Date', inplace=True)\n",
    "\n",
    "        # Add column named as ticker with values from function\n",
    "        data[ticker] = dt\n",
    "    \n",
    "    return data"
   ]
  },
  {
   "cell_type": "code",
   "execution_count": 3,
   "id": "0db66c68",
   "metadata": {},
   "outputs": [],
   "source": [
    "def check_quote_type(ticker, start, end):\n",
    "\n",
    "    qType = pd.DataFrame(index=tickers)\n",
    "\n",
    "    for ticker in tickers:\n",
    "        qType[ticker] = pdr.get_quote_yahoo(ticker, start = start, end = end)['quoteType'].iloc[0]\n",
    "\n",
    "    unique_types = qType.iloc[0].unique()\n",
    "    for i in range(len(unique_types)):\n",
    "\n",
    "        if unique_types[i] == 'CRYPTOCURRENCY':\n",
    "\n",
    "            print('It looks like some of your assets are cryptocurrencies')\n",
    "            print('Crypto markets are listed every single day in addition to traditional stocks')\n",
    "\n",
    "            freq = 'choese freq'\n",
    "            break\n",
    "\n",
    "        else:\n",
    "            freq = 'business days'\n",
    "            print('It look like that all of your assets come from the traditional market, which is quoted every business day')\n",
    "            break\n",
    "            \n",
    "    return freq"
   ]
  },
  {
   "cell_type": "code",
   "execution_count": 4,
   "id": "ab1d37a3",
   "metadata": {},
   "outputs": [],
   "source": [
    "def select_freq(full_DR, busieness_DR):\n",
    "    \n",
    "    if freq == 'choese freq':\n",
    "        \n",
    "        print('Now you will decide if you want to work on full date range or only business days:')\n",
    "        display(full_DR, busieness_DR)\n",
    "\n",
    "    else:\n",
    "        pass\n",
    "        \n",
    "    return full_DR, busieness_DR"
   ]
  },
  {
   "cell_type": "code",
   "execution_count": 5,
   "id": "07517fcb",
   "metadata": {},
   "outputs": [],
   "source": [
    "def choese_freq(full_DR, busieness_DR, freq):\n",
    "    \n",
    "    if freq == 'choese freq':\n",
    "\n",
    "        # All aveliable tickers\n",
    "        freqs = [full_DR, busieness_DR]\n",
    "\n",
    "        # Tickers that user selectes\n",
    "        choesen_freq = []\n",
    "\n",
    "        # Add tickers to choesen ticker by loop\n",
    "        for freq in freqs:\n",
    "\n",
    "            if freq.get_interact_value() == True:\n",
    "                freq_name = freq.description\n",
    "                choesen_freq.append(freq_name)\n",
    "\n",
    "            else:\n",
    "                pass\n",
    "\n",
    "        # Condition: You must select at least 2 stocks\n",
    "        if len(choesen_freq) <1:\n",
    "            print('You must select at least 1 frequency to continue')\n",
    "            \n",
    "        elif len(choesen_freq) > 1:\n",
    "            print('You can NOT select more than 1 frequency at a time')\n",
    "\n",
    "        # If condiction is fulfilled then print choesen tickers\n",
    "        else:\n",
    "            print(f'Your choice: {choesen_freq}')\n",
    "            \n",
    "    else:\n",
    "        choesen_freq = ['252']\n",
    "        \n",
    "\n",
    "    return choesen_freq"
   ]
  },
  {
   "cell_type": "markdown",
   "id": "8849ff65",
   "metadata": {},
   "source": [
    "##### Check if any of data is crypto asset"
   ]
  },
  {
   "cell_type": "code",
   "execution_count": 14,
   "id": "9d40d367",
   "metadata": {},
   "outputs": [],
   "source": [
    "# I choese period and stocks based on calculations from \"ChoeseStockAndPerio\"\n",
    "# In final notebook I will compare all functions together\n",
    "start = '2014-09-17'\n",
    "end = '2022-04-20'\n",
    "\n",
    "start = pd.Timestamp(start)\n",
    "end = pd.Timestamp(end)\n",
    "\n",
    "tickers = ['BTC-USD','ETH-USD', 'CSPX.L', 'IEF', 'FILL', 'PALL']"
   ]
  },
  {
   "cell_type": "code",
   "execution_count": 15,
   "id": "04f517ec",
   "metadata": {},
   "outputs": [],
   "source": [
    "# Checkboxs\n",
    "full_DR = Checkbox(description = '365')\n",
    "busieness_DR = Checkbox(description = '252')"
   ]
  },
  {
   "cell_type": "code",
   "execution_count": 16,
   "id": "e40059fa",
   "metadata": {},
   "outputs": [
    {
     "name": "stdout",
     "output_type": "stream",
     "text": [
      "It looks like some of your assets are cryptocurrencies\n",
      "Crypto markets are listed every single day in addition to traditional stocks\n"
     ]
    }
   ],
   "source": [
    "freq = check_quote_type(tickers, start, end)"
   ]
  },
  {
   "cell_type": "code",
   "execution_count": 17,
   "id": "d589c138",
   "metadata": {},
   "outputs": [
    {
     "data": {
      "text/plain": [
       "'choese freq'"
      ]
     },
     "execution_count": 17,
     "metadata": {},
     "output_type": "execute_result"
    }
   ],
   "source": [
    "freq"
   ]
  },
  {
   "cell_type": "code",
   "execution_count": 18,
   "id": "aa7f1427",
   "metadata": {},
   "outputs": [
    {
     "name": "stdout",
     "output_type": "stream",
     "text": [
      "Now you will decide if you want to work on full date range or only business days:\n"
     ]
    },
    {
     "data": {
      "application/vnd.jupyter.widget-view+json": {
       "model_id": "2eb7bcc358f34c89be46cdbd1756e43a",
       "version_major": 2,
       "version_minor": 0
      },
      "text/plain": [
       "Checkbox(value=False, description='365')"
      ]
     },
     "metadata": {},
     "output_type": "display_data"
    },
    {
     "data": {
      "application/vnd.jupyter.widget-view+json": {
       "model_id": "7ea05a68e231498aa222b6e6aeba5aad",
       "version_major": 2,
       "version_minor": 0
      },
      "text/plain": [
       "Checkbox(value=False, description='252')"
      ]
     },
     "metadata": {},
     "output_type": "display_data"
    }
   ],
   "source": [
    "full_DR, busieness_DR = select_freq(full_DR, busieness_DR)"
   ]
  },
  {
   "cell_type": "code",
   "execution_count": 21,
   "id": "9f55fa98",
   "metadata": {},
   "outputs": [
    {
     "name": "stdout",
     "output_type": "stream",
     "text": [
      "Your choice: ['365']\n"
     ]
    }
   ],
   "source": [
    "choesen_freq = choese_freq(full_DR, busieness_DR, freq)"
   ]
  },
  {
   "cell_type": "code",
   "execution_count": 23,
   "id": "2b905cc9",
   "metadata": {},
   "outputs": [
    {
     "name": "stdout",
     "output_type": "stream",
     "text": [
      "shit\n"
     ]
    }
   ],
   "source": [
    "if choesen_freq[0] == '252':\n",
    "    print('ok')\n",
    "    \n",
    "else:\n",
    "    #df = createPrepDataFrame(tickers, start, end, PasteMissingRows)\n",
    "    print('shit')"
   ]
  },
  {
   "cell_type": "code",
   "execution_count": 20,
   "id": "a20429a0",
   "metadata": {},
   "outputs": [
    {
     "data": {
      "text/plain": [
       "'252'"
      ]
     },
     "execution_count": 20,
     "metadata": {},
     "output_type": "execute_result"
    }
   ],
   "source": [
    "choesen_freq[0]"
   ]
  },
  {
   "cell_type": "code",
   "execution_count": 82,
   "id": "9266d626",
   "metadata": {},
   "outputs": [],
   "source": [
    "data = pdr.get_data_yahoo(['BTC-USD'], start = start, end = end)['Adj Close']"
   ]
  },
  {
   "cell_type": "code",
   "execution_count": 52,
   "id": "e35c27c0",
   "metadata": {},
   "outputs": [
    {
     "data": {
      "text/plain": [
       "Timestamp('2014-09-17 00:00:00')"
      ]
     },
     "execution_count": 52,
     "metadata": {},
     "output_type": "execute_result"
    }
   ],
   "source": [
    "data.index[0]"
   ]
  },
  {
   "cell_type": "code",
   "execution_count": 101,
   "id": "7687b57b",
   "metadata": {},
   "outputs": [],
   "source": [
    "def cut_weekends(data):\n",
    "\n",
    "    for i in range(len(data)):\n",
    "\n",
    "        if data.index[i].weekday() > 4:\n",
    "            data.drop(data.index[i], inplace=True)\n",
    "\n",
    "        else:\n",
    "            pass\n",
    "        \n",
    "    return data"
   ]
  },
  {
   "cell_type": "code",
   "execution_count": 104,
   "id": "600bd0d5",
   "metadata": {},
   "outputs": [
    {
     "ename": "IndexError",
     "evalue": "index 2378 is out of bounds for axis 0 with size 2378",
     "output_type": "error",
     "traceback": [
      "\u001b[1;31m---------------------------------------------------------------------------\u001b[0m",
      "\u001b[1;31mIndexError\u001b[0m                                Traceback (most recent call last)",
      "\u001b[1;32m<ipython-input-104-e7528c25621a>\u001b[0m in \u001b[0;36m<module>\u001b[1;34m\u001b[0m\n\u001b[0;32m      7\u001b[0m     \u001b[0mdt\u001b[0m \u001b[1;33m=\u001b[0m \u001b[0mpdr\u001b[0m\u001b[1;33m.\u001b[0m\u001b[0mget_data_yahoo\u001b[0m\u001b[1;33m(\u001b[0m\u001b[1;33m[\u001b[0m\u001b[0mticker\u001b[0m\u001b[1;33m]\u001b[0m\u001b[1;33m,\u001b[0m \u001b[0mstart\u001b[0m \u001b[1;33m=\u001b[0m \u001b[0mstart\u001b[0m\u001b[1;33m,\u001b[0m \u001b[0mend\u001b[0m \u001b[1;33m=\u001b[0m \u001b[0mend\u001b[0m\u001b[1;33m)\u001b[0m\u001b[1;33m[\u001b[0m\u001b[1;34m'Adj Close'\u001b[0m\u001b[1;33m]\u001b[0m\u001b[1;33m\u001b[0m\u001b[1;33m\u001b[0m\u001b[0m\n\u001b[0;32m      8\u001b[0m \u001b[1;33m\u001b[0m\u001b[0m\n\u001b[1;32m----> 9\u001b[1;33m     \u001b[0mdt\u001b[0m \u001b[1;33m=\u001b[0m \u001b[0mcut_weekends\u001b[0m\u001b[1;33m(\u001b[0m\u001b[0mdata\u001b[0m\u001b[1;33m=\u001b[0m\u001b[0mdt\u001b[0m\u001b[1;33m)\u001b[0m\u001b[1;33m\u001b[0m\u001b[1;33m\u001b[0m\u001b[0m\n\u001b[0m\u001b[0;32m     10\u001b[0m \u001b[1;33m\u001b[0m\u001b[0m\n\u001b[0;32m     11\u001b[0m     \u001b[1;31m# Set index for proper concating\u001b[0m\u001b[1;33m\u001b[0m\u001b[1;33m\u001b[0m\u001b[1;33m\u001b[0m\u001b[0m\n",
      "\u001b[1;32m<ipython-input-101-de12dcc09f25>\u001b[0m in \u001b[0;36mcut_weekends\u001b[1;34m(data)\u001b[0m\n\u001b[0;32m      3\u001b[0m     \u001b[1;32mfor\u001b[0m \u001b[0mi\u001b[0m \u001b[1;32min\u001b[0m \u001b[0mrange\u001b[0m\u001b[1;33m(\u001b[0m\u001b[0mlen\u001b[0m\u001b[1;33m(\u001b[0m\u001b[0mdata\u001b[0m\u001b[1;33m)\u001b[0m\u001b[1;33m)\u001b[0m\u001b[1;33m:\u001b[0m\u001b[1;33m\u001b[0m\u001b[1;33m\u001b[0m\u001b[0m\n\u001b[0;32m      4\u001b[0m \u001b[1;33m\u001b[0m\u001b[0m\n\u001b[1;32m----> 5\u001b[1;33m         \u001b[1;32mif\u001b[0m \u001b[0mdata\u001b[0m\u001b[1;33m.\u001b[0m\u001b[0mindex\u001b[0m\u001b[1;33m[\u001b[0m\u001b[0mi\u001b[0m\u001b[1;33m]\u001b[0m\u001b[1;33m.\u001b[0m\u001b[0mweekday\u001b[0m\u001b[1;33m(\u001b[0m\u001b[1;33m)\u001b[0m \u001b[1;33m>\u001b[0m \u001b[1;36m4\u001b[0m\u001b[1;33m:\u001b[0m\u001b[1;33m\u001b[0m\u001b[1;33m\u001b[0m\u001b[0m\n\u001b[0m\u001b[0;32m      6\u001b[0m             \u001b[0mdata\u001b[0m\u001b[1;33m.\u001b[0m\u001b[0mdrop\u001b[0m\u001b[1;33m(\u001b[0m\u001b[0mdata\u001b[0m\u001b[1;33m.\u001b[0m\u001b[0mindex\u001b[0m\u001b[1;33m[\u001b[0m\u001b[0mi\u001b[0m\u001b[1;33m]\u001b[0m\u001b[1;33m,\u001b[0m \u001b[0minplace\u001b[0m\u001b[1;33m=\u001b[0m\u001b[1;32mTrue\u001b[0m\u001b[1;33m)\u001b[0m\u001b[1;33m\u001b[0m\u001b[1;33m\u001b[0m\u001b[0m\n\u001b[0;32m      7\u001b[0m \u001b[1;33m\u001b[0m\u001b[0m\n",
      "\u001b[1;32mC:\\ProgramData\\Anaconda3\\lib\\site-packages\\pandas\\core\\indexes\\extension.py\u001b[0m in \u001b[0;36m__getitem__\u001b[1;34m(self, key)\u001b[0m\n\u001b[0;32m    277\u001b[0m \u001b[1;33m\u001b[0m\u001b[0m\n\u001b[0;32m    278\u001b[0m     \u001b[1;32mdef\u001b[0m \u001b[0m__getitem__\u001b[0m\u001b[1;33m(\u001b[0m\u001b[0mself\u001b[0m\u001b[1;33m,\u001b[0m \u001b[0mkey\u001b[0m\u001b[1;33m)\u001b[0m\u001b[1;33m:\u001b[0m\u001b[1;33m\u001b[0m\u001b[1;33m\u001b[0m\u001b[0m\n\u001b[1;32m--> 279\u001b[1;33m         \u001b[0mresult\u001b[0m \u001b[1;33m=\u001b[0m \u001b[0mself\u001b[0m\u001b[1;33m.\u001b[0m\u001b[0m_data\u001b[0m\u001b[1;33m[\u001b[0m\u001b[0mkey\u001b[0m\u001b[1;33m]\u001b[0m\u001b[1;33m\u001b[0m\u001b[1;33m\u001b[0m\u001b[0m\n\u001b[0m\u001b[0;32m    280\u001b[0m         \u001b[1;32mif\u001b[0m \u001b[0misinstance\u001b[0m\u001b[1;33m(\u001b[0m\u001b[0mresult\u001b[0m\u001b[1;33m,\u001b[0m \u001b[0mtype\u001b[0m\u001b[1;33m(\u001b[0m\u001b[0mself\u001b[0m\u001b[1;33m.\u001b[0m\u001b[0m_data\u001b[0m\u001b[1;33m)\u001b[0m\u001b[1;33m)\u001b[0m\u001b[1;33m:\u001b[0m\u001b[1;33m\u001b[0m\u001b[1;33m\u001b[0m\u001b[0m\n\u001b[0;32m    281\u001b[0m             \u001b[1;32mif\u001b[0m \u001b[0mresult\u001b[0m\u001b[1;33m.\u001b[0m\u001b[0mndim\u001b[0m \u001b[1;33m==\u001b[0m \u001b[1;36m1\u001b[0m\u001b[1;33m:\u001b[0m\u001b[1;33m\u001b[0m\u001b[1;33m\u001b[0m\u001b[0m\n",
      "\u001b[1;32mC:\\ProgramData\\Anaconda3\\lib\\site-packages\\pandas\\core\\arrays\\datetimelike.py\u001b[0m in \u001b[0;36m__getitem__\u001b[1;34m(self, key)\u001b[0m\n\u001b[0;32m    320\u001b[0m         \u001b[0monly\u001b[0m \u001b[0mhandle\u001b[0m \u001b[0mlist\u001b[0m\u001b[1;33m-\u001b[0m\u001b[0mlikes\u001b[0m\u001b[1;33m,\u001b[0m \u001b[0mslices\u001b[0m\u001b[1;33m,\u001b[0m \u001b[1;32mand\u001b[0m \u001b[0minteger\u001b[0m \u001b[0mscalars\u001b[0m\u001b[1;33m\u001b[0m\u001b[1;33m\u001b[0m\u001b[0m\n\u001b[0;32m    321\u001b[0m         \"\"\"\n\u001b[1;32m--> 322\u001b[1;33m         \u001b[0mresult\u001b[0m \u001b[1;33m=\u001b[0m \u001b[0msuper\u001b[0m\u001b[1;33m(\u001b[0m\u001b[1;33m)\u001b[0m\u001b[1;33m.\u001b[0m\u001b[0m__getitem__\u001b[0m\u001b[1;33m(\u001b[0m\u001b[0mkey\u001b[0m\u001b[1;33m)\u001b[0m\u001b[1;33m\u001b[0m\u001b[1;33m\u001b[0m\u001b[0m\n\u001b[0m\u001b[0;32m    323\u001b[0m         \u001b[1;32mif\u001b[0m \u001b[0mlib\u001b[0m\u001b[1;33m.\u001b[0m\u001b[0mis_scalar\u001b[0m\u001b[1;33m(\u001b[0m\u001b[0mresult\u001b[0m\u001b[1;33m)\u001b[0m\u001b[1;33m:\u001b[0m\u001b[1;33m\u001b[0m\u001b[1;33m\u001b[0m\u001b[0m\n\u001b[0;32m    324\u001b[0m             \u001b[1;32mreturn\u001b[0m \u001b[0mresult\u001b[0m\u001b[1;33m\u001b[0m\u001b[1;33m\u001b[0m\u001b[0m\n",
      "\u001b[1;32mC:\\ProgramData\\Anaconda3\\lib\\site-packages\\pandas\\core\\arrays\\_mixins.py\u001b[0m in \u001b[0;36m__getitem__\u001b[1;34m(self, key)\u001b[0m\n\u001b[0;32m    192\u001b[0m         \u001b[1;32mif\u001b[0m \u001b[0mlib\u001b[0m\u001b[1;33m.\u001b[0m\u001b[0mis_integer\u001b[0m\u001b[1;33m(\u001b[0m\u001b[0mkey\u001b[0m\u001b[1;33m)\u001b[0m\u001b[1;33m:\u001b[0m\u001b[1;33m\u001b[0m\u001b[1;33m\u001b[0m\u001b[0m\n\u001b[0;32m    193\u001b[0m             \u001b[1;31m# fast-path\u001b[0m\u001b[1;33m\u001b[0m\u001b[1;33m\u001b[0m\u001b[1;33m\u001b[0m\u001b[0m\n\u001b[1;32m--> 194\u001b[1;33m             \u001b[0mresult\u001b[0m \u001b[1;33m=\u001b[0m \u001b[0mself\u001b[0m\u001b[1;33m.\u001b[0m\u001b[0m_ndarray\u001b[0m\u001b[1;33m[\u001b[0m\u001b[0mkey\u001b[0m\u001b[1;33m]\u001b[0m\u001b[1;33m\u001b[0m\u001b[1;33m\u001b[0m\u001b[0m\n\u001b[0m\u001b[0;32m    195\u001b[0m             \u001b[1;32mif\u001b[0m \u001b[0mself\u001b[0m\u001b[1;33m.\u001b[0m\u001b[0mndim\u001b[0m \u001b[1;33m==\u001b[0m \u001b[1;36m1\u001b[0m\u001b[1;33m:\u001b[0m\u001b[1;33m\u001b[0m\u001b[1;33m\u001b[0m\u001b[0m\n\u001b[0;32m    196\u001b[0m                 \u001b[1;32mreturn\u001b[0m \u001b[0mself\u001b[0m\u001b[1;33m.\u001b[0m\u001b[0m_box_func\u001b[0m\u001b[1;33m(\u001b[0m\u001b[0mresult\u001b[0m\u001b[1;33m)\u001b[0m\u001b[1;33m\u001b[0m\u001b[1;33m\u001b[0m\u001b[0m\n",
      "\u001b[1;31mIndexError\u001b[0m: index 2378 is out of bounds for axis 0 with size 2378"
     ]
    }
   ],
   "source": [
    "data = pd.DataFrame()\n",
    "\n",
    "# loop by tickers\n",
    "for ticker in tickers:\n",
    "\n",
    "    # Use function to insert missing rows for each ticker\n",
    "    dt = pdr.get_data_yahoo([ticker], start = start, end = end)['Adj Close']\n",
    "    \n",
    "    dt = cut_weekends(data=dt)\n",
    "\n",
    "    # Set index for proper concating\n",
    "    dt.set_index('Date', inplace=True)\n",
    "\n",
    "    # Add column named as ticker with values from function\n",
    "    data[ticker] = dt"
   ]
  },
  {
   "cell_type": "code",
   "execution_count": null,
   "id": "ba60e30e",
   "metadata": {},
   "outputs": [],
   "source": []
  },
  {
   "cell_type": "code",
   "execution_count": null,
   "id": "b41bd42e",
   "metadata": {},
   "outputs": [],
   "source": []
  },
  {
   "cell_type": "code",
   "execution_count": null,
   "id": "f4398215",
   "metadata": {},
   "outputs": [],
   "source": []
  },
  {
   "cell_type": "code",
   "execution_count": null,
   "id": "ce336854",
   "metadata": {},
   "outputs": [],
   "source": []
  },
  {
   "cell_type": "code",
   "execution_count": null,
   "id": "13e8c4e7",
   "metadata": {},
   "outputs": [],
   "source": []
  },
  {
   "cell_type": "code",
   "execution_count": null,
   "id": "dba4073a",
   "metadata": {},
   "outputs": [],
   "source": []
  },
  {
   "cell_type": "code",
   "execution_count": null,
   "id": "2af69b27",
   "metadata": {},
   "outputs": [],
   "source": []
  },
  {
   "cell_type": "code",
   "execution_count": null,
   "id": "788e58c4",
   "metadata": {},
   "outputs": [],
   "source": []
  },
  {
   "cell_type": "code",
   "execution_count": null,
   "id": "bc532b90",
   "metadata": {},
   "outputs": [],
   "source": []
  },
  {
   "cell_type": "code",
   "execution_count": null,
   "id": "7ddf6aff",
   "metadata": {},
   "outputs": [],
   "source": []
  },
  {
   "cell_type": "code",
   "execution_count": null,
   "id": "cd5c18dd",
   "metadata": {},
   "outputs": [],
   "source": []
  },
  {
   "cell_type": "code",
   "execution_count": null,
   "id": "37f1a171",
   "metadata": {},
   "outputs": [],
   "source": []
  },
  {
   "cell_type": "code",
   "execution_count": null,
   "id": "0620ce35",
   "metadata": {},
   "outputs": [],
   "source": []
  },
  {
   "cell_type": "code",
   "execution_count": null,
   "id": "88e69ba8",
   "metadata": {},
   "outputs": [],
   "source": []
  },
  {
   "cell_type": "code",
   "execution_count": null,
   "id": "1eb89028",
   "metadata": {},
   "outputs": [],
   "source": []
  },
  {
   "cell_type": "code",
   "execution_count": null,
   "id": "a79f2f77",
   "metadata": {},
   "outputs": [],
   "source": []
  },
  {
   "cell_type": "code",
   "execution_count": null,
   "id": "f4f2cce7",
   "metadata": {},
   "outputs": [],
   "source": []
  },
  {
   "cell_type": "markdown",
   "id": "f11ff2dd",
   "metadata": {},
   "source": [
    "##### Option: add days"
   ]
  },
  {
   "cell_type": "code",
   "execution_count": 9,
   "id": "2cb96617",
   "metadata": {},
   "outputs": [
    {
     "name": "stderr",
     "output_type": "stream",
     "text": [
      "C:\\ProgramData\\Anaconda3\\lib\\site-packages\\pandas\\core\\indexing.py:723: SettingWithCopyWarning: \n",
      "A value is trying to be set on a copy of a slice from a DataFrame\n",
      "\n",
      "See the caveats in the documentation: https://pandas.pydata.org/pandas-docs/stable/user_guide/indexing.html#returning-a-view-versus-a-copy\n",
      "  iloc._setitem_with_indexer(indexer, value, self.name)\n"
     ]
    }
   ],
   "source": [
    "df = createPrepDataFrame(tickers, start, end, PasteMissingRows)"
   ]
  },
  {
   "cell_type": "code",
   "execution_count": 87,
   "id": "bd1dc98b",
   "metadata": {},
   "outputs": [
    {
     "data": {
      "text/plain": [
       "252"
      ]
     },
     "execution_count": 87,
     "metadata": {},
     "output_type": "execute_result"
    }
   ],
   "source": [
    "choesen_freq = int(choesen_freq[0])"
   ]
  },
  {
   "cell_type": "code",
   "execution_count": null,
   "id": "6b7bbd2f",
   "metadata": {},
   "outputs": [],
   "source": []
  }
 ],
 "metadata": {
  "kernelspec": {
   "display_name": "Python 3",
   "language": "python",
   "name": "python3"
  },
  "language_info": {
   "codemirror_mode": {
    "name": "ipython",
    "version": 3
   },
   "file_extension": ".py",
   "mimetype": "text/x-python",
   "name": "python",
   "nbconvert_exporter": "python",
   "pygments_lexer": "ipython3",
   "version": "3.8.8"
  }
 },
 "nbformat": 4,
 "nbformat_minor": 5
}
