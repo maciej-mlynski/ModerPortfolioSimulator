{
 "cells": [
  {
   "cell_type": "code",
   "execution_count": 15,
   "id": "137b75d3",
   "metadata": {},
   "outputs": [],
   "source": [
    "import numpy as np\n",
    "import pandas as pd\n",
    "import seaborn as sb\n",
    "sb.set()\n",
    "from datetime import datetime, timedelta\n",
    "from matplotlib import rcParams\n",
    "rcParams['figure.figsize'] = 10,6\n",
    "import math\n",
    "import scipy.stats\n",
    "import matplotlib.pyplot as plt\n",
    "from dateutil.relativedelta import relativedelta\n",
    "import warnings\n",
    "warnings.filterwarnings(\"ignore\")"
   ]
  },
  {
   "cell_type": "code",
   "execution_count": 16,
   "id": "d96c4ad8",
   "metadata": {},
   "outputs": [],
   "source": [
    "def dowload_data():\n",
    "    \n",
    "    # Stocks prices\n",
    "    df = pd.read_csv('../DATA/PrepData.csv', date_parser=True)\n",
    "    df['Date'] = pd.to_datetime(df['Date'])\n",
    "    df.set_index('Date', inplace=True)\n",
    "    \n",
    "    # Choesen wallet\n",
    "    weights = pd.read_csv('../DATA/choesenWallet.csv', index_col=False).drop('Unnamed: 0', axis=1).values[0]\n",
    "    weights = np.round(weights,4)\n",
    "    \n",
    "    return weights, df\n",
    "    \n",
    "def prepare_data(investmentAmt, df, weights):\n",
    "    \n",
    "    # How many stock\n",
    "    assetsQuant = len(df.columns)\n",
    "    \n",
    "    # Equal weights base on quantity of stock\n",
    "    equal_weights = 1/len(df.columns)\n",
    "    \n",
    "    # How much inwested in singular stock base on chesen weights\n",
    "    buyAmt = investmentAmt * weights\n",
    "    \n",
    "    # How much inwested in singular stock base on equal weights\n",
    "    buyAmtEqual = investmentAmt * equal_weights\n",
    "    \n",
    "    # Period of analysis in mounths\n",
    "    periodMonth = (df.index[-1].year - df.index[0].year) * 12 + (df.index[-1].month - df.index[0].month)\n",
    "    \n",
    "    # calculate cumulated returns\n",
    "    retail_returns = df.pct_change(1).dropna()\n",
    "    cum_returns = (1 + retail_returns).cumprod()\n",
    "    \n",
    "    # Let's save col names\n",
    "    cols = cum_returns.columns\n",
    "    \n",
    "    # We want to see highest profitable stock alone\n",
    "    highest_profit_ticker = cum_returns.iloc[-1].sort_values(ascending=False).index[0]\n",
    "    cum_returns['highest_profitable_stock'] = cum_returns[highest_profit_ticker]*investmentAmt\n",
    "    print(f'Highest profitable stocks is {highest_profit_ticker}')\n",
    "    \n",
    "    # Create new column which count cumulated value of portfolio with equal weights\n",
    "    cum_returns['equalWeightedPortfolio'] = (cum_returns[cols]*buyAmtEqual).sum(axis=1)\n",
    "    \n",
    "    # Create new column which count cumulated value of portfolio with weights choesen in previous notebook\n",
    "    cum_returns['YourPortfolio'] = (cum_returns[cols]*buyAmt).sum(axis=1)\n",
    "        \n",
    "    return cum_returns, buyAmt\n",
    "\n",
    "\n",
    "def comparePortfolios_Plot(cum_returns, max_y = 1.2, freq=20):\n",
    "    \n",
    "    fig, ax = plt.subplots()\n",
    "\n",
    "    # PLot equal weighted portfolio\n",
    "    cum_returns.reset_index().plot(x = 'Date', y = 'equalWeightedPortfolio', ax = ax, alpha=0.7)\n",
    "\n",
    "    # PLot your portfolio\n",
    "    cum_returns.reset_index().plot(x = 'Date', y = 'YourPortfolio', ax = ax)\n",
    "    \n",
    "    # PLot your portfolio\n",
    "    cum_returns.reset_index().plot(x = 'Date', y = 'highest_profitable_stock', ax = ax)\n",
    "    \n",
    "    # lets use log view on chart\n",
    "    plt.yscale('log')\n",
    "\n",
    "    # Set min, max and freq of y label\n",
    "    max_ = cum_returns.iloc[-1].max()\n",
    "    plt.yticks(np.arange(investmentAmt, max_*max_y, investmentAmt*freq))\n",
    "\n",
    "    # Format Y labels to be more readable for user\n",
    "    y_value=['{:,.0f}'.format(x).replace(\",\", \" \") + ' USD' for x in ax.get_yticks()]\n",
    "    ax.set_yticklabels(y_value);\n",
    "    \n",
    "    print('If frequency of y label is too high, just increase freq paramiter')\n",
    "    \n",
    "    return plt.show()"
   ]
  },
  {
   "cell_type": "code",
   "execution_count": 17,
   "id": "50708335",
   "metadata": {},
   "outputs": [],
   "source": [
    "def calculate_proportions(cum_returns, df,weights):\n",
    "\n",
    "    # copy cymulated returns. Only tickers. cum_rets contain also total value, etc.\n",
    "    prop = cum_returns.iloc[:, 0:len(df.columns)]\n",
    "    \n",
    "    # create data frame with index equal cum_rets index. Index is dates \n",
    "    proportions = pd.DataFrame(index=prop.index, columns=prop.columns.values)\n",
    "\n",
    "    # In range len of df loop and calculate current weight for each day\n",
    "    for i in range(len(prop.columns)):\n",
    "        # multiplay \n",
    "        proportions.iloc[:,i] = prop.iloc[:,i]*weights[i] / np.sum(prop*weights, axis=1)*100\n",
    "    \n",
    "    return proportions\n",
    "\n",
    "def plot_proportions(proportions):\n",
    "    \n",
    "    proportions.plot()\n",
    "    \n",
    "    return plt.show()"
   ]
  },
  {
   "cell_type": "code",
   "execution_count": 18,
   "id": "466ea13c",
   "metadata": {},
   "outputs": [],
   "source": [
    "def create_dates_for_rebalancing(df, frequency='yearly'):\n",
    "    \n",
    "    start = df.index[0]\n",
    "    \n",
    "    if frequency =='quaterly':\n",
    "\n",
    "        # How many quaters in period\n",
    "        quaters = (len(df)/365)*4\n",
    "        # Number of months i one quater multiplyed by quaters\n",
    "        quantity = np.floor(quaters*3).astype(int)\n",
    "        rebalancing_dates = []\n",
    "        for i in range(3, quantity, 3):\n",
    "            rebalancing_dates.append(start + relativedelta(months=i))\n",
    "            \n",
    "        print(f'In this period you could make {np.floor(quantity/3).astype(int)} rebalancing')\n",
    "\n",
    "    elif frequency =='yearly':\n",
    "\n",
    "        years = len(df)/365\n",
    "        quantity = np.floor(years+1).astype(int) # I add one becouse we start after first year in loop\n",
    "        rebalancing_dates = []\n",
    "\n",
    "        for i in range(1,quantity):      \n",
    "\n",
    "            # Add i year from first transaction\n",
    "            rebalancing_dates.append(start + relativedelta(years=i))\n",
    "            \n",
    "        print(f'In this period you could make {quantity-1} rebalancing')\n",
    "\n",
    "    else:\n",
    "        print('You must select period of frequency')\n",
    "\n",
    "    # Contain restults in 1 D array\n",
    "    rebalancing_dates = np.array(rebalancing_dates)\n",
    "    \n",
    "    return rebalancing_dates"
   ]
  },
  {
   "cell_type": "code",
   "execution_count": 19,
   "id": "1bc02399",
   "metadata": {},
   "outputs": [],
   "source": [
    "def create_new_wallet_with_rebalanceing(rebalancing_dates, buyAmt, cum_returns, proportions):\n",
    "    \n",
    "    # This is the value of the portfolio from cumulated return multiplyed by buy Amount\n",
    "    portfolio_value = cum_returns.iloc[:,:5]*buyAmt\n",
    "    \n",
    "    # copy old proportions. New will be overwrtited\n",
    "    new_proportions = proportions\n",
    "    \n",
    "    # Loop throw rabalancing dates and make changes if necessery\n",
    "    for i in range(len(rebalancing_dates)):\n",
    "\n",
    "        # That is how portfolio balance look like in chacking period\n",
    "        check_day_prop = new_proportions.loc[[rebalancing_dates[i]]][new_proportions.columns].values\n",
    "\n",
    "        # That is how we sould multiply our proportion to get proper one\n",
    "        multiplier = weights*100/check_day_prop\n",
    "\n",
    "        # It contains data year befor rebalancing date, which do not need to change anth\n",
    "        previos_period = portfolio_value.loc[:rebalancing_dates[i]]\n",
    "\n",
    "        # It contains data after Rebalancing with new prop proportion\n",
    "        next_period = portfolio_value.loc[rebalancing_dates[i] + relativedelta(days=1):]*multiplier\n",
    "\n",
    "        # Portfolio value in time with new wages\n",
    "        portfolio_value = pd.concat([previos_period, next_period])\n",
    "\n",
    "        # Loop by new portfolio value and count new prop\n",
    "        for i in range(len(portfolio_value.columns)):\n",
    "\n",
    "            new_proportions.iloc[:,i] = portfolio_value.iloc[:,i]*100 / np.sum(portfolio_value, axis=1)\n",
    "            \n",
    "    return portfolio_value, new_proportions"
   ]
  },
  {
   "cell_type": "code",
   "execution_count": 20,
   "id": "c3c40603",
   "metadata": {},
   "outputs": [],
   "source": [
    "def compare_balance_portfolio_vs_previous(portfolio_value, cum_returns, max_y = 1.1, freq=5):\n",
    "    \n",
    "    # Sum of singular portfolio values in each period of analysis\n",
    "    portfolio_value['BalancedPortfolio'] = np.sum(portfolio_value, axis=1)\n",
    "\n",
    "    fig, ax = plt.subplots()\n",
    "\n",
    "    # PLot equal weighted portfolio\n",
    "    cum_returns.reset_index().plot(x = 'Date', y = 'equalWeightedPortfolio', ax = ax, alpha=0.7)\n",
    "\n",
    "    # PLot your portfolio\n",
    "    cum_returns.reset_index().plot(x = 'Date', y = 'YourPortfolio', ax = ax)\n",
    "\n",
    "    # PLot your portfolio\n",
    "    portfolio_value.reset_index().plot(x = 'Date', y = 'BalancedPortfolio', ax = ax)\n",
    "\n",
    "    # lets use log view on chart\n",
    "    plt.yscale('log')\n",
    "\n",
    "    # Set min, max and freq of y label\n",
    "    max_ = cum_returns.drop('highest_profitable_stock', axis=1).iloc[-1].max()\n",
    "    plt.yticks(np.arange(investmentAmt, max_*max_y, investmentAmt*freq))\n",
    "\n",
    "    # Format Y labels to be more readable for user\n",
    "    y_value=['{:,.0f}'.format(x).replace(\",\", \" \") + ' USD' for x in ax.get_yticks()]\n",
    "    ax.set_yticklabels(y_value);\n",
    "    \n",
    "    print('If frequency of y label is too high, just increase freq paramiter')\n",
    "\n",
    "    return plt.show()"
   ]
  },
  {
   "cell_type": "code",
   "execution_count": 21,
   "id": "808a70e6",
   "metadata": {},
   "outputs": [],
   "source": [
    "def create_table_with_all_portfolios(cum_returns, portfolio_value):\n",
    "    \n",
    "    # Create dataframe with 3 types of wallets value\n",
    "    all_portfolios = cum_returns[['equalWeightedPortfolio', 'YourPortfolio']]\n",
    "    all_portfolios['YourRebalancedPortfolio'] = portfolio_value[['BalancedPortfolio']]\n",
    "    \n",
    "    return all_portfolios"
   ]
  },
  {
   "cell_type": "code",
   "execution_count": 22,
   "id": "b7aeb54f",
   "metadata": {},
   "outputs": [],
   "source": [
    "weights, df = dowload_data()"
   ]
  },
  {
   "cell_type": "code",
   "execution_count": 23,
   "id": "939fae09",
   "metadata": {},
   "outputs": [],
   "source": [
    "investmentAmt = 100000"
   ]
  },
  {
   "cell_type": "code",
   "execution_count": 24,
   "id": "d7f6ab1d",
   "metadata": {},
   "outputs": [
    {
     "name": "stdout",
     "output_type": "stream",
     "text": [
      "Highest profitable stocks is BTC-USD\n"
     ]
    }
   ],
   "source": [
    "cum_returns, buyAmt = prepare_data(investmentAmt, df, weights)"
   ]
  },
  {
   "cell_type": "code",
   "execution_count": 25,
   "id": "d62c5028",
   "metadata": {},
   "outputs": [
    {
     "name": "stdout",
     "output_type": "stream",
     "text": [
      "If frequency of y label is too high, just increase freq paramiter\n"
     ]
    },
    {
     "data": {
      "image/png": "[encoded data removed]",
      "text/plain": [
       "<Figure size 720x432 with 1 Axes>"
      ]
     },
     "metadata": {},
     "output_type": "display_data"
    }
   ],
   "source": [
    "comparePortfolios_Plot(cum_returns);"
   ]
  },
  {
   "cell_type": "code",
   "execution_count": 26,
   "id": "baef6613",
   "metadata": {},
   "outputs": [],
   "source": [
    "proportions = calculate_proportions(cum_returns, df, weights)"
   ]
  },
  {
   "cell_type": "code",
   "execution_count": 27,
   "id": "a9eff551",
   "metadata": {},
   "outputs": [
    {
     "data": {
      "image/png": "[encoded data removed]",
      "text/plain": [
       "<Figure size 720x432 with 1 Axes>"
      ]
     },
     "metadata": {},
     "output_type": "display_data"
    }
   ],
   "source": [
    "plot_proportions(proportions)"
   ]
  },
  {
   "cell_type": "code",
   "execution_count": 14,
   "id": "39ebb047",
   "metadata": {},
   "outputs": [
    {
     "data": {
      "text/html": [
       "<div>\n",
       "<style scoped>\n",
       "    .dataframe tbody tr th:only-of-type {\n",
       "        vertical-align: middle;\n",
       "    }\n",
       "\n",
       "    .dataframe tbody tr th {\n",
       "        vertical-align: top;\n",
       "    }\n",
       "\n",
       "    .dataframe thead th {\n",
       "        text-align: right;\n",
       "    }\n",
       "</style>\n",
       "<table border=\"1\" class=\"dataframe\">\n",
       "  <thead>\n",
       "    <tr style=\"text-align: right;\">\n",
       "      <th></th>\n",
       "      <th>BTC-USD</th>\n",
       "      <th>CSPX.L</th>\n",
       "      <th>IEF</th>\n",
       "      <th>FILL</th>\n",
       "      <th>PALL</th>\n",
       "    </tr>\n",
       "    <tr>\n",
       "      <th>Date</th>\n",
       "      <th></th>\n",
       "      <th></th>\n",
       "      <th></th>\n",
       "      <th></th>\n",
       "      <th></th>\n",
       "    </tr>\n",
       "  </thead>\n",
       "  <tbody>\n",
       "    <tr>\n",
       "      <th>2014-09-18</th>\n",
       "      <td>9.427716</td>\n",
       "      <td>36.303848</td>\n",
       "      <td>51.752210</td>\n",
       "      <td>0.098768</td>\n",
       "      <td>2.417459</td>\n",
       "    </tr>\n",
       "    <tr>\n",
       "      <th>2014-09-19</th>\n",
       "      <td>8.807043</td>\n",
       "      <td>36.541016</td>\n",
       "      <td>52.172814</td>\n",
       "      <td>0.099231</td>\n",
       "      <td>2.379896</td>\n",
       "    </tr>\n",
       "    <tr>\n",
       "      <th>2014-09-20</th>\n",
       "      <td>9.093144</td>\n",
       "      <td>36.426375</td>\n",
       "      <td>52.009132</td>\n",
       "      <td>0.098919</td>\n",
       "      <td>2.372430</td>\n",
       "    </tr>\n",
       "    <tr>\n",
       "      <th>2014-09-21</th>\n",
       "      <td>8.888851</td>\n",
       "      <td>36.508235</td>\n",
       "      <td>52.126011</td>\n",
       "      <td>0.099142</td>\n",
       "      <td>2.377762</td>\n",
       "    </tr>\n",
       "    <tr>\n",
       "      <th>2014-09-22</th>\n",
       "      <td>8.976767</td>\n",
       "      <td>36.255705</td>\n",
       "      <td>52.317100</td>\n",
       "      <td>0.098328</td>\n",
       "      <td>2.352101</td>\n",
       "    </tr>\n",
       "    <tr>\n",
       "      <th>...</th>\n",
       "      <td>...</td>\n",
       "      <td>...</td>\n",
       "      <td>...</td>\n",
       "      <td>...</td>\n",
       "      <td>...</td>\n",
       "    </tr>\n",
       "    <tr>\n",
       "      <th>2022-04-16</th>\n",
       "      <td>85.194393</td>\n",
       "      <td>8.549242</td>\n",
       "      <td>5.622253</td>\n",
       "      <td>0.010773</td>\n",
       "      <td>0.623340</td>\n",
       "    </tr>\n",
       "    <tr>\n",
       "      <th>2022-04-17</th>\n",
       "      <td>84.970282</td>\n",
       "      <td>8.678651</td>\n",
       "      <td>5.707356</td>\n",
       "      <td>0.010936</td>\n",
       "      <td>0.632775</td>\n",
       "    </tr>\n",
       "    <tr>\n",
       "      <th>2022-04-18</th>\n",
       "      <td>85.314940</td>\n",
       "      <td>8.477095</td>\n",
       "      <td>5.558638</td>\n",
       "      <td>0.010781</td>\n",
       "      <td>0.638544</td>\n",
       "    </tr>\n",
       "    <tr>\n",
       "      <th>2022-04-19</th>\n",
       "      <td>85.532686</td>\n",
       "      <td>8.393348</td>\n",
       "      <td>5.445840</td>\n",
       "      <td>0.010597</td>\n",
       "      <td>0.617529</td>\n",
       "    </tr>\n",
       "    <tr>\n",
       "      <th>2022-04-20</th>\n",
       "      <td>85.404493</td>\n",
       "      <td>8.448281</td>\n",
       "      <td>5.497139</td>\n",
       "      <td>0.010686</td>\n",
       "      <td>0.639401</td>\n",
       "    </tr>\n",
       "  </tbody>\n",
       "</table>\n",
       "<p>2772 rows × 5 columns</p>\n",
       "</div>"
      ],
      "text/plain": [
       "              BTC-USD     CSPX.L        IEF      FILL      PALL\n",
       "Date                                                           \n",
       "2014-09-18   9.427716  36.303848  51.752210  0.098768  2.417459\n",
       "2014-09-19   8.807043  36.541016  52.172814  0.099231  2.379896\n",
       "2014-09-20   9.093144  36.426375  52.009132  0.098919  2.372430\n",
       "2014-09-21   8.888851  36.508235  52.126011  0.099142  2.377762\n",
       "2014-09-22   8.976767  36.255705  52.317100  0.098328  2.352101\n",
       "...               ...        ...        ...       ...       ...\n",
       "2022-04-16  85.194393   8.549242   5.622253  0.010773  0.623340\n",
       "2022-04-17  84.970282   8.678651   5.707356  0.010936  0.632775\n",
       "2022-04-18  85.314940   8.477095   5.558638  0.010781  0.638544\n",
       "2022-04-19  85.532686   8.393348   5.445840  0.010597  0.617529\n",
       "2022-04-20  85.404493   8.448281   5.497139  0.010686  0.639401\n",
       "\n",
       "[2772 rows x 5 columns]"
      ]
     },
     "execution_count": 14,
     "metadata": {},
     "output_type": "execute_result"
    }
   ],
   "source": [
    "proportions"
   ]
  },
  {
   "cell_type": "code",
   "execution_count": 17,
   "id": "253f7982",
   "metadata": {},
   "outputs": [],
   "source": [
    "max_weights = weights*100*1.3"
   ]
  },
  {
   "cell_type": "code",
   "execution_count": 18,
   "id": "a23fe359",
   "metadata": {},
   "outputs": [],
   "source": [
    "min_weights = weights*100*0.7"
   ]
  },
  {
   "cell_type": "code",
   "execution_count": 59,
   "id": "12d04140",
   "metadata": {},
   "outputs": [
    {
     "data": {
      "text/plain": [
       "array([13.13 , 46.657, 66.937,  0.13 ,  3.146])"
      ]
     },
     "execution_count": 59,
     "metadata": {},
     "output_type": "execute_result"
    }
   ],
   "source": [
    "max_weights"
   ]
  },
  {
   "cell_type": "code",
   "execution_count": 60,
   "id": "a4f34f7f",
   "metadata": {},
   "outputs": [
    {
     "data": {
      "text/plain": [
       "array([ 7.07 , 25.123, 36.043,  0.07 ,  1.694])"
      ]
     },
     "execution_count": 60,
     "metadata": {},
     "output_type": "execute_result"
    }
   ],
   "source": [
    "min_weights"
   ]
  },
  {
   "cell_type": "code",
   "execution_count": 41,
   "id": "334501a4",
   "metadata": {},
   "outputs": [],
   "source": [
    "# Iterate by all rows in df\n",
    "for i in range(len(proportions)):\n",
    "    \n",
    "    portfolio_value = cum_returns.iloc[:,:5]*buyAmt\n",
    "\n",
    "    # copy old proportions. New will be overwrtited\n",
    "    new_proportions = proportions\n",
    "    \n",
    "    # iterate by all columns (assets)\n",
    "    for k in range(len(proportions.columns)):\n",
    "        \n",
    "        # If proportions are over the margin then: do rebalancing\n",
    "        if new_proportions.iloc[i,k] < min_weights[k] or new_proportions.iloc[i,k] > max_weights[k]:\n",
    "            \n",
    "            # That is how portfolio balance look like in checking period\n",
    "            check_day_prop = new_proportions.iloc[i,:].values\n",
    "\n",
    "            # That is how we sould multiply our proportion to get proper one\n",
    "            multiplier = weights*100/check_day_prop\n",
    "\n",
    "            # It contains data year befor rebalancing date, which do not need to change anth\n",
    "            previos_period = portfolio_value.iloc[:i]\n",
    "\n",
    "            # It contains data after Rebalancing with new prop proportion\n",
    "            next_period = portfolio_value.loc[portfolio_value.index[i] + relativedelta(days=1):]*multiplier\n",
    "\n",
    "            # Portfolio value in time with new wages\n",
    "            portfolio_value = pd.concat([previos_period, next_period])\n",
    "\n",
    "            # We need to count proportion for each stock again\n",
    "            proportions = pd.DataFrame(index=portfolio_value.index, columns=portfolio_value.columns.values)\n",
    "\n",
    "            # Loop by new portfolio value and count new prop\n",
    "            for i in range(len(portfolio_value.columns)):\n",
    "\n",
    "                new_proportions.iloc[:,i] = portfolio_value.iloc[:,i]*100 / np.sum(portfolio_value, axis=1)\n",
    " \n",
    "            # Break at the end here becouse we do rebalancing even if only one of the assets will go outside the permissible range\n",
    "            break\n",
    "                     \n",
    "            \n",
    "#             dates = proportions.index[i]\n",
    "#             red_dates.append(dates)\n",
    "#            print(f'Do the rebalance at {proportions.index[i]}')\n",
    "\n",
    "        else:\n",
    "            pass"
   ]
  },
  {
   "cell_type": "code",
   "execution_count": 29,
   "id": "df5132c0",
   "metadata": {},
   "outputs": [
    {
     "data": {
      "text/html": [
       "<div>\n",
       "<style scoped>\n",
       "    .dataframe tbody tr th:only-of-type {\n",
       "        vertical-align: middle;\n",
       "    }\n",
       "\n",
       "    .dataframe tbody tr th {\n",
       "        vertical-align: top;\n",
       "    }\n",
       "\n",
       "    .dataframe thead th {\n",
       "        text-align: right;\n",
       "    }\n",
       "</style>\n",
       "<table border=\"1\" class=\"dataframe\">\n",
       "  <thead>\n",
       "    <tr style=\"text-align: right;\">\n",
       "      <th></th>\n",
       "      <th>BTC-USD</th>\n",
       "      <th>CSPX.L</th>\n",
       "      <th>IEF</th>\n",
       "      <th>FILL</th>\n",
       "      <th>PALL</th>\n",
       "    </tr>\n",
       "    <tr>\n",
       "      <th>Date</th>\n",
       "      <th></th>\n",
       "      <th></th>\n",
       "      <th></th>\n",
       "      <th></th>\n",
       "      <th></th>\n",
       "    </tr>\n",
       "  </thead>\n",
       "  <tbody>\n",
       "    <tr>\n",
       "      <th>2014-09-18</th>\n",
       "      <td>9373.551682</td>\n",
       "      <td>36095.276130</td>\n",
       "      <td>51454.884538</td>\n",
       "      <td>98.200496</td>\n",
       "      <td>2403.569839</td>\n",
       "    </tr>\n",
       "    <tr>\n",
       "      <th>2014-09-19</th>\n",
       "      <td>8718.878039</td>\n",
       "      <td>36175.215667</td>\n",
       "      <td>51650.529066</td>\n",
       "      <td>98.237237</td>\n",
       "      <td>2356.072110</td>\n",
       "    </tr>\n",
       "    <tr>\n",
       "      <th>2014-09-20</th>\n",
       "      <td>9030.446417</td>\n",
       "      <td>36175.215667</td>\n",
       "      <td>51650.529066</td>\n",
       "      <td>98.237237</td>\n",
       "      <td>2356.072110</td>\n",
       "    </tr>\n",
       "    <tr>\n",
       "      <th>2014-09-21</th>\n",
       "      <td>8807.768752</td>\n",
       "      <td>36175.215667</td>\n",
       "      <td>51650.529066</td>\n",
       "      <td>98.237237</td>\n",
       "      <td>2356.072110</td>\n",
       "    </tr>\n",
       "    <tr>\n",
       "      <th>2014-09-22</th>\n",
       "      <td>8881.332132</td>\n",
       "      <td>35870.260578</td>\n",
       "      <td>51760.903120</td>\n",
       "      <td>97.282410</td>\n",
       "      <td>2327.095405</td>\n",
       "    </tr>\n",
       "    <tr>\n",
       "      <th>...</th>\n",
       "      <td>...</td>\n",
       "      <td>...</td>\n",
       "      <td>...</td>\n",
       "      <td>...</td>\n",
       "      <td>...</td>\n",
       "    </tr>\n",
       "    <tr>\n",
       "      <th>2022-04-16</th>\n",
       "      <td>892755.139334</td>\n",
       "      <td>89587.819453</td>\n",
       "      <td>58915.792498</td>\n",
       "      <td>112.888787</td>\n",
       "      <td>6531.998456</td>\n",
       "    </tr>\n",
       "    <tr>\n",
       "      <th>2022-04-17</th>\n",
       "      <td>877129.654694</td>\n",
       "      <td>89587.819453</td>\n",
       "      <td>58915.792498</td>\n",
       "      <td>112.888787</td>\n",
       "      <td>6531.998456</td>\n",
       "    </tr>\n",
       "    <tr>\n",
       "      <th>2022-04-18</th>\n",
       "      <td>901627.161974</td>\n",
       "      <td>89587.819453</td>\n",
       "      <td>58744.921296</td>\n",
       "      <td>113.941137</td>\n",
       "      <td>6748.277630</td>\n",
       "    </tr>\n",
       "    <tr>\n",
       "      <th>2022-04-19</th>\n",
       "      <td>916568.112911</td>\n",
       "      <td>89943.104947</td>\n",
       "      <td>58357.617004</td>\n",
       "      <td>113.558464</td>\n",
       "      <td>6617.434838</td>\n",
       "    </tr>\n",
       "    <tr>\n",
       "      <th>2022-04-20</th>\n",
       "      <td>913733.099541</td>\n",
       "      <td>90387.214825</td>\n",
       "      <td>58813.270646</td>\n",
       "      <td>114.323811</td>\n",
       "      <td>6840.883661</td>\n",
       "    </tr>\n",
       "  </tbody>\n",
       "</table>\n",
       "<p>2772 rows × 5 columns</p>\n",
       "</div>"
      ],
      "text/plain": [
       "                  BTC-USD        CSPX.L           IEF        FILL         PALL\n",
       "Date                                                                          \n",
       "2014-09-18    9373.551682  36095.276130  51454.884538   98.200496  2403.569839\n",
       "2014-09-19    8718.878039  36175.215667  51650.529066   98.237237  2356.072110\n",
       "2014-09-20    9030.446417  36175.215667  51650.529066   98.237237  2356.072110\n",
       "2014-09-21    8807.768752  36175.215667  51650.529066   98.237237  2356.072110\n",
       "2014-09-22    8881.332132  35870.260578  51760.903120   97.282410  2327.095405\n",
       "...                   ...           ...           ...         ...          ...\n",
       "2022-04-16  892755.139334  89587.819453  58915.792498  112.888787  6531.998456\n",
       "2022-04-17  877129.654694  89587.819453  58915.792498  112.888787  6531.998456\n",
       "2022-04-18  901627.161974  89587.819453  58744.921296  113.941137  6748.277630\n",
       "2022-04-19  916568.112911  89943.104947  58357.617004  113.558464  6617.434838\n",
       "2022-04-20  913733.099541  90387.214825  58813.270646  114.323811  6840.883661\n",
       "\n",
       "[2772 rows x 5 columns]"
      ]
     },
     "execution_count": 29,
     "metadata": {},
     "output_type": "execute_result"
    }
   ],
   "source": [
    "cum_returns.iloc[:,:5]*buyAmt"
   ]
  },
  {
   "cell_type": "code",
   "execution_count": 30,
   "id": "7098a0ea",
   "metadata": {},
   "outputs": [
    {
     "ename": "NameError",
     "evalue": "name 'portfolio_value' is not defined",
     "output_type": "error",
     "traceback": [
      "\u001b[1;31m---------------------------------------------------------------------------\u001b[0m",
      "\u001b[1;31mNameError\u001b[0m                                 Traceback (most recent call last)",
      "\u001b[1;32m<ipython-input-30-973a0285daaa>\u001b[0m in \u001b[0;36m<module>\u001b[1;34m\u001b[0m\n\u001b[1;32m----> 1\u001b[1;33m \u001b[0mportfolio_value\u001b[0m\u001b[1;33m\u001b[0m\u001b[1;33m\u001b[0m\u001b[0m\n\u001b[0m",
      "\u001b[1;31mNameError\u001b[0m: name 'portfolio_value' is not defined"
     ]
    }
   ],
   "source": [
    "portfolio_value"
   ]
  },
  {
   "cell_type": "code",
   "execution_count": null,
   "id": "906c0ca7",
   "metadata": {},
   "outputs": [],
   "source": []
  },
  {
   "cell_type": "code",
   "execution_count": null,
   "id": "05eb0498",
   "metadata": {},
   "outputs": [],
   "source": []
  },
  {
   "cell_type": "code",
   "execution_count": 22,
   "id": "70c96ba0",
   "metadata": {},
   "outputs": [
    {
     "data": {
      "text/plain": [
       "array([ 6.91907123, 36.99114268, 53.69599829,  0.07921542,  2.31457237])"
      ]
     },
     "execution_count": 22,
     "metadata": {},
     "output_type": "execute_result"
    }
   ],
   "source": [
    "proportions.iloc[i,:].values"
   ]
  },
  {
   "cell_type": "code",
   "execution_count": 34,
   "id": "e7aab53f",
   "metadata": {},
   "outputs": [
    {
     "data": {
      "text/html": [
       "<div>\n",
       "<style scoped>\n",
       "    .dataframe tbody tr th:only-of-type {\n",
       "        vertical-align: middle;\n",
       "    }\n",
       "\n",
       "    .dataframe tbody tr th {\n",
       "        vertical-align: top;\n",
       "    }\n",
       "\n",
       "    .dataframe thead th {\n",
       "        text-align: right;\n",
       "    }\n",
       "</style>\n",
       "<table border=\"1\" class=\"dataframe\">\n",
       "  <thead>\n",
       "    <tr style=\"text-align: right;\">\n",
       "      <th></th>\n",
       "      <th>BTC-USD</th>\n",
       "      <th>CSPX.L</th>\n",
       "      <th>IEF</th>\n",
       "      <th>FILL</th>\n",
       "      <th>PALL</th>\n",
       "    </tr>\n",
       "    <tr>\n",
       "      <th>Date</th>\n",
       "      <th></th>\n",
       "      <th></th>\n",
       "      <th></th>\n",
       "      <th></th>\n",
       "      <th></th>\n",
       "    </tr>\n",
       "  </thead>\n",
       "  <tbody>\n",
       "    <tr>\n",
       "      <th>2014-12-19</th>\n",
       "      <td>7019.408277</td>\n",
       "      <td>37291.411587</td>\n",
       "      <td>53566.448817</td>\n",
       "      <td>81.512947</td>\n",
       "      <td>2333.069884</td>\n",
       "    </tr>\n",
       "    <tr>\n",
       "      <th>2014-12-20</th>\n",
       "      <td>7286.918155</td>\n",
       "      <td>37291.411587</td>\n",
       "      <td>53566.448817</td>\n",
       "      <td>81.512947</td>\n",
       "      <td>2333.069884</td>\n",
       "    </tr>\n",
       "    <tr>\n",
       "      <th>2014-12-21</th>\n",
       "      <td>7085.661822</td>\n",
       "      <td>37291.411587</td>\n",
       "      <td>53566.448817</td>\n",
       "      <td>81.512947</td>\n",
       "      <td>2333.069884</td>\n",
       "    </tr>\n",
       "    <tr>\n",
       "      <th>2014-12-22</th>\n",
       "      <td>7329.541107</td>\n",
       "      <td>37378.260223</td>\n",
       "      <td>53566.448817</td>\n",
       "      <td>80.771914</td>\n",
       "      <td>2351.889928</td>\n",
       "    </tr>\n",
       "    <tr>\n",
       "      <th>2014-12-23</th>\n",
       "      <td>7388.860218</td>\n",
       "      <td>37561.827205</td>\n",
       "      <td>53122.606068</td>\n",
       "      <td>81.772314</td>\n",
       "      <td>2354.578376</td>\n",
       "    </tr>\n",
       "    <tr>\n",
       "      <th>...</th>\n",
       "      <td>...</td>\n",
       "      <td>...</td>\n",
       "      <td>...</td>\n",
       "      <td>...</td>\n",
       "      <td>...</td>\n",
       "    </tr>\n",
       "    <tr>\n",
       "      <th>2022-04-16</th>\n",
       "      <td>892755.139334</td>\n",
       "      <td>89587.819453</td>\n",
       "      <td>58915.792498</td>\n",
       "      <td>112.888787</td>\n",
       "      <td>6531.998456</td>\n",
       "    </tr>\n",
       "    <tr>\n",
       "      <th>2022-04-17</th>\n",
       "      <td>877129.654694</td>\n",
       "      <td>89587.819453</td>\n",
       "      <td>58915.792498</td>\n",
       "      <td>112.888787</td>\n",
       "      <td>6531.998456</td>\n",
       "    </tr>\n",
       "    <tr>\n",
       "      <th>2022-04-18</th>\n",
       "      <td>901627.161974</td>\n",
       "      <td>89587.819453</td>\n",
       "      <td>58744.921296</td>\n",
       "      <td>113.941137</td>\n",
       "      <td>6748.277630</td>\n",
       "    </tr>\n",
       "    <tr>\n",
       "      <th>2022-04-19</th>\n",
       "      <td>916568.112911</td>\n",
       "      <td>89943.104947</td>\n",
       "      <td>58357.617004</td>\n",
       "      <td>113.558464</td>\n",
       "      <td>6617.434838</td>\n",
       "    </tr>\n",
       "    <tr>\n",
       "      <th>2022-04-20</th>\n",
       "      <td>913733.099541</td>\n",
       "      <td>90387.214825</td>\n",
       "      <td>58813.270646</td>\n",
       "      <td>114.323811</td>\n",
       "      <td>6840.883661</td>\n",
       "    </tr>\n",
       "  </tbody>\n",
       "</table>\n",
       "<p>2680 rows × 5 columns</p>\n",
       "</div>"
      ],
      "text/plain": [
       "                  BTC-USD        CSPX.L           IEF        FILL         PALL\n",
       "Date                                                                          \n",
       "2014-12-19    7019.408277  37291.411587  53566.448817   81.512947  2333.069884\n",
       "2014-12-20    7286.918155  37291.411587  53566.448817   81.512947  2333.069884\n",
       "2014-12-21    7085.661822  37291.411587  53566.448817   81.512947  2333.069884\n",
       "2014-12-22    7329.541107  37378.260223  53566.448817   80.771914  2351.889928\n",
       "2014-12-23    7388.860218  37561.827205  53122.606068   81.772314  2354.578376\n",
       "...                   ...           ...           ...         ...          ...\n",
       "2022-04-16  892755.139334  89587.819453  58915.792498  112.888787  6531.998456\n",
       "2022-04-17  877129.654694  89587.819453  58915.792498  112.888787  6531.998456\n",
       "2022-04-18  901627.161974  89587.819453  58744.921296  113.941137  6748.277630\n",
       "2022-04-19  916568.112911  89943.104947  58357.617004  113.558464  6617.434838\n",
       "2022-04-20  913733.099541  90387.214825  58813.270646  114.323811  6840.883661\n",
       "\n",
       "[2680 rows x 5 columns]"
      ]
     },
     "execution_count": 34,
     "metadata": {},
     "output_type": "execute_result"
    }
   ],
   "source": [
    "portfolio_value.loc[portfolio_value.index[i] + relativedelta(days=1):]"
   ]
  },
  {
   "cell_type": "code",
   "execution_count": 63,
   "id": "efb87a29",
   "metadata": {},
   "outputs": [
    {
     "data": {
      "text/plain": [
       "2676"
      ]
     },
     "execution_count": 63,
     "metadata": {},
     "output_type": "execute_result"
    }
   ],
   "source": [
    "len(red_dates)"
   ]
  },
  {
   "cell_type": "code",
   "execution_count": 33,
   "id": "cab5c2b4",
   "metadata": {},
   "outputs": [
    {
     "data": {
      "text/plain": [
       "Timestamp('2014-12-19 00:00:00')"
      ]
     },
     "execution_count": 33,
     "metadata": {},
     "output_type": "execute_result"
    }
   ],
   "source": [
    "portfolio_value.index[i] + relativedelta(days=1)"
   ]
  },
  {
   "cell_type": "code",
   "execution_count": 38,
   "id": "0643e642",
   "metadata": {},
   "outputs": [
    {
     "data": {
      "text/html": [
       "<div>\n",
       "<style scoped>\n",
       "    .dataframe tbody tr th:only-of-type {\n",
       "        vertical-align: middle;\n",
       "    }\n",
       "\n",
       "    .dataframe tbody tr th {\n",
       "        vertical-align: top;\n",
       "    }\n",
       "\n",
       "    .dataframe thead th {\n",
       "        text-align: right;\n",
       "    }\n",
       "</style>\n",
       "<table border=\"1\" class=\"dataframe\">\n",
       "  <thead>\n",
       "    <tr style=\"text-align: right;\">\n",
       "      <th></th>\n",
       "      <th>BTC-USD</th>\n",
       "      <th>CSPX.L</th>\n",
       "      <th>IEF</th>\n",
       "      <th>FILL</th>\n",
       "      <th>PALL</th>\n",
       "    </tr>\n",
       "    <tr>\n",
       "      <th>Date</th>\n",
       "      <th></th>\n",
       "      <th></th>\n",
       "      <th></th>\n",
       "      <th></th>\n",
       "      <th></th>\n",
       "    </tr>\n",
       "  </thead>\n",
       "  <tbody>\n",
       "    <tr>\n",
       "      <th>2014-09-18</th>\n",
       "      <td>NaN</td>\n",
       "      <td>NaN</td>\n",
       "      <td>NaN</td>\n",
       "      <td>NaN</td>\n",
       "      <td>NaN</td>\n",
       "    </tr>\n",
       "    <tr>\n",
       "      <th>2014-09-19</th>\n",
       "      <td>NaN</td>\n",
       "      <td>NaN</td>\n",
       "      <td>NaN</td>\n",
       "      <td>NaN</td>\n",
       "      <td>NaN</td>\n",
       "    </tr>\n",
       "    <tr>\n",
       "      <th>2014-09-20</th>\n",
       "      <td>NaN</td>\n",
       "      <td>NaN</td>\n",
       "      <td>NaN</td>\n",
       "      <td>NaN</td>\n",
       "      <td>NaN</td>\n",
       "    </tr>\n",
       "    <tr>\n",
       "      <th>2014-09-21</th>\n",
       "      <td>NaN</td>\n",
       "      <td>NaN</td>\n",
       "      <td>NaN</td>\n",
       "      <td>NaN</td>\n",
       "      <td>NaN</td>\n",
       "    </tr>\n",
       "    <tr>\n",
       "      <th>2014-09-22</th>\n",
       "      <td>NaN</td>\n",
       "      <td>NaN</td>\n",
       "      <td>NaN</td>\n",
       "      <td>NaN</td>\n",
       "      <td>NaN</td>\n",
       "    </tr>\n",
       "    <tr>\n",
       "      <th>...</th>\n",
       "      <td>...</td>\n",
       "      <td>...</td>\n",
       "      <td>...</td>\n",
       "      <td>...</td>\n",
       "      <td>...</td>\n",
       "    </tr>\n",
       "    <tr>\n",
       "      <th>2022-04-16</th>\n",
       "      <td>NaN</td>\n",
       "      <td>NaN</td>\n",
       "      <td>NaN</td>\n",
       "      <td>NaN</td>\n",
       "      <td>NaN</td>\n",
       "    </tr>\n",
       "    <tr>\n",
       "      <th>2022-04-17</th>\n",
       "      <td>NaN</td>\n",
       "      <td>NaN</td>\n",
       "      <td>NaN</td>\n",
       "      <td>NaN</td>\n",
       "      <td>NaN</td>\n",
       "    </tr>\n",
       "    <tr>\n",
       "      <th>2022-04-18</th>\n",
       "      <td>NaN</td>\n",
       "      <td>NaN</td>\n",
       "      <td>NaN</td>\n",
       "      <td>NaN</td>\n",
       "      <td>NaN</td>\n",
       "    </tr>\n",
       "    <tr>\n",
       "      <th>2022-04-19</th>\n",
       "      <td>NaN</td>\n",
       "      <td>NaN</td>\n",
       "      <td>NaN</td>\n",
       "      <td>NaN</td>\n",
       "      <td>NaN</td>\n",
       "    </tr>\n",
       "    <tr>\n",
       "      <th>2022-04-20</th>\n",
       "      <td>NaN</td>\n",
       "      <td>NaN</td>\n",
       "      <td>NaN</td>\n",
       "      <td>NaN</td>\n",
       "      <td>NaN</td>\n",
       "    </tr>\n",
       "  </tbody>\n",
       "</table>\n",
       "<p>2771 rows × 5 columns</p>\n",
       "</div>"
      ],
      "text/plain": [
       "           BTC-USD CSPX.L  IEF FILL PALL\n",
       "Date                                    \n",
       "2014-09-18     NaN    NaN  NaN  NaN  NaN\n",
       "2014-09-19     NaN    NaN  NaN  NaN  NaN\n",
       "2014-09-20     NaN    NaN  NaN  NaN  NaN\n",
       "2014-09-21     NaN    NaN  NaN  NaN  NaN\n",
       "2014-09-22     NaN    NaN  NaN  NaN  NaN\n",
       "...            ...    ...  ...  ...  ...\n",
       "2022-04-16     NaN    NaN  NaN  NaN  NaN\n",
       "2022-04-17     NaN    NaN  NaN  NaN  NaN\n",
       "2022-04-18     NaN    NaN  NaN  NaN  NaN\n",
       "2022-04-19     NaN    NaN  NaN  NaN  NaN\n",
       "2022-04-20     NaN    NaN  NaN  NaN  NaN\n",
       "\n",
       "[2771 rows x 5 columns]"
      ]
     },
     "execution_count": 38,
     "metadata": {},
     "output_type": "execute_result"
    }
   ],
   "source": [
    "new_proportions"
   ]
  },
  {
   "cell_type": "code",
   "execution_count": null,
   "id": "ebb61d47",
   "metadata": {},
   "outputs": [],
   "source": []
  },
  {
   "cell_type": "code",
   "execution_count": 35,
   "id": "cfd338d2",
   "metadata": {},
   "outputs": [
    {
     "data": {
      "text/plain": [
       "8.080000000000002"
      ]
     },
     "execution_count": 35,
     "metadata": {},
     "output_type": "execute_result"
    }
   ],
   "source": [
    "min_weights[0]"
   ]
  },
  {
   "cell_type": "code",
   "execution_count": 38,
   "id": "ca6716e5",
   "metadata": {},
   "outputs": [
    {
     "data": {
      "text/plain": [
       "Timestamp('2014-09-18 00:00:00')"
      ]
     },
     "execution_count": 38,
     "metadata": {},
     "output_type": "execute_result"
    }
   ],
   "source": [
    "proportions.index[0]"
   ]
  },
  {
   "cell_type": "code",
   "execution_count": 45,
   "id": "6df795f5",
   "metadata": {},
   "outputs": [
    {
     "data": {
      "text/plain": [
       "9.093143596947643"
      ]
     },
     "execution_count": 45,
     "metadata": {},
     "output_type": "execute_result"
    }
   ],
   "source": [
    "proportions.iloc[2,0]"
   ]
  },
  {
   "cell_type": "code",
   "execution_count": 46,
   "id": "a46be204",
   "metadata": {},
   "outputs": [
    {
     "data": {
      "text/plain": [
       "5"
      ]
     },
     "execution_count": 46,
     "metadata": {},
     "output_type": "execute_result"
    }
   ],
   "source": [
    "len(proportions.columns)"
   ]
  },
  {
   "cell_type": "code",
   "execution_count": null,
   "id": "dce0457c",
   "metadata": {},
   "outputs": [],
   "source": [
    "def calculate_new_proportions(portfolio_value):\n",
    "    \n",
    "    # We need to count proportion for each stock again\n",
    "    new_proportions = pd.DataFrame(index=portfolio_value.index, columns=portfolio_value.columns.values)\n",
    "\n",
    "    # Loop by new portfolio value and count new prop\n",
    "    for i in range(len(portfolio_value.columns)):\n",
    "\n",
    "        new_proportions.iloc[:,i] = portfolio_value.iloc[:,i]*100 / np.sum(portfolio_value, axis=1)\n",
    "        \n",
    "    return new_proportions"
   ]
  },
  {
   "cell_type": "code",
   "execution_count": null,
   "id": "82a015ed",
   "metadata": {},
   "outputs": [],
   "source": [
    "def calculate_new_portfolio_values_after_single_reb(portfolio_value, new_proportions, rebalancing_dates, weights, i):\n",
    "    \n",
    "    # That is how portfolio balance look like in chacking period\n",
    "    check_day_prop = new_proportions.loc[[rebalancing_dates[i]]][new_proportions.columns].values \n",
    "\n",
    "    # That is how we sould multiply our proportion to get proper one\n",
    "    multiplier = weights*100/check_day_prop\n",
    "\n",
    "    # It contains data year befor rebalancing date, which do not need to change anth\n",
    "    previos_period = portfolio_value.loc[:rebalancing_dates[i]]\n",
    "\n",
    "    # It contains data after Rebalancing with new prop proportion\n",
    "    next_period = portfolio_value.loc[rebalancing_dates[i] + relativedelta(days=1):]*multiplier\n",
    "\n",
    "    # Portfolio value in time with new wages\n",
    "    portfolio_value = pd.concat([previos_period, next_period])\n",
    "    \n",
    "    return portfolio_value"
   ]
  },
  {
   "cell_type": "code",
   "execution_count": null,
   "id": "7cd9b1c0",
   "metadata": {},
   "outputs": [],
   "source": [
    "def create_new_wallet_with_rebalanceing(rebalancing_dates, buyAmt, cum_returns, proportions):\n",
    "    \n",
    "    # This is the value of the portfolio from cumulated return multiplyed by buy Amount\n",
    "    portfolio_value = cum_returns.iloc[:,:5]*buyAmt\n",
    "    \n",
    "    # copy old proportions. New will be overwrtited\n",
    "    new_proportions = proportions\n",
    "    \n",
    "    \n",
    "    # Loop throw rabalancing dates and make changes if necessery\n",
    "    for i in range(len(rebalancing_dates)):\n",
    "        \n",
    "        # Function that calulates portfolio values over all period\n",
    "        portfolio_value = calculate_new_portfolio_values_after_single_reb(portfolio_value, new_proportions, rebalancing_dates, weights, i)\n",
    "        \n",
    "        # Function that calculate new proportions base on new portfolio vales in period\n",
    "        new_proportions = calculate_new_proportions(portfolio_value)\n",
    "        \n",
    "    return portfolio_value, new_proportions"
   ]
  },
  {
   "cell_type": "code",
   "execution_count": null,
   "id": "bf023db0",
   "metadata": {},
   "outputs": [],
   "source": []
  },
  {
   "cell_type": "code",
   "execution_count": null,
   "id": "8bf7d5c7",
   "metadata": {},
   "outputs": [],
   "source": []
  },
  {
   "cell_type": "code",
   "execution_count": null,
   "id": "61c111fd",
   "metadata": {},
   "outputs": [],
   "source": []
  },
  {
   "cell_type": "code",
   "execution_count": null,
   "id": "7437124c",
   "metadata": {},
   "outputs": [],
   "source": []
  },
  {
   "cell_type": "code",
   "execution_count": null,
   "id": "055519f7",
   "metadata": {},
   "outputs": [],
   "source": []
  }
 ],
 "metadata": {
  "kernelspec": {
   "display_name": "Python 3",
   "language": "python",
   "name": "python3"
  },
  "language_info": {
   "codemirror_mode": {
    "name": "ipython",
    "version": 3
   },
   "file_extension": ".py",
   "mimetype": "text/x-python",
   "name": "python",
   "nbconvert_exporter": "python",
   "pygments_lexer": "ipython3",
   "version": "3.8.8"
  }
 },
 "nbformat": 4,
 "nbformat_minor": 5
}
