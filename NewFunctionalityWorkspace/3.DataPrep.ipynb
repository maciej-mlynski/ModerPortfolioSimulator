{
 "cells": [
  {
   "cell_type": "markdown",
   "id": "7153042a",
   "metadata": {},
   "source": [
    "**I would like to add option for user to choose if want to drop market listing at weekends. Since now algo automaticly add weekends**\n",
    "\n",
    "To be more clear. Crypto markets are listed every single day, unlik traditional stocks. I decided that I will repeat Friday's stock prices for Sat and Sunday, just in case user will choose crypto for analysis. Now I want user to make that decision for himself. Deletion is obvously much easer to implement, but there will be lots of changes after, becouse of the multiplier, which was always 365, but now It will depend on user choice (252 or 365)."
   ]
  },
  {
   "cell_type": "markdown",
   "id": "7c954038",
   "metadata": {},
   "source": [
    "#### Steps\n",
    "1. Check if portfolio assets contains crypto\n",
    "2. If the anserw is YES, ask if want to cut or add trading days\n",
    "3. It the anserw is NO, automaticly just do nothing, just append stocks to one Data Frame\n",
    "\n",
    "* Other changes will be added in Markowitz Simulation notebook, but here we must add 'n' paramiters to last return in definition"
   ]
  },
  {
   "cell_type": "code",
   "execution_count": 3,
   "id": "76fa202a",
   "metadata": {},
   "outputs": [],
   "source": [
    "import numpy as np\n",
    "import pandas as pd\n",
    "import seaborn as sb\n",
    "sb.set()\n",
    "import scipy.optimize as optimization\n",
    "import datetime as dt\n",
    "from matplotlib import rcParams\n",
    "rcParams['figure.figsize'] = 10,6\n",
    "import math\n",
    "import scipy.stats\n",
    "import matplotlib.pyplot as plt\n",
    "import time\n",
    "import pandas_datareader as pdr\n",
    "from ipywidgets import Checkbox\n",
    "from dateutil.relativedelta import relativedelta\n",
    "import warnings\n",
    "warnings.filterwarnings(\"ignore\")"
   ]
  },
  {
   "cell_type": "code",
   "execution_count": 4,
   "id": "eb47fc03",
   "metadata": {},
   "outputs": [],
   "source": [
    "class PasteMissingRows:\n",
    "    \n",
    "    def __init__(self, ticker, start_date, end_date):\n",
    "        \n",
    "        self.df = None\n",
    "        self.dates_check = None\n",
    "        self.df_result = None\n",
    "        self.ticker = ticker\n",
    "        self.start_date = start_date\n",
    "        self.end_date = end_date\n",
    "\n",
    "          \n",
    "    def Download_df(self):\n",
    "        \n",
    "        # Download data from yahoo\n",
    "        stock_data = pdr.get_data_yahoo([self.ticker], start = self.start_date, end = self.end_date)['Adj Close']\n",
    "        \n",
    "        df = pd.DataFrame(stock_data)\n",
    "        # Make copy and reset index\n",
    "        df.reset_index(inplace=True)\n",
    "        \n",
    "        return df\n",
    "            \n",
    "        \n",
    "    def Create_df_with_all_dates(self):\n",
    "        \n",
    "        df = self.Download_df()\n",
    "\n",
    "        # Range of dates\n",
    "        dates_check = pd.DataFrame({\"dates\":pd.date_range(start = self.start_date, end = self.end_date)})\n",
    "\n",
    "        return dates_check   \n",
    "    \n",
    "    # Function to insert row in the dataframe\n",
    "    def Insert_value(self,row_number, df, row_value):\n",
    "\n",
    "        # Slice above rows\n",
    "        df1 = df[0:row_number]\n",
    "\n",
    "        # Store below rows\n",
    "        df2 = df[row_number:]\n",
    "\n",
    "        # Insert the row in the upper half dataframe\n",
    "        df1.loc[row_number] = row_value\n",
    "\n",
    "        # Concat the two dataframes\n",
    "        df_result = pd.concat([df1, df2])\n",
    "\n",
    "        # Reassign the index labels\n",
    "        df_result.index = [*range(df_result.shape[0])]\n",
    "        \n",
    "        return df_result\n",
    "\n",
    "    # Function that detect mising rows in df and add previous values where missing\n",
    "    def Insert_row_to_df(self):\n",
    "        \n",
    "        dates_check = self.Create_df_with_all_dates()\n",
    "        df = self.Download_df()\n",
    "        \n",
    "        if len(df) < len(dates_check):\n",
    "        \n",
    "            for i in range(1, len(dates_check)):\n",
    "\n",
    "                # if diff between next days is > 1\n",
    "                if (df['Date'].loc[i] - df['Date'].loc[i-1]).days > 1:\n",
    "\n",
    "                    # first [0]+1 = 1\n",
    "                    row_number = i\n",
    "                    row_value = [dates_check['dates'].iloc[i-1], df[self.ticker].iloc[i-1]]\n",
    "\n",
    "                    # Let's call the function and insert the row\n",
    "                    df = self.Insert_value(row_number, df, row_value)\n",
    "                    df = df.sort_values(by=\"Date\")\n",
    "\n",
    "                else:\n",
    "                    df = df.sort_values(by=\"Date\")\n",
    "                    \n",
    "            df.drop_duplicates(subset=None, keep='first', inplace=True)\n",
    "                    \n",
    "        else:\n",
    "            pass\n",
    "            df = df[:-1]\n",
    "  \n",
    "    \n",
    "        return df\n",
    "    \n",
    "    \n",
    "def createPrepDataFrame(tickers, start, end, PasteMissingRows):    \n",
    "    \n",
    "    data = pd.DataFrame()\n",
    "\n",
    "    # loop by tickers\n",
    "    for ticker in tickers:\n",
    "\n",
    "        # Use function to insert missing rows for each ticker\n",
    "        dt = PasteMissingRows(ticker=ticker, start_date=start, end_date=end).Insert_row_to_df()\n",
    "\n",
    "        # Set index for proper concating\n",
    "        dt.set_index('Date', inplace=True)\n",
    "\n",
    "        # Add column named as ticker with values from function\n",
    "        data[ticker] = dt\n",
    "    \n",
    "    return data"
   ]
  },
  {
   "cell_type": "code",
   "execution_count": 56,
   "id": "0db66c68",
   "metadata": {},
   "outputs": [],
   "source": [
    "def check_quote_type(tickers, start, end):\n",
    "\n",
    "    qType = pd.DataFrame(index=tickers)\n",
    "    \n",
    "    # Loop by all selected tickers and get ticker quota type from Yahoo\n",
    "    for ticker in tickers:\n",
    "        qType[ticker] = pdr.get_quote_yahoo(ticker, start = start, end = end)['quoteType'].iloc[0]\n",
    "    \n",
    "    # Store all unique quota types in variable\n",
    "    unique_types = qType.iloc[0].unique()\n",
    "    for i in range(len(unique_types)):\n",
    "        \n",
    "        # If any of assets is crypto then set freq = 'choese freq', which means that user must decide if he/she want to work on\n",
    "        # full year range = 365 or business days year range = 252\n",
    "        if unique_types[i] == 'CRYPTOCURRENCY':\n",
    "\n",
    "            freq = 'choese freq'\n",
    "            break\n",
    "\n",
    "        # If there is no crypto just set freq to busieness days only\n",
    "        else:\n",
    "           \n",
    "            freq = 'business days'\n",
    "            \n",
    "    if freq == 'choese freq':\n",
    "        print('It looks like some of your assets are cryptocurrencies')\n",
    "        print('Crypto markets are listed every single day in addition to traditional stocks')\n",
    "\n",
    "    else:    \n",
    "        print('It look like that all of your assets come from the traditional market, which is quoted every business day')\n",
    "                        \n",
    "    return freq, tickers, qType"
   ]
  },
  {
   "cell_type": "code",
   "execution_count": null,
   "id": "85777ac2",
   "metadata": {},
   "outputs": [],
   "source": [
    "# I created this function, becouse I noticed that Yahoo Finance has some missing dates for traditional Markets likie equity or commodity\n",
    "# I usually hapens, when selecting end date that is very close to current date\n",
    "# To avoid that issue I could just use my function that insert missing rows, but it would consume to much time, so\n",
    "# I decided that I can just set crypto asset (if any) at first place, which usually work well and\n",
    "# Thanks that I could just handle missing dates using fillna(method='bfill'), which copy previous value instead of Naan\n",
    "\n",
    "# This function will detect if any asset is crypto and set it to first place\n",
    "def sort_tickers(qType, tickers):\n",
    "    \n",
    "    # Create df with index as ticker name and values as ticker type\n",
    "    tic_type = pd.DataFrame(index=qType.columns, data=qType.values[0])\n",
    "    \n",
    "    # Loop by tickers type to find if any tickers are crypto\n",
    "    for i in range(len(tic_type)):\n",
    "        \n",
    "        if tic_type.iloc[i].values == 'CRYPTOCURRENCY':\n",
    "            \n",
    "            # If that is True, then add crypto ticker again at FIRST place\n",
    "            tickers.insert(0,tic_type.index[i])\n",
    "            # Then remove duplicates\n",
    "            tickers = list(dict.fromkeys(tickers))\n",
    "            break\n",
    "        else:\n",
    "            pass\n",
    "    \n",
    "    # Return sorted tickers    \n",
    "    return tickers"
   ]
  },
  {
   "cell_type": "code",
   "execution_count": 6,
   "id": "ab1d37a3",
   "metadata": {},
   "outputs": [],
   "source": [
    "def select_freq(full_DR, busieness_DR):\n",
    "    \n",
    "    if freq == 'choese freq':\n",
    "        \n",
    "        print('Now you will decide if you want to work on full date range or only business days:')\n",
    "        display(full_DR, busieness_DR)\n",
    "\n",
    "    else:\n",
    "        pass\n",
    "        \n",
    "    return full_DR, busieness_DR"
   ]
  },
  {
   "cell_type": "code",
   "execution_count": 7,
   "id": "07517fcb",
   "metadata": {},
   "outputs": [],
   "source": [
    "def choese_freq(full_DR, busieness_DR, freq):\n",
    "    \n",
    "    if freq == 'choese freq':\n",
    "\n",
    "        # All aveliable tickers\n",
    "        freqs = [full_DR, busieness_DR]\n",
    "\n",
    "        # Tickers that user selectes\n",
    "        choesen_freq = []\n",
    "\n",
    "        # Add tickers to choesen ticker by loop\n",
    "        for freq in freqs:\n",
    "\n",
    "            if freq.get_interact_value() == True:\n",
    "                freq_name = freq.description\n",
    "                choesen_freq.append(freq_name)\n",
    "\n",
    "            else:\n",
    "                pass\n",
    "\n",
    "        # Condition: You must select at least 2 stocks\n",
    "        if len(choesen_freq) <1:\n",
    "            print('You must select at least 1 frequency to continue')\n",
    "            \n",
    "        elif len(choesen_freq) > 1:\n",
    "            print('You can NOT select more than 1 frequency at a time')\n",
    "\n",
    "        # If condiction is fulfilled then print choesen tickers\n",
    "        else:\n",
    "            print(f'Your choice: {choesen_freq}')\n",
    "            \n",
    "    else:\n",
    "        choesen_freq = ['252']\n",
    "        \n",
    "\n",
    "    return choesen_freq"
   ]
  },
  {
   "cell_type": "code",
   "execution_count": 8,
   "id": "7687b57b",
   "metadata": {},
   "outputs": [],
   "source": [
    "def cut_weekends(data):\n",
    "    \n",
    "    # Create date range with proper busieness dates only\n",
    "    prop_dRange = pd.bdate_range(start, end)\n",
    "    \n",
    "    # For some reason yahoo finance download one extra day afrer end date for crypt\n",
    "    # So I must cut it\n",
    "    data = data[:-1]\n",
    "    \n",
    "    # loop by any row in data\n",
    "    for i in range(len(data)):\n",
    "        \n",
    "        # If weekday of specific date is equal 5 it means that this is saturday\n",
    "        if data.index[i].weekday() == 5:\n",
    "            \n",
    "            # Drop saturday\n",
    "            data.drop(data.index[i], inplace=True)\n",
    "            \n",
    "            # Now Sunday is in posiotion of i, becouse we already cut Saturday, so I just need to make one more drop here\n",
    "            data.drop(data.index[i], inplace=True)\n",
    "            \n",
    "        else:\n",
    "            # If len of busines day index created by hand is equal new cuted data, then brak loop\n",
    "            if len(prop_dRange) == len(data):\n",
    "                break\n",
    "        \n",
    "    return data"
   ]
  },
  {
   "cell_type": "code",
   "execution_count": 24,
   "id": "600bd0d5",
   "metadata": {},
   "outputs": [],
   "source": [
    "def create_data_without_weekends(tickers, start, end):\n",
    "    \n",
    "    data = pd.DataFrame()\n",
    "\n",
    "    # loop by tickers\n",
    "    for ticker in tickers:\n",
    "\n",
    "        # First we must check if asset is crypt\n",
    "        qType = pdr.get_quote_yahoo(ticker, start = start, end = end)['quoteType'].iloc[0]\n",
    "\n",
    "        if qType == 'CRYPTOCURRENCY':\n",
    "\n",
    "            # download data\n",
    "            dt = pdr.get_data_yahoo([ticker], start = start, end = end)['Adj Close']\n",
    "            # Cut weekends\n",
    "            dt = cut_weekends(dt)\n",
    "\n",
    "\n",
    "        else:\n",
    "            # If no, just download data\n",
    "            dt = pdr.get_data_yahoo([ticker], start = start, end = end)['Adj Close']\n",
    "\n",
    "\n",
    "        # Add column named as ticker with values from function\n",
    "        data[ticker] = dt\n",
    "        \n",
    "    # In cease, there is some missing dates in Yahoo finance\n",
    "    data.fillna(method='bfill', inplace=True)\n",
    "    \n",
    "    return data"
   ]
  },
  {
   "cell_type": "markdown",
   "id": "8849ff65",
   "metadata": {},
   "source": [
    "##### Check if any of data is crypto asset"
   ]
  },
  {
   "cell_type": "code",
   "execution_count": 53,
   "id": "9d40d367",
   "metadata": {},
   "outputs": [],
   "source": [
    "# I choese period and stocks based on calculations from \"ChoeseStockAndPerio\"\n",
    "# In final notebook I will compare all functions together\n",
    "start = '2014-09-17'\n",
    "end = '2022-04-20'\n",
    "\n",
    "start = pd.Timestamp(start)\n",
    "end = pd.Timestamp(end)\n",
    "\n",
    "tickers = ['CSPX.L', 'IEF', 'FILL', 'PALL', 'BTC-USD']"
   ]
  },
  {
   "cell_type": "code",
   "execution_count": 54,
   "id": "04f517ec",
   "metadata": {},
   "outputs": [],
   "source": [
    "# Checkboxs\n",
    "full_DR = Checkbox(description = '365')\n",
    "busieness_DR = Checkbox(description = '252')"
   ]
  },
  {
   "cell_type": "code",
   "execution_count": 55,
   "id": "e40059fa",
   "metadata": {},
   "outputs": [
    {
     "ename": "UnboundLocalError",
     "evalue": "local variable 'tickers' referenced before assignment",
     "output_type": "error",
     "traceback": [
      "\u001b[1;31m---------------------------------------------------------------------------\u001b[0m",
      "\u001b[1;31mUnboundLocalError\u001b[0m                         Traceback (most recent call last)",
      "\u001b[1;32m<ipython-input-55-ed87205aa91c>\u001b[0m in \u001b[0;36m<module>\u001b[1;34m\u001b[0m\n\u001b[1;32m----> 1\u001b[1;33m \u001b[0mfreq\u001b[0m \u001b[1;33m=\u001b[0m \u001b[0mcheck_quote_type\u001b[0m\u001b[1;33m(\u001b[0m\u001b[0mtickers\u001b[0m\u001b[1;33m,\u001b[0m \u001b[0mstart\u001b[0m\u001b[1;33m,\u001b[0m \u001b[0mend\u001b[0m\u001b[1;33m)\u001b[0m\u001b[1;33m\u001b[0m\u001b[1;33m\u001b[0m\u001b[0m\n\u001b[0m",
      "\u001b[1;32m<ipython-input-52-cc84961b821b>\u001b[0m in \u001b[0;36mcheck_quote_type\u001b[1;34m(ticker, start, end)\u001b[0m\n\u001b[0;32m      1\u001b[0m \u001b[1;32mdef\u001b[0m \u001b[0mcheck_quote_type\u001b[0m\u001b[1;33m(\u001b[0m\u001b[0mticker\u001b[0m\u001b[1;33m,\u001b[0m \u001b[0mstart\u001b[0m\u001b[1;33m,\u001b[0m \u001b[0mend\u001b[0m\u001b[1;33m)\u001b[0m\u001b[1;33m:\u001b[0m\u001b[1;33m\u001b[0m\u001b[1;33m\u001b[0m\u001b[0m\n\u001b[0;32m      2\u001b[0m \u001b[1;33m\u001b[0m\u001b[0m\n\u001b[1;32m----> 3\u001b[1;33m     \u001b[0mqType\u001b[0m \u001b[1;33m=\u001b[0m \u001b[0mpd\u001b[0m\u001b[1;33m.\u001b[0m\u001b[0mDataFrame\u001b[0m\u001b[1;33m(\u001b[0m\u001b[0mindex\u001b[0m\u001b[1;33m=\u001b[0m\u001b[0mtickers\u001b[0m\u001b[1;33m)\u001b[0m\u001b[1;33m\u001b[0m\u001b[1;33m\u001b[0m\u001b[0m\n\u001b[0m\u001b[0;32m      4\u001b[0m \u001b[1;33m\u001b[0m\u001b[0m\n\u001b[0;32m      5\u001b[0m     \u001b[1;31m# Loop by all selected tickers and get ticker quota type from Yahoo\u001b[0m\u001b[1;33m\u001b[0m\u001b[1;33m\u001b[0m\u001b[1;33m\u001b[0m\u001b[0m\n",
      "\u001b[1;31mUnboundLocalError\u001b[0m: local variable 'tickers' referenced before assignment"
     ]
    }
   ],
   "source": [
    "freq = check_quote_type(tickers, start, end)"
   ]
  },
  {
   "cell_type": "code",
   "execution_count": 57,
   "id": "02bc698f",
   "metadata": {},
   "outputs": [],
   "source": [
    "qType = pd.DataFrame(index=tickers)\n",
    "    \n",
    "# Loop by all selected tickers and get ticker quota type from Yahoo\n",
    "for ticker in tickers:\n",
    "    qType[ticker] = pdr.get_quote_yahoo(ticker, start = start, end = end)['quoteType'].iloc[0]\n",
    "\n",
    "# Store all unique quota types in variable\n",
    "unique_types = qType.iloc[0].unique()\n",
    "for i in range(len(unique_types)):\n",
    "\n",
    "    # If any of assets is crypto then set freq = 'choese freq', which means that user must decide if he/she want to work on\n",
    "    # full year range = 365 or business days year range = 252\n",
    "    if unique_types[i] == 'CRYPTOCURRENCY':\n",
    "\n",
    "        tickers.insert(0,ticker)\n",
    "        tickers = list(dict.fromkeys(tickers))\n",
    "\n",
    "        freq = 'choese freq'\n",
    "        break\n",
    "\n",
    "    # If there is no crypto just set freq to busieness days only\n",
    "    else:\n",
    "\n",
    "        freq = 'business days'\n",
    "\n",
    "\n"
   ]
  },
  {
   "cell_type": "code",
   "execution_count": 62,
   "id": "5b21c611",
   "metadata": {},
   "outputs": [
    {
     "data": {
      "text/plain": [
       "Index(['CSPX.L', 'IEF', 'FILL', 'PALL', 'BTC-USD'], dtype='object')"
      ]
     },
     "execution_count": 62,
     "metadata": {},
     "output_type": "execute_result"
    }
   ],
   "source": [
    "qType.columns"
   ]
  },
  {
   "cell_type": "code",
   "execution_count": 65,
   "id": "5086d01f",
   "metadata": {},
   "outputs": [
    {
     "data": {
      "text/plain": [
       "array(['ETF', 'ETF', 'ETF', 'ETF', 'CRYPTOCURRENCY'], dtype=object)"
      ]
     },
     "execution_count": 65,
     "metadata": {},
     "output_type": "execute_result"
    }
   ],
   "source": [
    "qType.values[0]"
   ]
  },
  {
   "cell_type": "code",
   "execution_count": 70,
   "id": "861ed1ec",
   "metadata": {},
   "outputs": [],
   "source": [
    "tic_type = pd.DataFrame(index=qType.columns, data=qType.values[0])"
   ]
  },
  {
   "cell_type": "code",
   "execution_count": 75,
   "id": "e612e634",
   "metadata": {},
   "outputs": [],
   "source": [
    "tic_type = pd.DataFrame(index=qType.columns, data=qType.values[0])\n",
    "for i in range(len(tic_type)):\n",
    "    if tic_type.iloc[i].values == 'CRYPTOCURRENCY':\n",
    "        tickers.insert(0,tic_type.index[i])\n",
    "        tickers = list(dict.fromkeys(tickers))\n",
    "    else:\n",
    "        pass"
   ]
  },
  {
   "cell_type": "code",
   "execution_count": 76,
   "id": "634cff8a",
   "metadata": {},
   "outputs": [
    {
     "data": {
      "text/plain": [
       "['BTC-USD', 'CSPX.L', 'IEF', 'FILL', 'PALL']"
      ]
     },
     "execution_count": 76,
     "metadata": {},
     "output_type": "execute_result"
    }
   ],
   "source": [
    "tickers"
   ]
  },
  {
   "cell_type": "code",
   "execution_count": null,
   "id": "e6067725",
   "metadata": {},
   "outputs": [],
   "source": []
  },
  {
   "cell_type": "code",
   "execution_count": null,
   "id": "b42729dd",
   "metadata": {},
   "outputs": [],
   "source": []
  },
  {
   "cell_type": "code",
   "execution_count": null,
   "id": "a3626000",
   "metadata": {},
   "outputs": [],
   "source": []
  },
  {
   "cell_type": "code",
   "execution_count": 31,
   "id": "364c873f",
   "metadata": {},
   "outputs": [
    {
     "data": {
      "text/plain": [
       "['CSPX.L', 'IEF', 'FILL', 'PALL', 'BTC-USD']"
      ]
     },
     "execution_count": 31,
     "metadata": {},
     "output_type": "execute_result"
    }
   ],
   "source": [
    "tickers"
   ]
  },
  {
   "cell_type": "code",
   "execution_count": 33,
   "id": "23540c3c",
   "metadata": {},
   "outputs": [
    {
     "data": {
      "text/plain": [
       "CSPX.L    ETF\n",
       "Name: quoteType, dtype: object"
      ]
     },
     "execution_count": 33,
     "metadata": {},
     "output_type": "execute_result"
    }
   ],
   "source": [
    "pdr.get_quote_yahoo('CSPX.L', start = start, end = end)['quoteType']"
   ]
  },
  {
   "cell_type": "code",
   "execution_count": 34,
   "id": "1788a9eb",
   "metadata": {},
   "outputs": [],
   "source": [
    "qType = pd.DataFrame(index=tickers)\n",
    "\n",
    "sorted_tickers\n",
    "\n",
    "# Loop by all selected tickers and get ticker quota type from Yahoo\n",
    "for ticker in tickers:\n",
    "    qType[ticker] = pdr.get_quote_yahoo(ticker, start = start, end = end)['quoteType']"
   ]
  },
  {
   "cell_type": "code",
   "execution_count": 37,
   "id": "4bd089c9",
   "metadata": {},
   "outputs": [
    {
     "data": {
      "text/plain": [
       "Index(['CSPX.L', 'IEF', 'FILL', 'PALL', 'BTC-USD'], dtype='object')"
      ]
     },
     "execution_count": 37,
     "metadata": {},
     "output_type": "execute_result"
    }
   ],
   "source": [
    "qType.index"
   ]
  },
  {
   "cell_type": "code",
   "execution_count": null,
   "id": "174561ea",
   "metadata": {},
   "outputs": [],
   "source": [
    "tickers.insert(0,'BTC-USD')\n",
    "tickers = list(dict.fromkeys(tickers))"
   ]
  },
  {
   "cell_type": "code",
   "execution_count": 51,
   "id": "a29db34f",
   "metadata": {},
   "outputs": [
    {
     "data": {
      "text/plain": [
       "['BTC-USD', 'CSPX.L', 'IEF', 'FILL', 'PALL']"
      ]
     },
     "execution_count": 51,
     "metadata": {},
     "output_type": "execute_result"
    }
   ],
   "source": [
    "tickers"
   ]
  },
  {
   "cell_type": "code",
   "execution_count": null,
   "id": "e4d5a7a5",
   "metadata": {},
   "outputs": [],
   "source": []
  },
  {
   "cell_type": "code",
   "execution_count": null,
   "id": "d246d34c",
   "metadata": {},
   "outputs": [],
   "source": []
  },
  {
   "cell_type": "code",
   "execution_count": null,
   "id": "0a79018c",
   "metadata": {},
   "outputs": [],
   "source": []
  },
  {
   "cell_type": "code",
   "execution_count": null,
   "id": "0ef680bb",
   "metadata": {},
   "outputs": [],
   "source": []
  },
  {
   "cell_type": "code",
   "execution_count": 30,
   "id": "d589c138",
   "metadata": {},
   "outputs": [
    {
     "data": {
      "text/plain": [
       "'choese freq'"
      ]
     },
     "execution_count": 30,
     "metadata": {},
     "output_type": "execute_result"
    }
   ],
   "source": [
    "freq"
   ]
  },
  {
   "cell_type": "code",
   "execution_count": 12,
   "id": "aa7f1427",
   "metadata": {},
   "outputs": [
    {
     "name": "stdout",
     "output_type": "stream",
     "text": [
      "Now you will decide if you want to work on full date range or only business days:\n"
     ]
    },
    {
     "data": {
      "application/vnd.jupyter.widget-view+json": {
       "model_id": "56c0f1da81ff461cb032d5fa1400a30e",
       "version_major": 2,
       "version_minor": 0
      },
      "text/plain": [
       "Checkbox(value=False, description='365')"
      ]
     },
     "metadata": {},
     "output_type": "display_data"
    },
    {
     "data": {
      "application/vnd.jupyter.widget-view+json": {
       "model_id": "78ded92a9a2f4dd4ba363153b858415d",
       "version_major": 2,
       "version_minor": 0
      },
      "text/plain": [
       "Checkbox(value=False, description='252')"
      ]
     },
     "metadata": {},
     "output_type": "display_data"
    }
   ],
   "source": [
    "full_DR, busieness_DR = select_freq(full_DR, busieness_DR)"
   ]
  },
  {
   "cell_type": "code",
   "execution_count": 17,
   "id": "9f55fa98",
   "metadata": {},
   "outputs": [
    {
     "name": "stdout",
     "output_type": "stream",
     "text": [
      "Your choice: ['365']\n"
     ]
    }
   ],
   "source": [
    "choesen_freq = choese_freq(full_DR, busieness_DR, freq)"
   ]
  },
  {
   "cell_type": "code",
   "execution_count": 18,
   "id": "a20429a0",
   "metadata": {},
   "outputs": [
    {
     "data": {
      "text/plain": [
       "'365'"
      ]
     },
     "execution_count": 18,
     "metadata": {},
     "output_type": "execute_result"
    }
   ],
   "source": [
    "choesen_freq[0]"
   ]
  },
  {
   "cell_type": "code",
   "execution_count": 26,
   "id": "c190a449",
   "metadata": {},
   "outputs": [],
   "source": [
    "def createDF_with_choesen_ferq(choesen_freq, tickers, start, end, createPrepDataFrame, PasteMissingRows, create_data_without_weekends):\n",
    "   \n",
    "    if choesen_freq[0] == '365':\n",
    "\n",
    "        # Create 365days per year index and prepare data by functio\n",
    "        data = createPrepDataFrame(tickers, start, end, PasteMissingRows)\n",
    "        n = 365\n",
    "\n",
    "    elif choesen_freq[0] == '252':\n",
    "\n",
    "        # Create 252 days per year index and prepare data\n",
    "        # Even if user did not choese crypto for his portfolio it will fill missinig values\n",
    "        data = create_data_without_weekends(tickers, start, end)\n",
    "        n = 252\n",
    "\n",
    "\n",
    "    else:\n",
    "        print('You didn\\'t selected frequency!')\n",
    "        \n",
    "    return data, n"
   ]
  },
  {
   "cell_type": "code",
   "execution_count": 27,
   "id": "7300305e",
   "metadata": {},
   "outputs": [],
   "source": [
    "data, n = createDF_with_choesen_ferq(choesen_freq, tickers, start, end, createPrepDataFrame, PasteMissingRows, create_data_without_weekends)"
   ]
  },
  {
   "cell_type": "code",
   "execution_count": 28,
   "id": "32e2b88d",
   "metadata": {},
   "outputs": [
    {
     "data": {
      "text/html": [
       "<div>\n",
       "<style scoped>\n",
       "    .dataframe tbody tr th:only-of-type {\n",
       "        vertical-align: middle;\n",
       "    }\n",
       "\n",
       "    .dataframe tbody tr th {\n",
       "        vertical-align: top;\n",
       "    }\n",
       "\n",
       "    .dataframe thead th {\n",
       "        text-align: right;\n",
       "    }\n",
       "</style>\n",
       "<table border=\"1\" class=\"dataframe\">\n",
       "  <thead>\n",
       "    <tr style=\"text-align: right;\">\n",
       "      <th></th>\n",
       "      <th>BTC-USD</th>\n",
       "      <th>CSPX.L</th>\n",
       "      <th>IEF</th>\n",
       "      <th>FILL</th>\n",
       "      <th>PALL</th>\n",
       "    </tr>\n",
       "    <tr>\n",
       "      <th>Date</th>\n",
       "      <th></th>\n",
       "      <th></th>\n",
       "      <th></th>\n",
       "      <th></th>\n",
       "      <th></th>\n",
       "    </tr>\n",
       "  </thead>\n",
       "  <tbody>\n",
       "    <tr>\n",
       "      <th>2014-09-17</th>\n",
       "      <td>457.334015</td>\n",
       "      <td>181.830002</td>\n",
       "      <td>90.292450</td>\n",
       "      <td>20.905535</td>\n",
       "      <td>81.010002</td>\n",
       "    </tr>\n",
       "    <tr>\n",
       "      <th>2014-09-18</th>\n",
       "      <td>424.440002</td>\n",
       "      <td>182.869995</td>\n",
       "      <td>90.230843</td>\n",
       "      <td>20.529337</td>\n",
       "      <td>80.459999</td>\n",
       "    </tr>\n",
       "    <tr>\n",
       "      <th>2014-09-19</th>\n",
       "      <td>394.795990</td>\n",
       "      <td>183.274994</td>\n",
       "      <td>90.573959</td>\n",
       "      <td>20.537016</td>\n",
       "      <td>78.870003</td>\n",
       "    </tr>\n",
       "    <tr>\n",
       "      <th>2014-09-20</th>\n",
       "      <td>408.903992</td>\n",
       "      <td>183.274994</td>\n",
       "      <td>90.573959</td>\n",
       "      <td>20.537016</td>\n",
       "      <td>78.870003</td>\n",
       "    </tr>\n",
       "    <tr>\n",
       "      <th>2014-09-21</th>\n",
       "      <td>398.821014</td>\n",
       "      <td>183.274994</td>\n",
       "      <td>90.573959</td>\n",
       "      <td>20.537016</td>\n",
       "      <td>78.870003</td>\n",
       "    </tr>\n",
       "    <tr>\n",
       "      <th>...</th>\n",
       "      <td>...</td>\n",
       "      <td>...</td>\n",
       "      <td>...</td>\n",
       "      <td>...</td>\n",
       "      <td>...</td>\n",
       "    </tr>\n",
       "    <tr>\n",
       "      <th>2022-04-16</th>\n",
       "      <td>40424.484375</td>\n",
       "      <td>453.880005</td>\n",
       "      <td>103.314240</td>\n",
       "      <td>23.600000</td>\n",
       "      <td>218.660004</td>\n",
       "    </tr>\n",
       "    <tr>\n",
       "      <th>2022-04-17</th>\n",
       "      <td>39716.953125</td>\n",
       "      <td>453.880005</td>\n",
       "      <td>103.314240</td>\n",
       "      <td>23.600000</td>\n",
       "      <td>218.660004</td>\n",
       "    </tr>\n",
       "    <tr>\n",
       "      <th>2022-04-18</th>\n",
       "      <td>40826.214844</td>\n",
       "      <td>453.880005</td>\n",
       "      <td>103.014603</td>\n",
       "      <td>23.820000</td>\n",
       "      <td>225.899994</td>\n",
       "    </tr>\n",
       "    <tr>\n",
       "      <th>2022-04-19</th>\n",
       "      <td>41502.750000</td>\n",
       "      <td>455.679993</td>\n",
       "      <td>102.335426</td>\n",
       "      <td>23.740000</td>\n",
       "      <td>221.520004</td>\n",
       "    </tr>\n",
       "    <tr>\n",
       "      <th>2022-04-20</th>\n",
       "      <td>41374.378906</td>\n",
       "      <td>457.929993</td>\n",
       "      <td>103.134460</td>\n",
       "      <td>23.900000</td>\n",
       "      <td>229.000000</td>\n",
       "    </tr>\n",
       "  </tbody>\n",
       "</table>\n",
       "<p>2773 rows × 5 columns</p>\n",
       "</div>"
      ],
      "text/plain": [
       "                 BTC-USD      CSPX.L         IEF       FILL        PALL\n",
       "Date                                                                   \n",
       "2014-09-17    457.334015  181.830002   90.292450  20.905535   81.010002\n",
       "2014-09-18    424.440002  182.869995   90.230843  20.529337   80.459999\n",
       "2014-09-19    394.795990  183.274994   90.573959  20.537016   78.870003\n",
       "2014-09-20    408.903992  183.274994   90.573959  20.537016   78.870003\n",
       "2014-09-21    398.821014  183.274994   90.573959  20.537016   78.870003\n",
       "...                  ...         ...         ...        ...         ...\n",
       "2022-04-16  40424.484375  453.880005  103.314240  23.600000  218.660004\n",
       "2022-04-17  39716.953125  453.880005  103.314240  23.600000  218.660004\n",
       "2022-04-18  40826.214844  453.880005  103.014603  23.820000  225.899994\n",
       "2022-04-19  41502.750000  455.679993  102.335426  23.740000  221.520004\n",
       "2022-04-20  41374.378906  457.929993  103.134460  23.900000  229.000000\n",
       "\n",
       "[2773 rows x 5 columns]"
      ]
     },
     "execution_count": 28,
     "metadata": {},
     "output_type": "execute_result"
    }
   ],
   "source": [
    "data"
   ]
  },
  {
   "cell_type": "code",
   "execution_count": 29,
   "id": "c8c19eb1",
   "metadata": {},
   "outputs": [
    {
     "data": {
      "text/plain": [
       "365"
      ]
     },
     "execution_count": 29,
     "metadata": {},
     "output_type": "execute_result"
    }
   ],
   "source": [
    "n"
   ]
  },
  {
   "cell_type": "code",
   "execution_count": null,
   "id": "506b850f",
   "metadata": {},
   "outputs": [],
   "source": []
  },
  {
   "cell_type": "code",
   "execution_count": null,
   "id": "f4695c14",
   "metadata": {},
   "outputs": [],
   "source": []
  },
  {
   "cell_type": "code",
   "execution_count": null,
   "id": "db63a1b2",
   "metadata": {},
   "outputs": [],
   "source": []
  },
  {
   "cell_type": "code",
   "execution_count": null,
   "id": "2e00c9b9",
   "metadata": {},
   "outputs": [],
   "source": []
  },
  {
   "cell_type": "code",
   "execution_count": null,
   "id": "a3e53252",
   "metadata": {},
   "outputs": [],
   "source": []
  },
  {
   "cell_type": "code",
   "execution_count": null,
   "id": "d5566021",
   "metadata": {},
   "outputs": [],
   "source": []
  },
  {
   "cell_type": "code",
   "execution_count": null,
   "id": "d57f8f85",
   "metadata": {},
   "outputs": [],
   "source": []
  },
  {
   "cell_type": "code",
   "execution_count": null,
   "id": "df1fe851",
   "metadata": {},
   "outputs": [],
   "source": []
  },
  {
   "cell_type": "code",
   "execution_count": null,
   "id": "17ba7e42",
   "metadata": {},
   "outputs": [],
   "source": []
  },
  {
   "cell_type": "code",
   "execution_count": null,
   "id": "439386f6",
   "metadata": {},
   "outputs": [],
   "source": []
  },
  {
   "cell_type": "code",
   "execution_count": null,
   "id": "be8c2ef4",
   "metadata": {},
   "outputs": [],
   "source": []
  },
  {
   "cell_type": "code",
   "execution_count": null,
   "id": "18e6a2a0",
   "metadata": {},
   "outputs": [],
   "source": []
  },
  {
   "cell_type": "code",
   "execution_count": null,
   "id": "ba60e30e",
   "metadata": {},
   "outputs": [],
   "source": []
  },
  {
   "cell_type": "code",
   "execution_count": null,
   "id": "b41bd42e",
   "metadata": {},
   "outputs": [],
   "source": []
  },
  {
   "cell_type": "code",
   "execution_count": null,
   "id": "f4398215",
   "metadata": {},
   "outputs": [],
   "source": []
  },
  {
   "cell_type": "code",
   "execution_count": null,
   "id": "ce336854",
   "metadata": {},
   "outputs": [],
   "source": []
  },
  {
   "cell_type": "code",
   "execution_count": null,
   "id": "13e8c4e7",
   "metadata": {},
   "outputs": [],
   "source": []
  },
  {
   "cell_type": "code",
   "execution_count": null,
   "id": "dba4073a",
   "metadata": {},
   "outputs": [],
   "source": []
  },
  {
   "cell_type": "code",
   "execution_count": null,
   "id": "2af69b27",
   "metadata": {},
   "outputs": [],
   "source": []
  },
  {
   "cell_type": "code",
   "execution_count": null,
   "id": "788e58c4",
   "metadata": {},
   "outputs": [],
   "source": []
  },
  {
   "cell_type": "code",
   "execution_count": null,
   "id": "bc532b90",
   "metadata": {},
   "outputs": [],
   "source": []
  },
  {
   "cell_type": "code",
   "execution_count": null,
   "id": "7ddf6aff",
   "metadata": {},
   "outputs": [],
   "source": []
  },
  {
   "cell_type": "code",
   "execution_count": null,
   "id": "cd5c18dd",
   "metadata": {},
   "outputs": [],
   "source": []
  },
  {
   "cell_type": "code",
   "execution_count": null,
   "id": "37f1a171",
   "metadata": {},
   "outputs": [],
   "source": []
  },
  {
   "cell_type": "code",
   "execution_count": null,
   "id": "0620ce35",
   "metadata": {},
   "outputs": [],
   "source": []
  },
  {
   "cell_type": "code",
   "execution_count": null,
   "id": "88e69ba8",
   "metadata": {},
   "outputs": [],
   "source": []
  },
  {
   "cell_type": "code",
   "execution_count": null,
   "id": "1eb89028",
   "metadata": {},
   "outputs": [],
   "source": []
  },
  {
   "cell_type": "code",
   "execution_count": null,
   "id": "a79f2f77",
   "metadata": {},
   "outputs": [],
   "source": []
  },
  {
   "cell_type": "code",
   "execution_count": null,
   "id": "f4f2cce7",
   "metadata": {},
   "outputs": [],
   "source": []
  },
  {
   "cell_type": "markdown",
   "id": "f11ff2dd",
   "metadata": {},
   "source": [
    "##### Option: add days"
   ]
  },
  {
   "cell_type": "code",
   "execution_count": 9,
   "id": "2cb96617",
   "metadata": {},
   "outputs": [
    {
     "name": "stderr",
     "output_type": "stream",
     "text": [
      "C:\\ProgramData\\Anaconda3\\lib\\site-packages\\pandas\\core\\indexing.py:723: SettingWithCopyWarning: \n",
      "A value is trying to be set on a copy of a slice from a DataFrame\n",
      "\n",
      "See the caveats in the documentation: https://pandas.pydata.org/pandas-docs/stable/user_guide/indexing.html#returning-a-view-versus-a-copy\n",
      "  iloc._setitem_with_indexer(indexer, value, self.name)\n"
     ]
    }
   ],
   "source": [
    "df = createPrepDataFrame(tickers, start, end, PasteMissingRows)"
   ]
  },
  {
   "cell_type": "code",
   "execution_count": 87,
   "id": "bd1dc98b",
   "metadata": {},
   "outputs": [
    {
     "data": {
      "text/plain": [
       "252"
      ]
     },
     "execution_count": 87,
     "metadata": {},
     "output_type": "execute_result"
    }
   ],
   "source": [
    "choesen_freq = int(choesen_freq[0])"
   ]
  },
  {
   "cell_type": "code",
   "execution_count": null,
   "id": "6b7bbd2f",
   "metadata": {},
   "outputs": [],
   "source": []
  }
 ],
 "metadata": {
  "kernelspec": {
   "display_name": "Python 3",
   "language": "python",
   "name": "python3"
  },
  "language_info": {
   "codemirror_mode": {
    "name": "ipython",
    "version": 3
   },
   "file_extension": ".py",
   "mimetype": "text/x-python",
   "name": "python",
   "nbconvert_exporter": "python",
   "pygments_lexer": "ipython3",
   "version": "3.8.8"
  }
 },
 "nbformat": 4,
 "nbformat_minor": 5
}
