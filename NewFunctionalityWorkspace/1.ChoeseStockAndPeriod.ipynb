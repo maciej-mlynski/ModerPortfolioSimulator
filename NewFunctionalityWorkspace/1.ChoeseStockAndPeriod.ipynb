{
 "cells": [
  {
   "cell_type": "markdown",
   "id": "f8c00879",
   "metadata": {},
   "source": [
    "**I would like to change 2 things in my algo:**\n",
    "\n",
    "1. Add more tickers to choese for use\n",
    "2. Add aveliability to write own ticker by hand (with error handling if ticker does not exist)"
   ]
  },
  {
   "cell_type": "code",
   "execution_count": 2,
   "id": "9cdcf248",
   "metadata": {},
   "outputs": [],
   "source": [
    "import numpy as np\n",
    "import yfinance as yf\n",
    "import pandas as pd\n",
    "import matplotlib.pyplot as plt\n",
    "import scipy.optimize as optimization\n",
    "import pandas_datareader as pdr\n",
    "import datetime as dt\n",
    "from ipywidgets import Checkbox"
   ]
  },
  {
   "cell_type": "code",
   "execution_count": 2,
   "id": "44727e81",
   "metadata": {},
   "outputs": [],
   "source": [
    "# def function that take selected tickers\n",
    "def choese_stock(tick):\n",
    "\n",
    "    # All aveliable tickers\n",
    "    tickers = [SPX_, FXI_, GMF_, EXS1_, VGK_,DBC_, FILL_, BNO_, PICK_,SGOL_, PPLT_, SIVR_, PALL_,BTC_,IEF_]\n",
    "    \n",
    "    # Tickers that user selectes\n",
    "    choesen_ticker = []\n",
    "\n",
    "    # Add tickers to choesen ticker by loop\n",
    "    for ticker in tickers:\n",
    "\n",
    "        if ticker.get_interact_value() == True:\n",
    "            ticker_name = ticker.description\n",
    "            choesen_ticker.append(ticker_name)\n",
    "\n",
    "        else:\n",
    "            pass\n",
    "\n",
    "    # Condition: You must select at least 2 stocks\n",
    "    if len(choesen_ticker) <2:\n",
    "        print('You must select at least 2 stocks in analyse perpouse')\n",
    "    \n",
    "    # If condiction is fulfilled then print choesen tickers\n",
    "    else:\n",
    "        print(f'Your choice: {choesen_ticker}')\n",
    "        \n",
    "    return choesen_ticker\n"
   ]
  },
  {
   "cell_type": "code",
   "execution_count": 3,
   "id": "7db463d1",
   "metadata": {},
   "outputs": [],
   "source": [
    "def add_stock_by_hand(tickers, new_tickers):\n",
    "    \n",
    "    for ticker in new_tickers:\n",
    "\n",
    "        # Check if ticker has not been taken already in checkbox\n",
    "        if ticker in tickers:\n",
    "                print(f'{ticker} has been already choesen priviously')\n",
    "        else:\n",
    "\n",
    "            # If no check if ticker exist in Yahoo Finance\n",
    "            try:\n",
    "                check_ticker = pdr.get_data_yahoo(ticker).first_valid_index()\n",
    "                tickers.append(ticker)\n",
    "                # If exist add to tickers array\n",
    "                print(f'{ticker} exist in Yahoo Finance and has been added to your analysis')\n",
    "\n",
    "            # If does not exist print comment\n",
    "            except:\n",
    "                print(f'{ticker} does not exist in Yahoo Finance')\n",
    "                \n",
    "    return tickers"
   ]
  },
  {
   "cell_type": "code",
   "execution_count": 3,
   "id": "1130f2b7",
   "metadata": {},
   "outputs": [],
   "source": [
    "# Create checkbox listo to choese\n",
    "SPX_= Checkbox(description = 'CSPX.L')\n",
    "BTC_ = Checkbox(description = 'BTC-USD')\n",
    "IEF_ = Checkbox(description = 'IEF')\n",
    "FILL_ = Checkbox(description = 'FILL')\n",
    "PALL_ = Checkbox(description = 'PALL')\n",
    "FXI_ = Checkbox(description = 'FXI')\n",
    "GMF_ = Checkbox(description = 'GMF')\n",
    "EXS1_ = Checkbox(description = 'EXS1.DE')\n",
    "VGK_ = Checkbox(description = 'VGK')\n",
    "DBC_ = Checkbox(description = 'DBC')\n",
    "BNO_ = Checkbox(description = 'BNO')\n",
    "PICK_ = Checkbox(description = 'PICK')\n",
    "SGOL_ = Checkbox(description = 'SGOL')\n",
    "PPLT_ = Checkbox(description = 'PPLT')\n",
    "SIVR_ = Checkbox(description = 'SIVR')\n",
    "BNO_ = Checkbox(description = 'BNO')"
   ]
  },
  {
   "cell_type": "markdown",
   "id": "cbe70051",
   "metadata": {},
   "source": [
    "**1.Add more tickers**"
   ]
  },
  {
   "cell_type": "code",
   "execution_count": 4,
   "id": "4739767e",
   "metadata": {},
   "outputs": [
    {
     "data": {
      "text/plain": [
       "'Equity'"
      ]
     },
     "metadata": {},
     "output_type": "display_data"
    },
    {
     "data": {
      "application/vnd.jupyter.widget-view+json": {
       "model_id": "6168788650de4a009c565d5cb6e319b6",
       "version_major": 2,
       "version_minor": 0
      },
      "text/plain": [
       "Checkbox(value=False, description='CSPX.L')"
      ]
     },
     "metadata": {},
     "output_type": "display_data"
    },
    {
     "data": {
      "application/vnd.jupyter.widget-view+json": {
       "model_id": "32829a3cdd034281a3c8440dae1a014f",
       "version_major": 2,
       "version_minor": 0
      },
      "text/plain": [
       "Checkbox(value=False, description='FXI')"
      ]
     },
     "metadata": {},
     "output_type": "display_data"
    },
    {
     "data": {
      "application/vnd.jupyter.widget-view+json": {
       "model_id": "c627a4372ef248a785e65911e92d7451",
       "version_major": 2,
       "version_minor": 0
      },
      "text/plain": [
       "Checkbox(value=False, description='GMF')"
      ]
     },
     "metadata": {},
     "output_type": "display_data"
    },
    {
     "data": {
      "application/vnd.jupyter.widget-view+json": {
       "model_id": "889d0ace077c40a9830e1b7f5be998a9",
       "version_major": 2,
       "version_minor": 0
      },
      "text/plain": [
       "Checkbox(value=False, description='EXS1.DE')"
      ]
     },
     "metadata": {},
     "output_type": "display_data"
    },
    {
     "data": {
      "application/vnd.jupyter.widget-view+json": {
       "model_id": "c824067ad66a460a883fb7eb8f1d9526",
       "version_major": 2,
       "version_minor": 0
      },
      "text/plain": [
       "Checkbox(value=False, description='VGK')"
      ]
     },
     "metadata": {},
     "output_type": "display_data"
    },
    {
     "data": {
      "text/plain": [
       "'Comodity'"
      ]
     },
     "metadata": {},
     "output_type": "display_data"
    },
    {
     "data": {
      "application/vnd.jupyter.widget-view+json": {
       "model_id": "2a2dcf63a6b24178aad16fe82eafe9d4",
       "version_major": 2,
       "version_minor": 0
      },
      "text/plain": [
       "Checkbox(value=False, description='DBC')"
      ]
     },
     "metadata": {},
     "output_type": "display_data"
    },
    {
     "data": {
      "application/vnd.jupyter.widget-view+json": {
       "model_id": "77b5737817484b4f853df6463357c68f",
       "version_major": 2,
       "version_minor": 0
      },
      "text/plain": [
       "Checkbox(value=False, description='FILL')"
      ]
     },
     "metadata": {},
     "output_type": "display_data"
    },
    {
     "data": {
      "application/vnd.jupyter.widget-view+json": {
       "model_id": "b838dc28f3f6410fae29c9ea4b0f478b",
       "version_major": 2,
       "version_minor": 0
      },
      "text/plain": [
       "Checkbox(value=False, description='BNO')"
      ]
     },
     "metadata": {},
     "output_type": "display_data"
    },
    {
     "data": {
      "application/vnd.jupyter.widget-view+json": {
       "model_id": "97ee07d0414c463ca832d23cfd49ace8",
       "version_major": 2,
       "version_minor": 0
      },
      "text/plain": [
       "Checkbox(value=False, description='PICK')"
      ]
     },
     "metadata": {},
     "output_type": "display_data"
    },
    {
     "data": {
      "text/plain": [
       "'Precious metals'"
      ]
     },
     "metadata": {},
     "output_type": "display_data"
    },
    {
     "data": {
      "application/vnd.jupyter.widget-view+json": {
       "model_id": "be3363749d0445ff96df5f61c7637c66",
       "version_major": 2,
       "version_minor": 0
      },
      "text/plain": [
       "Checkbox(value=False, description='SGOL')"
      ]
     },
     "metadata": {},
     "output_type": "display_data"
    },
    {
     "data": {
      "application/vnd.jupyter.widget-view+json": {
       "model_id": "db4a8065dc17409baf3adc4c66fad242",
       "version_major": 2,
       "version_minor": 0
      },
      "text/plain": [
       "Checkbox(value=False, description='PPLT')"
      ]
     },
     "metadata": {},
     "output_type": "display_data"
    },
    {
     "data": {
      "application/vnd.jupyter.widget-view+json": {
       "model_id": "f587b92a12014dc7b4ca214ca415ede2",
       "version_major": 2,
       "version_minor": 0
      },
      "text/plain": [
       "Checkbox(value=False, description='SIVR')"
      ]
     },
     "metadata": {},
     "output_type": "display_data"
    },
    {
     "data": {
      "application/vnd.jupyter.widget-view+json": {
       "model_id": "27461ceaa4fc4bb7accb0b31bebf01eb",
       "version_major": 2,
       "version_minor": 0
      },
      "text/plain": [
       "Checkbox(value=False, description='PALL')"
      ]
     },
     "metadata": {},
     "output_type": "display_data"
    },
    {
     "data": {
      "text/plain": [
       "'Crypto'"
      ]
     },
     "metadata": {},
     "output_type": "display_data"
    },
    {
     "data": {
      "application/vnd.jupyter.widget-view+json": {
       "model_id": "a46a67e429254d14bad6b5afd9bc1e8a",
       "version_major": 2,
       "version_minor": 0
      },
      "text/plain": [
       "Checkbox(value=False, description='BTC-USD')"
      ]
     },
     "metadata": {},
     "output_type": "display_data"
    },
    {
     "data": {
      "text/plain": [
       "'Bonds'"
      ]
     },
     "metadata": {},
     "output_type": "display_data"
    },
    {
     "data": {
      "application/vnd.jupyter.widget-view+json": {
       "model_id": "aeb6d27ad31944abaae5ca4f48ddae71",
       "version_major": 2,
       "version_minor": 0
      },
      "text/plain": [
       "Checkbox(value=False, description='IEF')"
      ]
     },
     "metadata": {},
     "output_type": "display_data"
    }
   ],
   "source": [
    "tick = display('Equity', SPX_, FXI_, GMF_, EXS1_, VGK_, \\\n",
    "        'Comodity', DBC_, FILL_, BNO_, PICK_, \\\n",
    "        'Precious metals', SGOL_, PPLT_, SIVR_, PALL_,\\\n",
    "       'Crypto', BTC_, \\\n",
    "       'Bonds', IEF_)"
   ]
  },
  {
   "cell_type": "code",
   "execution_count": 9,
   "id": "8a67601d",
   "metadata": {},
   "outputs": [
    {
     "name": "stdout",
     "output_type": "stream",
     "text": [
      "Your choice: ['BNO', 'PPLT', 'IEF']\n"
     ]
    }
   ],
   "source": [
    "tickers = choese_stock(tick)"
   ]
  },
  {
   "cell_type": "markdown",
   "id": "a48e06d8",
   "metadata": {},
   "source": [
    "**2. Add option to write own ticker**"
   ]
  },
  {
   "cell_type": "code",
   "execution_count": 7,
   "id": "477f791f",
   "metadata": {},
   "outputs": [],
   "source": [
    "# First we must check if ticker exist\n",
    "new_tickers = ['AMZN', 'TSLAAOOA', 'BTC-USD'] # FORMAT eg. ticker = ['AMZN', 'TSLA', 'GM']"
   ]
  },
  {
   "cell_type": "code",
   "execution_count": 9,
   "id": "e83d197d",
   "metadata": {},
   "outputs": [
    {
     "name": "stdout",
     "output_type": "stream",
     "text": [
      "AMZN has been already choesen priviously\n",
      "TSLAAOOA does not exist in Yahoo Finance\n",
      "BTC-USD has been already choesen priviously\n"
     ]
    }
   ],
   "source": [
    "tickers = add_stock_by_hand(tickers, new_tickers)"
   ]
  },
  {
   "cell_type": "code",
   "execution_count": 10,
   "id": "fee7a24d",
   "metadata": {},
   "outputs": [
    {
     "data": {
      "text/plain": [
       "['FXI', 'FILL', 'SGOL', 'SIVR', 'BTC-USD', 'AMZN']"
      ]
     },
     "execution_count": 10,
     "metadata": {},
     "output_type": "execute_result"
    }
   ],
   "source": [
    "tickers"
   ]
  },
  {
   "cell_type": "code",
   "execution_count": 11,
   "id": "2e0142fc",
   "metadata": {},
   "outputs": [],
   "source": [
    "tick"
   ]
  },
  {
   "cell_type": "code",
   "execution_count": null,
   "id": "3106d469",
   "metadata": {},
   "outputs": [],
   "source": []
  }
 ],
 "metadata": {
  "kernelspec": {
   "display_name": "Python 3",
   "language": "python",
   "name": "python3"
  },
  "language_info": {
   "codemirror_mode": {
    "name": "ipython",
    "version": 3
   },
   "file_extension": ".py",
   "mimetype": "text/x-python",
   "name": "python",
   "nbconvert_exporter": "python",
   "pygments_lexer": "ipython3",
   "version": "3.8.8"
  }
 },
 "nbformat": 4,
 "nbformat_minor": 5
}
