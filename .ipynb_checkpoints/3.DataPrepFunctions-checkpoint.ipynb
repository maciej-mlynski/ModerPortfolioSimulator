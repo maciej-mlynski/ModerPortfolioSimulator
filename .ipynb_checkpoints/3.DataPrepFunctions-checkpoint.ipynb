{
 "cells": [
  {
   "cell_type": "code",
   "execution_count": 1,
   "id": "fb0346b3",
   "metadata": {},
   "outputs": [],
   "source": [
    "import numpy as np\n",
    "import yfinance as yf\n",
    "import pandas as pd\n",
    "import matplotlib.pyplot as plt\n",
    "import scipy.optimize as optimization\n",
    "import pandas_datareader as pdr"
   ]
  },
  {
   "cell_type": "code",
   "execution_count": 2,
   "id": "c1c95569",
   "metadata": {},
   "outputs": [],
   "source": [
    "import datetime as dt"
   ]
  },
  {
   "cell_type": "code",
   "execution_count": 3,
   "id": "f8399ad5",
   "metadata": {},
   "outputs": [],
   "source": [
    "class PasteMissingRows:\n",
    "    \n",
    "    def __init__(self, ticker, start_date, end_date):\n",
    "        \n",
    "        self.df = None\n",
    "        self.dates_check = None\n",
    "        self.df_result = None\n",
    "        self.ticker = ticker\n",
    "        self.start_date = start_date\n",
    "        self.end_date = end_date\n",
    "\n",
    "          \n",
    "    def Download_df(self):\n",
    "        \n",
    "        # Download data from yahoo\n",
    "        stock_data = pdr.get_data_yahoo([self.ticker], start = self.start_date, end = self.end_date)['Adj Close']\n",
    "        \n",
    "        df = pd.DataFrame(stock_data)\n",
    "        # Make copy and reset index\n",
    "        df.reset_index(inplace=True)\n",
    "        \n",
    "        return df\n",
    "            \n",
    "        \n",
    "    def Create_df_with_all_dates(self):\n",
    "        \n",
    "        df = self.Download_df()\n",
    "\n",
    "        # Range of dates\n",
    "        dates_check = pd.DataFrame({\"dates\":pd.date_range(start = self.start_date, end = self.end_date)})\n",
    "\n",
    "        return dates_check   \n",
    "    \n",
    "    # Function to insert row in the dataframe\n",
    "    def Insert_value(self,row_number, df, row_value):\n",
    "\n",
    "        # Slice above rows\n",
    "        df1 = df[0:row_number]\n",
    "\n",
    "        # Store below rows\n",
    "        df2 = df[row_number:]\n",
    "\n",
    "        # Insert the row in the upper half dataframe\n",
    "        df1.loc[row_number] = row_value\n",
    "\n",
    "        # Concat the two dataframes\n",
    "        df_result = pd.concat([df1, df2])\n",
    "\n",
    "        # Reassign the index labels\n",
    "        df_result.index = [*range(df_result.shape[0])]\n",
    "        \n",
    "        return df_result\n",
    "\n",
    "    # Function that detect mising rows in df and add previous values where missing\n",
    "    def Insert_row_to_df(self):\n",
    "        \n",
    "        dates_check = self.Create_df_with_all_dates()\n",
    "        df = self.Download_df()\n",
    "        \n",
    "        if len(df) < len(dates_check):\n",
    "        \n",
    "            for i in range(1, len(dates_check)):\n",
    "\n",
    "                # if diff between next days is > 1\n",
    "                if (df['Date'].loc[i] - df['Date'].loc[i-1]).days > 1:\n",
    "\n",
    "                    # first [0]+1 = 1\n",
    "                    row_number = i\n",
    "                    row_value = [dates_check['dates'].iloc[i-1], df[self.ticker].iloc[i-1]]\n",
    "\n",
    "                    # Let's call the function and insert the row\n",
    "                    df = self.Insert_value(row_number, df, row_value)\n",
    "                    df = df.sort_values(by=\"Date\")\n",
    "\n",
    "                else:\n",
    "                    df = df.sort_values(by=\"Date\")\n",
    "                    \n",
    "            df.drop_duplicates(subset=None, keep='first', inplace=True)\n",
    "                    \n",
    "        else:\n",
    "            pass\n",
    "            df = df[:-1]\n",
    "  \n",
    "    \n",
    "        return df"
   ]
  },
  {
   "cell_type": "code",
   "execution_count": 4,
   "id": "d4bc81a9",
   "metadata": {},
   "outputs": [],
   "source": [
    "# I choese period and stocks based on calculations from \"ChoeseStockAndPerio\"\n",
    "# In final notebook I will compare all functions together\n",
    "start = '2014-09-17'\n",
    "end = '2022-04-20'\n",
    "\n",
    "start = pd.Timestamp(start)\n",
    "end = pd.Timestamp(end)\n",
    "\n",
    "tickers = ['BTC-USD', 'CSPX.L', 'IEF', 'FILL', 'PALL']"
   ]
  },
  {
   "cell_type": "code",
   "execution_count": 5,
   "id": "370c8f4c",
   "metadata": {
    "scrolled": true
   },
   "outputs": [],
   "source": [
    "def createPrepDataFrame(ticker):    \n",
    "    \n",
    "    data = pd.DataFrame()\n",
    "\n",
    "    # loop by tickers\n",
    "    for ticker in tickers:\n",
    "\n",
    "        # Use function to insert missing rows for each ticker\n",
    "        dt = PasteMissingRows(ticker=ticker, start_date=start, end_date=end).Insert_row_to_df()\n",
    "\n",
    "        # Set index for proper concating\n",
    "        dt.set_index('Date', inplace=True)\n",
    "\n",
    "        # Add column named as ticker with values from function\n",
    "        data[ticker] = dt\n",
    "    \n",
    "    return data"
   ]
  },
  {
   "cell_type": "code",
   "execution_count": 6,
   "id": "1310cb6b",
   "metadata": {},
   "outputs": [
    {
     "name": "stderr",
     "output_type": "stream",
     "text": [
      "C:\\ProgramData\\Anaconda3\\lib\\site-packages\\pandas\\core\\indexing.py:723: SettingWithCopyWarning: \n",
      "A value is trying to be set on a copy of a slice from a DataFrame\n",
      "\n",
      "See the caveats in the documentation: https://pandas.pydata.org/pandas-docs/stable/user_guide/indexing.html#returning-a-view-versus-a-copy\n",
      "  iloc._setitem_with_indexer(indexer, value, self.name)\n"
     ]
    }
   ],
   "source": [
    "df = createPrepDataFrame(tickers)"
   ]
  },
  {
   "cell_type": "code",
   "execution_count": 7,
   "id": "249d21d4",
   "metadata": {},
   "outputs": [],
   "source": [
    "df.to_csv('DATA/PrepData.csv', index=True)"
   ]
  },
  {
   "cell_type": "code",
   "execution_count": null,
   "id": "a68fa350",
   "metadata": {},
   "outputs": [],
   "source": []
  },
  {
   "cell_type": "code",
   "execution_count": null,
   "id": "a292597c",
   "metadata": {},
   "outputs": [],
   "source": []
  },
  {
   "cell_type": "code",
   "execution_count": null,
   "id": "bca13d3b",
   "metadata": {},
   "outputs": [],
   "source": []
  },
  {
   "cell_type": "code",
   "execution_count": null,
   "id": "907e96b8",
   "metadata": {},
   "outputs": [],
   "source": []
  },
  {
   "cell_type": "code",
   "execution_count": null,
   "id": "19c581d9",
   "metadata": {},
   "outputs": [],
   "source": []
  },
  {
   "cell_type": "code",
   "execution_count": null,
   "id": "3eb5dfaf",
   "metadata": {},
   "outputs": [],
   "source": []
  },
  {
   "cell_type": "code",
   "execution_count": null,
   "id": "7de2e714",
   "metadata": {},
   "outputs": [],
   "source": []
  },
  {
   "cell_type": "code",
   "execution_count": null,
   "id": "b3d8bdfd",
   "metadata": {},
   "outputs": [],
   "source": []
  },
  {
   "cell_type": "code",
   "execution_count": null,
   "id": "d1738833",
   "metadata": {},
   "outputs": [],
   "source": []
  },
  {
   "cell_type": "code",
   "execution_count": null,
   "id": "6424f0c2",
   "metadata": {},
   "outputs": [],
   "source": []
  },
  {
   "cell_type": "code",
   "execution_count": null,
   "id": "c009ac03",
   "metadata": {},
   "outputs": [],
   "source": []
  },
  {
   "cell_type": "code",
   "execution_count": null,
   "id": "6fe8d136",
   "metadata": {},
   "outputs": [],
   "source": []
  },
  {
   "cell_type": "code",
   "execution_count": null,
   "id": "496b830c",
   "metadata": {},
   "outputs": [],
   "source": []
  },
  {
   "cell_type": "code",
   "execution_count": 14,
   "id": "dc3901e7",
   "metadata": {},
   "outputs": [],
   "source": [
    "dt = PasteMissingRows(ticker=tickers[0], start_date=start, end_date=end).Insert_row_to_df()"
   ]
  },
  {
   "cell_type": "code",
   "execution_count": 17,
   "id": "55bc6f0e",
   "metadata": {},
   "outputs": [
    {
     "data": {
      "text/plain": [
       "0       181.830002\n",
       "1       182.869995\n",
       "2       183.274994\n",
       "4       183.274994\n",
       "5       183.274994\n",
       "           ...    \n",
       "2769    453.880005\n",
       "2770    453.880005\n",
       "2771    453.880005\n",
       "2772    455.679993\n",
       "2773    457.929993\n",
       "Name: CSPX.L, Length: 2773, dtype: float64"
      ]
     },
     "execution_count": 17,
     "metadata": {},
     "output_type": "execute_result"
    }
   ],
   "source": [
    "dt[tickers[0]]"
   ]
  },
  {
   "cell_type": "code",
   "execution_count": 23,
   "id": "cfea05bf",
   "metadata": {},
   "outputs": [],
   "source": [
    "x[tickers[0]] = dt[tickers[0]]"
   ]
  },
  {
   "cell_type": "code",
   "execution_count": 27,
   "id": "2414d6bc",
   "metadata": {},
   "outputs": [
    {
     "data": {
      "text/html": [
       "<div>\n",
       "<style scoped>\n",
       "    .dataframe tbody tr th:only-of-type {\n",
       "        vertical-align: middle;\n",
       "    }\n",
       "\n",
       "    .dataframe tbody tr th {\n",
       "        vertical-align: top;\n",
       "    }\n",
       "\n",
       "    .dataframe thead th {\n",
       "        text-align: right;\n",
       "    }\n",
       "</style>\n",
       "<table border=\"1\" class=\"dataframe\">\n",
       "  <thead>\n",
       "    <tr style=\"text-align: right;\">\n",
       "      <th></th>\n",
       "      <th>Date</th>\n",
       "      <th>CSPX.L</th>\n",
       "      <th>BTC-USD</th>\n",
       "      <th>IEF</th>\n",
       "      <th>dates</th>\n",
       "    </tr>\n",
       "  </thead>\n",
       "  <tbody>\n",
       "    <tr>\n",
       "      <th>0</th>\n",
       "      <td>2014-09-17</td>\n",
       "      <td>181.830002</td>\n",
       "      <td>NaN</td>\n",
       "      <td>NaN</td>\n",
       "      <td>2014-09-17</td>\n",
       "    </tr>\n",
       "    <tr>\n",
       "      <th>1</th>\n",
       "      <td>2014-09-18</td>\n",
       "      <td>182.869995</td>\n",
       "      <td>NaN</td>\n",
       "      <td>NaN</td>\n",
       "      <td>2014-09-18</td>\n",
       "    </tr>\n",
       "    <tr>\n",
       "      <th>2</th>\n",
       "      <td>2014-09-19</td>\n",
       "      <td>183.274994</td>\n",
       "      <td>NaN</td>\n",
       "      <td>NaN</td>\n",
       "      <td>2014-09-19</td>\n",
       "    </tr>\n",
       "    <tr>\n",
       "      <th>4</th>\n",
       "      <td>2014-09-20</td>\n",
       "      <td>183.274994</td>\n",
       "      <td>NaN</td>\n",
       "      <td>NaN</td>\n",
       "      <td>2014-09-20</td>\n",
       "    </tr>\n",
       "    <tr>\n",
       "      <th>5</th>\n",
       "      <td>2014-09-21</td>\n",
       "      <td>183.274994</td>\n",
       "      <td>NaN</td>\n",
       "      <td>NaN</td>\n",
       "      <td>2014-09-21</td>\n",
       "    </tr>\n",
       "    <tr>\n",
       "      <th>...</th>\n",
       "      <td>...</td>\n",
       "      <td>...</td>\n",
       "      <td>...</td>\n",
       "      <td>...</td>\n",
       "      <td>...</td>\n",
       "    </tr>\n",
       "    <tr>\n",
       "      <th>2769</th>\n",
       "      <td>2022-04-16</td>\n",
       "      <td>453.880005</td>\n",
       "      <td>NaN</td>\n",
       "      <td>NaN</td>\n",
       "      <td>2022-04-16</td>\n",
       "    </tr>\n",
       "    <tr>\n",
       "      <th>2770</th>\n",
       "      <td>2022-04-17</td>\n",
       "      <td>453.880005</td>\n",
       "      <td>NaN</td>\n",
       "      <td>NaN</td>\n",
       "      <td>2022-04-17</td>\n",
       "    </tr>\n",
       "    <tr>\n",
       "      <th>2771</th>\n",
       "      <td>2022-04-18</td>\n",
       "      <td>453.880005</td>\n",
       "      <td>NaN</td>\n",
       "      <td>NaN</td>\n",
       "      <td>2022-04-18</td>\n",
       "    </tr>\n",
       "    <tr>\n",
       "      <th>2772</th>\n",
       "      <td>2022-04-19</td>\n",
       "      <td>455.679993</td>\n",
       "      <td>NaN</td>\n",
       "      <td>NaN</td>\n",
       "      <td>2022-04-19</td>\n",
       "    </tr>\n",
       "    <tr>\n",
       "      <th>2773</th>\n",
       "      <td>2022-04-20</td>\n",
       "      <td>457.929993</td>\n",
       "      <td>NaN</td>\n",
       "      <td>NaN</td>\n",
       "      <td>2022-04-20</td>\n",
       "    </tr>\n",
       "  </tbody>\n",
       "</table>\n",
       "<p>2773 rows × 5 columns</p>\n",
       "</div>"
      ],
      "text/plain": [
       "           Date      CSPX.L BTC-USD  IEF      dates\n",
       "0    2014-09-17  181.830002     NaN  NaN 2014-09-17\n",
       "1    2014-09-18  182.869995     NaN  NaN 2014-09-18\n",
       "2    2014-09-19  183.274994     NaN  NaN 2014-09-19\n",
       "4    2014-09-20  183.274994     NaN  NaN 2014-09-20\n",
       "5    2014-09-21  183.274994     NaN  NaN 2014-09-21\n",
       "...         ...         ...     ...  ...        ...\n",
       "2769 2022-04-16  453.880005     NaN  NaN 2022-04-16\n",
       "2770 2022-04-17  453.880005     NaN  NaN 2022-04-17\n",
       "2771 2022-04-18  453.880005     NaN  NaN 2022-04-18\n",
       "2772 2022-04-19  455.679993     NaN  NaN 2022-04-19\n",
       "2773 2022-04-20  457.929993     NaN  NaN 2022-04-20\n",
       "\n",
       "[2773 rows x 5 columns]"
      ]
     },
     "execution_count": 27,
     "metadata": {},
     "output_type": "execute_result"
    }
   ],
   "source": [
    "x"
   ]
  },
  {
   "cell_type": "code",
   "execution_count": null,
   "id": "61192869",
   "metadata": {},
   "outputs": [],
   "source": []
  },
  {
   "cell_type": "code",
   "execution_count": null,
   "id": "fceffd04",
   "metadata": {},
   "outputs": [],
   "source": []
  },
  {
   "cell_type": "code",
   "execution_count": null,
   "id": "3cd5cd53",
   "metadata": {},
   "outputs": [],
   "source": []
  },
  {
   "cell_type": "code",
   "execution_count": null,
   "id": "218d58c8",
   "metadata": {},
   "outputs": [],
   "source": []
  },
  {
   "cell_type": "code",
   "execution_count": 56,
   "id": "6dd7b5fe",
   "metadata": {
    "scrolled": true
   },
   "outputs": [
    {
     "name": "stderr",
     "output_type": "stream",
     "text": [
      "C:\\ProgramData\\Anaconda3\\lib\\site-packages\\pandas\\core\\indexing.py:723: SettingWithCopyWarning: \n",
      "A value is trying to be set on a copy of a slice from a DataFrame\n",
      "\n",
      "See the caveats in the documentation: https://pandas.pydata.org/pandas-docs/stable/user_guide/indexing.html#returning-a-view-versus-a-copy\n",
      "  iloc._setitem_with_indexer(indexer, value, self.name)\n"
     ]
    },
    {
     "name": "stdout",
     "output_type": "stream",
     "text": [
      "Index has no missing dates\n"
     ]
    }
   ],
   "source": [
    "data = pd.DataFrame({\"dates\":pd.date_range(start = start, end = end)})\n",
    "for ticker in tickers:\n",
    "    df = PasteMissingRows(ticker=ticker, start_date=start, end_date=end).Insert_row_to_df()\n",
    "    df_ticker = df[ticker]\n",
    "    data.append(df_ticker)"
   ]
  },
  {
   "cell_type": "code",
   "execution_count": 58,
   "id": "66ff869b",
   "metadata": {},
   "outputs": [
    {
     "data": {
      "text/plain": [
       "0        90.402336\n",
       "1        90.340668\n",
       "2        90.684189\n",
       "4        90.684189\n",
       "5        90.684189\n",
       "           ...    \n",
       "2769    103.440002\n",
       "2770    103.440002\n",
       "2771    103.139999\n",
       "2772    102.459999\n",
       "2773    103.260002\n",
       "Name: IEF, Length: 2773, dtype: float64"
      ]
     },
     "execution_count": 58,
     "metadata": {},
     "output_type": "execute_result"
    }
   ],
   "source": [
    "df_ticker"
   ]
  },
  {
   "cell_type": "code",
   "execution_count": null,
   "id": "7a40b583",
   "metadata": {},
   "outputs": [],
   "source": []
  },
  {
   "cell_type": "code",
   "execution_count": null,
   "id": "11a5b3d7",
   "metadata": {},
   "outputs": [],
   "source": []
  },
  {
   "cell_type": "code",
   "execution_count": null,
   "id": "346d148b",
   "metadata": {},
   "outputs": [],
   "source": []
  },
  {
   "cell_type": "code",
   "execution_count": null,
   "id": "5caf1ccc",
   "metadata": {},
   "outputs": [],
   "source": []
  },
  {
   "cell_type": "code",
   "execution_count": null,
   "id": "707572c0",
   "metadata": {},
   "outputs": [],
   "source": []
  },
  {
   "cell_type": "code",
   "execution_count": null,
   "id": "23479062",
   "metadata": {},
   "outputs": [],
   "source": []
  }
 ],
 "metadata": {
  "kernelspec": {
   "display_name": "Python 3",
   "language": "python",
   "name": "python3"
  },
  "language_info": {
   "codemirror_mode": {
    "name": "ipython",
    "version": 3
   },
   "file_extension": ".py",
   "mimetype": "text/x-python",
   "name": "python",
   "nbconvert_exporter": "python",
   "pygments_lexer": "ipython3",
   "version": "3.8.8"
  }
 },
 "nbformat": 4,
 "nbformat_minor": 5
}
