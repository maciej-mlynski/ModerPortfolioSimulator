{
 "cells": [
  {
   "cell_type": "code",
   "execution_count": null,
   "id": "34cc0185",
   "metadata": {},
   "outputs": [],
   "source": [
    "import numpy as np\n",
    "import pandas as pd\n",
    "import seaborn as sb\n",
    "sb.set()\n",
    "import scipy.optimize as optimization\n",
    "from datetime import datetime as dt\n",
    "from datetime import timedelta\n",
    "from matplotlib import rcParams\n",
    "rcParams['figure.figsize'] = 10,6\n",
    "import math\n",
    "import scipy.stats\n",
    "import matplotlib.pyplot as plt\n",
    "import time\n",
    "from ipywidgets import Checkbox\n",
    "import pandas_datareader as pdr\n",
    "import AllDefFunctions as functions\n",
    "import warnings\n",
    "warnings.filterwarnings(\"ignore\")"
   ]
  },
  {
   "cell_type": "markdown",
   "id": "25477d81",
   "metadata": {},
   "source": [
    "### 1. Select stock you are intrested in.\n",
    "\n",
    "We can distinguish general markets as:\n",
    "- equities\n",
    "- commodities\n",
    "- precious metals\n",
    "- cryptocurrencies\n",
    "- bonds\n",
    "\n",
    "If you want to built long-term portfolio which is resistant to prosperity cycles you should consider selecting at least one stock for each market types. Thanks that you will elimitane systematic risk and let your welth grow independently. \n",
    "\n",
    "My modern portfolio will not only help you diversify your portefl but also find the best proportion of your assets to achieve the highest possible rate of return with the lowest possible investment risk.  \n",
    "\n",
    "\n",
    "If you do not know the stocks by tickers check short description [here](http://localhost:8888/notebooks/ModernPortfolio_project/TryModernPortfolioYourself/1.CheckFoundAveliableToAnalysis.ipynb)"
   ]
  },
  {
   "cell_type": "code",
   "execution_count": null,
   "id": "45c3bc21",
   "metadata": {},
   "outputs": [],
   "source": [
    "# Create checkbox listo to choese\n",
    "SPX_= Checkbox(description = 'CSPX.L')\n",
    "BTC_ = Checkbox(description = 'BTC-USD')\n",
    "IEF_ = Checkbox(description = 'IEF')\n",
    "FILL_ = Checkbox(description = 'FILL')\n",
    "PALL_ = Checkbox(description = 'PALL')\n",
    "FXI_ = Checkbox(description = 'FXI')\n",
    "GMF_ = Checkbox(description = 'GMF')\n",
    "EXS1_ = Checkbox(description = 'EXS1.DE')\n",
    "VGK_ = Checkbox(description = 'VGK')\n",
    "DBC_ = Checkbox(description = 'DBC')\n",
    "BNO_ = Checkbox(description = 'BNO')\n",
    "PICK_ = Checkbox(description = 'PICK')\n",
    "SGOL_ = Checkbox(description = 'SGOL')\n",
    "PPLT_ = Checkbox(description = 'PPLT')\n",
    "SIVR_ = Checkbox(description = 'SIVR')\n",
    "BNO_ = Checkbox(description = 'BNO'))"
   ]
  },
  {
   "cell_type": "code",
   "execution_count": null,
   "id": "0b57b4ae",
   "metadata": {},
   "outputs": [],
   "source": [
    "tick = display('Equity', SPX_, FXI_, GMF_, EXS1_, VGK_, \\\n",
    "        'Comodity', DBC_, FILL_, BNO_, PICK_, \\\n",
    "        'Precious metals', SGOL_, PPLT_, SIVR_, PALL_,\\\n",
    "       'Crypto', BTC_, \\\n",
    "       'Bonds', IEF_)"
   ]
  },
  {
   "cell_type": "code",
   "execution_count": null,
   "id": "a02c2aca",
   "metadata": {},
   "outputs": [],
   "source": [
    "tickers = functions.choese_stock(SPX_, FXI_, GMF_, EXS1_, VGK_,DBC_, FILL_, BNO_, PICK_,SGOL_, PPLT_, SIVR_, PALL_,BTC_,IEF_)"
   ]
  },
  {
   "cell_type": "markdown",
   "id": "dcf43ca4",
   "metadata": {},
   "source": [
    "### 1.1 Add more tickers by hand"
   ]
  },
  {
   "cell_type": "code",
   "execution_count": null,
   "id": "1ddf78e4",
   "metadata": {},
   "outputs": [],
   "source": [
    "# First we must check if ticker exist or if has not been choesen already\n",
    "new_tickers = ['AMZN', 'TSLAAOOA', 'BTC-USD'] # FORMAT eg. ticker = ['AMZN', 'TSLA', 'GM']"
   ]
  },
  {
   "cell_type": "code",
   "execution_count": null,
   "id": "1fe8ca7e",
   "metadata": {},
   "outputs": [],
   "source": [
    "tickers = functions.add_stock_by_hand(tickers, new_tickers)\n",
    "tickers"
   ]
  },
  {
   "cell_type": "markdown",
   "id": "2ea7e290",
   "metadata": {},
   "source": [
    "### 2. Select period of analysis\n",
    "\n",
    "Remember that last aveliable end date is day before today"
   ]
  },
  {
   "cell_type": "code",
   "execution_count": null,
   "id": "f8f1a3af",
   "metadata": {},
   "outputs": [],
   "source": [
    "pd.to_datetime(dt.today())"
   ]
  },
  {
   "cell_type": "code",
   "execution_count": null,
   "id": "ad193efb",
   "metadata": {},
   "outputs": [],
   "source": [
    "start = '' # FORMAT: 'yyyy-mm-dd'\n",
    "end = ''   # FORMAT: 'yyyy-mm-dd'"
   ]
  },
  {
   "cell_type": "markdown",
   "id": "fa14d765",
   "metadata": {},
   "source": [
    "### 3. Check if given period is aveliable\n",
    "\n",
    "some assets may be listed later than the period you have selected. At this stage we want to check if the date you have selected is available. If NOT - the algorithm will tell you which market it is and when the earliest data is available."
   ]
  },
  {
   "cell_type": "code",
   "execution_count": null,
   "id": "f7e64234",
   "metadata": {},
   "outputs": [],
   "source": [
    "new_start = functions.find_first_date_from_choesen_stosks(start, end, tickers)"
   ]
  },
  {
   "cell_type": "markdown",
   "id": "2bf940c4",
   "metadata": {},
   "source": [
    "### 4. Check day of the week\n",
    "\n",
    "Usually stocks are listed in weekdays, so we nedd to be sure that date that been choesen is not listed at weekend. Algo will find the best fitted day for You. If start date is wrong it will move forward to find aveliable date. If end date is wrong it will take previous date aveliable"
   ]
  },
  {
   "cell_type": "markdown",
   "id": "4b4ca48e",
   "metadata": {},
   "source": [
    "Start date"
   ]
  },
  {
   "cell_type": "code",
   "execution_count": null,
   "id": "5bd9843c",
   "metadata": {},
   "outputs": [],
   "source": [
    "start = functions.check_start_date(new_start)\n",
    "start"
   ]
  },
  {
   "cell_type": "markdown",
   "id": "79d748e1",
   "metadata": {},
   "source": [
    "End date"
   ]
  },
  {
   "cell_type": "code",
   "execution_count": null,
   "id": "587721b1",
   "metadata": {},
   "outputs": [],
   "source": [
    "end = functions.check_end_date(end)\n",
    "end"
   ]
  },
  {
   "cell_type": "markdown",
   "id": "d1b6bc53",
   "metadata": {},
   "source": [
    "### 5. Prepare data\n",
    "\n",
    "As known traditional markets are listed only in weekdays, but in my modern portfolio model you can choose cryptocarecy stocks also, where days off does not exist. In order for next steps of analysis, all stocks must be in the same date range. I decided not to cut cryptocurrency persion, but instead I added the closing prices to traditional markets for weekend periods (Sat, Sun). The values for weekend is last listed value at week day (friday). In the future I will add funtionality which let's you make that decision."
   ]
  },
  {
   "cell_type": "code",
   "execution_count": null,
   "id": "bcff039d",
   "metadata": {},
   "outputs": [],
   "source": [
    "df = functions.createPrepDataFrame(tickers, start, end, functions.PasteMissingRows)"
   ]
  },
  {
   "cell_type": "markdown",
   "id": "5d9038c1",
   "metadata": {},
   "source": [
    "### 6. Markowitz Portfolio symulation\n",
    "\n",
    "Here we simulate thousands of portfolio with different weights of stocks. For eg. You could invest in chosen stocks with all equal weights, so if you selected 'BTC', 'SPX500', 'FILL and 'ETL' your equal weights will be [0.25, 0.25, 0.25, 0.25] multiplied by cash you are going to invest. Markowitz portfolio symulate portfolios with different wages for egx. [1,0,0,0], wchih mean that you invest all money in BTC then [0.9, 0.1,0,0] meaning of 90% for BTC ant 10 % for SPX etc. \n",
    "\n",
    "\n",
    "The process will be repeated x times. X mean iterations, where the minimum should be 20 000, but it depend on period and quantity of stock you selected before. The simulation might take a while, but the tip is: \n",
    "- if it took less than 10 second you should increase iterations,\n",
    "- if 30 secnond pass and you still have not result, just decrease iterations."
   ]
  },
  {
   "cell_type": "markdown",
   "id": "f5c59cba",
   "metadata": {},
   "source": [
    "**Choese iterations:**"
   ]
  },
  {
   "cell_type": "code",
   "execution_count": null,
   "id": "a26d3623",
   "metadata": {},
   "outputs": [],
   "source": [
    "iterations =  # for. eg. 30000"
   ]
  },
  {
   "cell_type": "code",
   "execution_count": null,
   "id": "c6f9930f",
   "metadata": {},
   "outputs": [],
   "source": [
    "results, returns, vol, weights = functions.symulatePortfoliosWeights(df, iterations, functions.calculate_N, functions.calculate_log_rets, functions.gen_weights, functions.calculate_returns, functions.calculate_volatility)"
   ]
  },
  {
   "cell_type": "markdown",
   "id": "32bc136f",
   "metadata": {},
   "source": [
    "### See results of your simulation on the plot\n",
    "\n",
    "The chart describe expected return and volatility for given weights of assets. As you can see the higher return is, the higher volatility you can expect. The main thing is to keep good balance between this two values, trying to take maximum profit "
   ]
  },
  {
   "cell_type": "code",
   "execution_count": null,
   "id": "51d2d1bc",
   "metadata": {},
   "outputs": [],
   "source": [
    "functions.createResultsPlot(results)"
   ]
  },
  {
   "cell_type": "markdown",
   "id": "51fed199",
   "metadata": {},
   "source": [
    "### 7. Sharp Ratio\n",
    "\n",
    "We simuluate thousends of portfolios, but **which one is the best?** To anserw that question you should be awere of **Sharp Ratio**, which is calculated by dividind expected annual return by expected annual volotality for each portfolio. The one with the highest Sharp Ratio has the best proportion of risk/reward indicator. Let's check your Sharp Ratio then!"
   ]
  },
  {
   "cell_type": "code",
   "execution_count": null,
   "id": "061c7804",
   "metadata": {},
   "outputs": [],
   "source": [
    "maxSR, expected_vol, expected_ret, new_weights = functions.findHighestSharpRatio(results);"
   ]
  },
  {
   "cell_type": "code",
   "execution_count": null,
   "id": "df9e4f35",
   "metadata": {},
   "outputs": [],
   "source": [
    "df.columns"
   ]
  },
  {
   "cell_type": "markdown",
   "id": "78a60aef",
   "metadata": {},
   "source": [
    "##### See Sharp Ratio on plot"
   ]
  },
  {
   "cell_type": "code",
   "execution_count": null,
   "id": "281dfd58",
   "metadata": {},
   "outputs": [],
   "source": [
    "functions.createResultsPlot2(results, expected_vol, expected_ret)"
   ]
  },
  {
   "cell_type": "markdown",
   "id": "aee9e16d",
   "metadata": {},
   "source": [
    "### 8. Find the best portfolio by risk appetite\n",
    "\n",
    "All investors has slightly differen risk appetite. The more you want to earn, the more risk u must take. Some investor could take higher risk in order to get higher profit/return. \n",
    "\n",
    "**Expected Volatility** describe in average how your investment will change annualy. It's also called standard deviation. \n",
    "\n",
    "**Example:** Let's say that your anual log return is 10% and in same way the volatility is 15%. It means that before you gain 10% profit, your portfolio will go up and down in average of 15%. So it could go up 20%, then downs 10%, then up and so on untill the investment end.\n",
    "\n",
    "**Note:** You need to be awere that here we work on logaritmic return, but usually more important is simple returns. Becouse of that you must take into account the fact that volotality calculated by log returns might be lower than simple one. If you do not know what to choese, just write whatever you think and come back again after you get to the end of analysis. I am sure that it will be more clear to You then."
   ]
  },
  {
   "cell_type": "code",
   "execution_count": null,
   "id": "b73ad814",
   "metadata": {},
   "outputs": [],
   "source": [
    "# Example of how to wtire value\n",
    "# 10% - 0.1\n",
    "# 35% - 0.35\n",
    "max_vol_yearly =  #  FORMAT: 0.00"
   ]
  },
  {
   "cell_type": "code",
   "execution_count": null,
   "id": "2abaece7",
   "metadata": {},
   "outputs": [],
   "source": [
    "my_rets, my_vol, sharpRatio, bestWeights = functions.findBestWeightsByMaxVol(results, max_vol_yearly)"
   ]
  },
  {
   "cell_type": "code",
   "execution_count": null,
   "id": "4a64d3d5",
   "metadata": {},
   "outputs": [],
   "source": [
    "functions.createResultsPlot3(results, expected_vol, expected_ret, my_vol, my_rets)"
   ]
  },
  {
   "cell_type": "code",
   "execution_count": null,
   "id": "331b9d82",
   "metadata": {},
   "outputs": [],
   "source": [
    "summary = functions.create_summary(maxSR, sharpRatio, expected_vol, my_vol, expected_ret, my_rets, new_weights, bestWeights)\n",
    "summary"
   ]
  },
  {
   "cell_type": "markdown",
   "id": "07a6bc45",
   "metadata": {},
   "source": [
    "**Select portfolio You want to analyze**"
   ]
  },
  {
   "cell_type": "code",
   "execution_count": null,
   "id": "333f967f",
   "metadata": {},
   "outputs": [],
   "source": [
    "display(HighestSR, MyWallet)"
   ]
  },
  {
   "cell_type": "code",
   "execution_count": null,
   "id": "f3923642",
   "metadata": {},
   "outputs": [],
   "source": [
    "tickers = functions.choese_wallet(HighestSR, MyWallet)"
   ]
  },
  {
   "cell_type": "markdown",
   "id": "bb176e30",
   "metadata": {},
   "source": [
    "###### Weights of your portfolio"
   ]
  },
  {
   "cell_type": "code",
   "execution_count": null,
   "id": "300c9d6b",
   "metadata": {},
   "outputs": [],
   "source": [
    "weights = functions.create_weightsDataFrame(summary, tickers, df)\n",
    "weights"
   ]
  },
  {
   "cell_type": "markdown",
   "id": "b08aad10",
   "metadata": {},
   "source": [
    "### 9. Historical performence of your portfolio\n",
    "\n",
    "Write your investment amount and check how your portfolio would perform over period You choese previosly."
   ]
  },
  {
   "cell_type": "code",
   "execution_count": null,
   "id": "851a39cc",
   "metadata": {},
   "outputs": [],
   "source": [
    "investmentAmt =   # for eg. 100000"
   ]
  },
  {
   "cell_type": "code",
   "execution_count": null,
   "id": "89d3c59b",
   "metadata": {},
   "outputs": [],
   "source": [
    "cum_returns, buyAmt = functions.prepare_data(investmentAmt, df, weights)"
   ]
  },
  {
   "cell_type": "code",
   "execution_count": null,
   "id": "fe3244b5",
   "metadata": {},
   "outputs": [],
   "source": [
    "functions.comparePortfolios_Plot(investmentAmt, cum_returns, max_y = 1.2, freq=20);"
   ]
  },
  {
   "cell_type": "markdown",
   "id": "1063737b",
   "metadata": {},
   "source": [
    "### 10. Proportion of your portfolio over time\n",
    "\n",
    "As you know some of stocks might grow faster than another. That is why the weights you started with may change. Let's check weights of assets in portfolio over analysis period!"
   ]
  },
  {
   "cell_type": "code",
   "execution_count": null,
   "id": "62c51c0f",
   "metadata": {},
   "outputs": [],
   "source": [
    "proportions = functions.calculate_proportions(cum_returns, df, weights)"
   ]
  },
  {
   "cell_type": "code",
   "execution_count": null,
   "id": "0915ced6",
   "metadata": {},
   "outputs": [],
   "source": [
    "functions.plot_proportions(proportions)"
   ]
  },
  {
   "cell_type": "markdown",
   "id": "9707588e",
   "metadata": {},
   "source": [
    "**Note:** If y-axis on the chart is too thick, increase freq paramiter, which as a default is 5"
   ]
  },
  {
   "cell_type": "markdown",
   "id": "7ec8facb",
   "metadata": {},
   "source": [
    "If chart above does not presents horizontal straight lines, that means that your wallets lost weights established at the beginning"
   ]
  },
  {
   "cell_type": "markdown",
   "id": "529da6fd",
   "metadata": {},
   "source": [
    "### 11. Rebalanceing\n",
    "\n",
    "Markowitz model calculated annual returns and volotality base on daily log returns. Obviously it does not take into account the cummulated returns, which is good, becouse it helps maintain objectivity. So, if we want to create portfolio base on markowitz model we must keep portfolio weights at a fixed level at all times.\n",
    "\n",
    "Unfortunetly, there is no point to rebalance our portfolio whenever the weights sligtly change, mainly becouse of transaction cost and taxes. So we presumed that rebalancing should not be done more then one time in Quater (3 months) and not less than once a Year."
   ]
  },
  {
   "cell_type": "markdown",
   "id": "88734287",
   "metadata": {},
   "source": [
    "**Select how often you want to make rebalancing of portfolio**"
   ]
  },
  {
   "cell_type": "code",
   "execution_count": null,
   "id": "4d2755d4",
   "metadata": {},
   "outputs": [],
   "source": [
    "display(quaterly, yearly)"
   ]
  },
  {
   "cell_type": "code",
   "execution_count": null,
   "id": "7409dd4e",
   "metadata": {},
   "outputs": [],
   "source": [
    "choesen_frq = functions.choese_rebalancing_frquency(quaterly, yearly)"
   ]
  },
  {
   "cell_type": "code",
   "execution_count": null,
   "id": "ef9645d6",
   "metadata": {},
   "outputs": [],
   "source": [
    "rebalancing_dates = functions.create_dates_for_rebalancing(df, frequency=choesen_frq[0])"
   ]
  },
  {
   "cell_type": "code",
   "execution_count": null,
   "id": "29562ec2",
   "metadata": {},
   "outputs": [],
   "source": [
    "portfolio_value, new_proportions = functions.create_new_wallet_with_rebalanceing(df,weights, rebalancing_dates, buyAmt, cum_returns, proportions)"
   ]
  },
  {
   "cell_type": "code",
   "execution_count": null,
   "id": "6a024f48",
   "metadata": {},
   "outputs": [],
   "source": [
    "functions.plot_proportions(new_proportions)"
   ]
  },
  {
   "cell_type": "markdown",
   "id": "46e5404d",
   "metadata": {},
   "source": [
    "If the graph above does not remaind you Heart Rate Variability then you should consider increasing the frequency of rebalancing or just go to the next step and check the summary"
   ]
  },
  {
   "cell_type": "code",
   "execution_count": null,
   "id": "3e7e682a",
   "metadata": {},
   "outputs": [],
   "source": [
    "freq = 5"
   ]
  },
  {
   "cell_type": "code",
   "execution_count": null,
   "id": "8e463fcb",
   "metadata": {},
   "outputs": [],
   "source": [
    "functions.compare_balance_portfolio_vs_previous(investmentAmt, portfolio_value, cum_returns, freq=freq) "
   ]
  },
  {
   "cell_type": "markdown",
   "id": "930a7662",
   "metadata": {},
   "source": [
    "**Note:** If y-axis on the chart is too thick, increase freq paramiter, which as a default is 5"
   ]
  },
  {
   "cell_type": "code",
   "execution_count": null,
   "id": "58fec323",
   "metadata": {},
   "outputs": [],
   "source": [
    "all_portfolios = functions.create_table_with_all_portfolios(cum_returns, portfolio_value)"
   ]
  },
  {
   "cell_type": "markdown",
   "id": "c944af68",
   "metadata": {},
   "source": [
    "### 12. Summary\n",
    "\n",
    "Below you can see table with summary of 3 portfolios:\n",
    "- equal weights, where all assets haave the same value in the begining\n",
    "- your portfolio, where all assets have previously selected weights in the begining\n",
    "- your balanced portfolio, where all assets have fixed proportions in each rebalancing period "
   ]
  },
  {
   "cell_type": "markdown",
   "id": "174bcb0a",
   "metadata": {},
   "source": [
    "**Max dropdowns** show how much each portfolio drop for given period"
   ]
  },
  {
   "cell_type": "code",
   "execution_count": null,
   "id": "98e9b235",
   "metadata": {},
   "outputs": [],
   "source": [
    "functions.dropdown_summary(all_portfolios)"
   ]
  },
  {
   "cell_type": "markdown",
   "id": "4367231c",
   "metadata": {},
   "source": [
    "**Returns** is an average/annual profit investor make by each portfolio"
   ]
  },
  {
   "cell_type": "code",
   "execution_count": null,
   "id": "4c5faa17",
   "metadata": {},
   "outputs": [],
   "source": [
    "functions.returns_summary(all_portfolios, investmentAmt)"
   ]
  },
  {
   "cell_type": "markdown",
   "id": "7fa3e20e",
   "metadata": {},
   "source": [
    "**Note_1:** If Max dropdowns for your portfolio are too hight you can:\n",
    "\n",
    "- select more stocks to your portfolio in setp nr. 1\n",
    "- decrease max volotality in step nr. 8\n",
    "- change rebalancing frequency for 'quaterly' if you haven't done already in step nr. 11"
   ]
  },
  {
   "cell_type": "code",
   "execution_count": null,
   "id": "384df50e",
   "metadata": {},
   "outputs": [],
   "source": []
  }
 ],
 "metadata": {
  "kernelspec": {
   "display_name": "Python 3",
   "language": "python",
   "name": "python3"
  },
  "language_info": {
   "codemirror_mode": {
    "name": "ipython",
    "version": 3
   },
   "file_extension": ".py",
   "mimetype": "text/x-python",
   "name": "python",
   "nbconvert_exporter": "python",
   "pygments_lexer": "ipython3",
   "version": "3.8.8"
  }
 },
 "nbformat": 4,
 "nbformat_minor": 5
}
