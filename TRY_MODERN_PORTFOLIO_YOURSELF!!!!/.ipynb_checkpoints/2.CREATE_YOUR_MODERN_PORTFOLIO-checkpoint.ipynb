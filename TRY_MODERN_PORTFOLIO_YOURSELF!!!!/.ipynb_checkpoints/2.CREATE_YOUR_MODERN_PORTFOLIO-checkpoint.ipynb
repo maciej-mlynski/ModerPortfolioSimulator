{
 "cells": [
  {
   "cell_type": "code",
   "execution_count": null,
   "id": "34cc0185",
   "metadata": {},
   "outputs": [],
   "source": [
    "import numpy as np\n",
    "import pandas as pd\n",
    "import seaborn as sb\n",
    "sb.set()\n",
    "import scipy.optimize as optimization\n",
    "import datetime as dt\n",
    "from datetime import timedelta\n",
    "from matplotlib import rcParams\n",
    "rcParams['figure.figsize'] = 10,6\n",
    "import math\n",
    "import scipy.stats\n",
    "import matplotlib.pyplot as plt\n",
    "import time\n",
    "from ipywidgets import Checkbox\n",
    "import pandas_datareader as pdr\n",
    "import warnings\n",
    "warnings.filterwarnings(\"ignore\")"
   ]
  },
  {
   "cell_type": "code",
   "execution_count": null,
   "id": "e7ecd7ed",
   "metadata": {},
   "outputs": [],
   "source": [
    "# apend path to definiotion\n",
    "import sys\n",
    "sys.path.append('../../ModernPortfolio_project/DEFINITIONS')\n",
    "\n",
    "# Import all necessery function\n",
    "import StockSelection as stock\n",
    "import DataPreparation as prep\n",
    "import MarkowitzModel as m_model\n",
    "import Rebalancing as reb\n",
    "import Summary as summ"
   ]
  },
  {
   "cell_type": "markdown",
   "id": "25477d81",
   "metadata": {},
   "source": [
    "### 1. Select stock you are intrested in.\n",
    "\n",
    "We can distinguish general markets as:\n",
    "- equities\n",
    "- commodities\n",
    "- precious metals\n",
    "- cryptocurrencies\n",
    "- bonds\n",
    "\n",
    "If you want to built long-term portfolio which is resistant to prosperity cycles you should consider selecting at least one stock for each market types. Thanks that you will elimitane systematic risk and let your welth grow independently. \n",
    "\n",
    "My modern portfolio will not only help you diversify your portefl but also find the best proportion of your assets to achieve the highest possible rate of return with the lowest possible investment risk.  \n",
    "\n",
    "\n",
    "If you do not know the stocks by tickers check short description [here](http://localhost:8888/notebooks/ModernPortfolio_project/TryModernPortfolioYourself/1.CheckFoundAveliableToAnalysis.ipynb)"
   ]
  },
  {
   "cell_type": "code",
   "execution_count": null,
   "id": "45c3bc21",
   "metadata": {},
   "outputs": [],
   "source": [
    "# Create checkbox listo to choese\n",
    "SPX_= Checkbox(description = 'CSPX.L')\n",
    "BTC_ = Checkbox(description = 'BTC-USD')\n",
    "IEF_ = Checkbox(description = 'IEF')\n",
    "FILL_ = Checkbox(description = 'FILL')\n",
    "PALL_ = Checkbox(description = 'PALL')\n",
    "FXI_ = Checkbox(description = 'FXI')\n",
    "GMF_ = Checkbox(description = 'GMF')\n",
    "EXS1_ = Checkbox(description = 'EXS1.DE')\n",
    "VGK_ = Checkbox(description = 'VGK')\n",
    "DBC_ = Checkbox(description = 'DBC')\n",
    "BNO_ = Checkbox(description = 'BNO')\n",
    "PICK_ = Checkbox(description = 'PICK')\n",
    "SGOL_ = Checkbox(description = 'SGOL')\n",
    "PPLT_ = Checkbox(description = 'PPLT')\n",
    "SIVR_ = Checkbox(description = 'SIVR')\n",
    "BNO_ = Checkbox(description = 'BNO')\n",
    "period = Checkbox(description = 'Over choesen period')\n",
    "margin = Checkbox(description = 'Over choesen margin')\n",
    "quaterly = Checkbox(description = 'quaterly')\n",
    "yearly = Checkbox(description = 'yearly')\n",
    "full_DR = Checkbox(description = '365')\n",
    "busieness_DR = Checkbox(description = '252')\n",
    "HighestSR = Checkbox(description = 'Highest Sharp Ratio')\n",
    "MyWallet = Checkbox(description = 'My Choice')"
   ]
  },
  {
   "cell_type": "code",
   "execution_count": null,
   "id": "0b57b4ae",
   "metadata": {},
   "outputs": [],
   "source": [
    "tick = display('Equity', SPX_, FXI_, GMF_, EXS1_, VGK_, \\\n",
    "        'Comodity', DBC_, FILL_, BNO_, PICK_, \\\n",
    "        'Precious metals', SGOL_, PPLT_, SIVR_, PALL_,\\\n",
    "       'Crypto', BTC_, \\\n",
    "       'Bonds', IEF_)"
   ]
  },
  {
   "cell_type": "code",
   "execution_count": null,
   "id": "a02c2aca",
   "metadata": {},
   "outputs": [],
   "source": [
    "tickers = stock.choese_stock(SPX_, FXI_, GMF_, EXS1_, VGK_,DBC_, FILL_, BNO_, PICK_,SGOL_, PPLT_, SIVR_, PALL_,BTC_,IEF_)"
   ]
  },
  {
   "cell_type": "markdown",
   "id": "fc7ee40b",
   "metadata": {},
   "source": [
    "### 1.1 Add more tickers by hand"
   ]
  },
  {
   "cell_type": "code",
   "execution_count": null,
   "id": "de9ae0d5",
   "metadata": {},
   "outputs": [],
   "source": [
    "# First we must check if ticker exist or if has not been choesen already\n",
    "new_tickers = [''] # FORMAT eg. ticker = ['AMZN', 'TSLA', 'GM']"
   ]
  },
  {
   "cell_type": "code",
   "execution_count": null,
   "id": "435c1863",
   "metadata": {},
   "outputs": [],
   "source": [
    "tickers = stock.add_stock_by_hand(tickers, new_tickers)"
   ]
  },
  {
   "cell_type": "code",
   "execution_count": null,
   "id": "70dbbaaf",
   "metadata": {},
   "outputs": [],
   "source": [
    "tickers"
   ]
  },
  {
   "cell_type": "markdown",
   "id": "2ea7e290",
   "metadata": {},
   "source": [
    "### 2. Select period of analysis\n",
    "\n",
    "Remember that last aveliable end date is day before today"
   ]
  },
  {
   "cell_type": "code",
   "execution_count": null,
   "id": "f8f1a3af",
   "metadata": {},
   "outputs": [],
   "source": [
    "pd.to_datetime(dt.datetime.today())"
   ]
  },
  {
   "cell_type": "code",
   "execution_count": null,
   "id": "ad193efb",
   "metadata": {},
   "outputs": [],
   "source": [
    "start = '' # FORMAT: 'yyyy-mm-dd'\n",
    "end = ''   # FORMAT: 'yyyy-mm-dd'"
   ]
  },
  {
   "cell_type": "markdown",
   "id": "fa14d765",
   "metadata": {},
   "source": [
    "### 3. Check if given period is aveliable\n",
    "\n",
    "Some assets may be listed later than the period you have selected. At this stage we want to check if the date you have selected is available. If NOT - the algorithm will tell you which market it is and when the earliest data is available."
   ]
  },
  {
   "cell_type": "code",
   "execution_count": null,
   "id": "f7e64234",
   "metadata": {},
   "outputs": [],
   "source": [
    "new_start = stock.find_first_date_from_choesen_stosks(start, end, tickers)"
   ]
  },
  {
   "cell_type": "markdown",
   "id": "2bf940c4",
   "metadata": {},
   "source": [
    "### 4. Check day of the week\n",
    "\n",
    "Usually stocks are listed in weekdays, so we nedd to be sure that date that been choesen is not listed at weekend. Algo will find the best fitted day for You. If start date is wrong it will move forward to find aveliable date. If end date is wrong it will take previous date aveliable"
   ]
  },
  {
   "cell_type": "markdown",
   "id": "4b4ca48e",
   "metadata": {},
   "source": [
    "Start date"
   ]
  },
  {
   "cell_type": "code",
   "execution_count": null,
   "id": "5bd9843c",
   "metadata": {},
   "outputs": [],
   "source": [
    "start = stock.check_start_date(new_start)\n",
    "start"
   ]
  },
  {
   "cell_type": "markdown",
   "id": "79d748e1",
   "metadata": {},
   "source": [
    "End date"
   ]
  },
  {
   "cell_type": "code",
   "execution_count": null,
   "id": "587721b1",
   "metadata": {},
   "outputs": [],
   "source": [
    "end = stock.check_end_date(end)\n",
    "end"
   ]
  },
  {
   "cell_type": "markdown",
   "id": "d1b6bc53",
   "metadata": {},
   "source": [
    "### 5. Prepare data\n",
    "\n",
    "As known traditional markets are listed only in weekdays, but in my modern portfolio model you can choose cryptocarecy stocks also, where days off does not exist. In order for next steps of analysis, all stocks must be in the same date range. I decided not to cut cryptocurrency persion, but instead I added the closing prices to traditional markets for weekend periods (Sat, Sun). The values for weekend is last listed value at week day (friday). In the future I will add funtionality which let's you make that decision."
   ]
  },
  {
   "cell_type": "markdown",
   "id": "fa63f59e",
   "metadata": {},
   "source": [
    "##### 5.1 Chceck quote type\n",
    "\n",
    "We must check quote type of all assets, becouse listing frequency could be different for some of them"
   ]
  },
  {
   "cell_type": "code",
   "execution_count": null,
   "id": "b7d6eb76",
   "metadata": {},
   "outputs": [],
   "source": [
    "freq, qType = prep.check_quote_type(tickers, start, end)"
   ]
  },
  {
   "cell_type": "code",
   "execution_count": null,
   "id": "f15c57e3",
   "metadata": {},
   "outputs": [],
   "source": [
    "tickers, tic_type = prep.sort_tickers(qType, tickers)\n",
    "tic_type"
   ]
  },
  {
   "cell_type": "code",
   "execution_count": null,
   "id": "e37d1fa6",
   "metadata": {},
   "outputs": [],
   "source": [
    "tickers"
   ]
  },
  {
   "cell_type": "markdown",
   "id": "0cf6636b",
   "metadata": {},
   "source": [
    "##### 5.2 Select frequency if needed\n",
    "\n",
    "If you selected one or more asstes that are cryptocurrencies you must make decision now. As known traditional markets like Equity, comodity are listed in 252 days per year, becouse markets are open only at busienss day. Unfortunetly, cryptocurencies are listed 24/7 which means that they are listed every single day (356 days) per year. You can choose to work on 365 days or 252 days frequency and algo will prepare data for you.\n",
    "\n",
    "**365:** If you select full date range per year, algo will add missing dates to traditional markets. It will just repeat Fridays listing vales for Saturdays and Sundays.\n",
    "\n",
    "**252:** If you select business day range, algo will cut weekends listing for any cryptocuriency you have in your wallet\n",
    "\n",
    "**Note:** If you do not see checkbox that let you choose frequency, it means that you do not have any crypto in your wallet"
   ]
  },
  {
   "cell_type": "code",
   "execution_count": null,
   "id": "3cf09dc4",
   "metadata": {},
   "outputs": [],
   "source": [
    "full_DR, busieness_DR = prep.select_freq(full_DR, busieness_DR, freq)"
   ]
  },
  {
   "cell_type": "code",
   "execution_count": null,
   "id": "e43ea874",
   "metadata": {},
   "outputs": [],
   "source": [
    "choesen_freq = prep.choese_freq(full_DR, busieness_DR, freq)"
   ]
  },
  {
   "cell_type": "markdown",
   "id": "dba32572",
   "metadata": {},
   "source": [
    "##### 5.3 Create prepared dataframe\n",
    "\n",
    "Base on your choice, algo will handle missing values and prepare your data for future analysis"
   ]
  },
  {
   "cell_type": "code",
   "execution_count": null,
   "id": "b70be47e",
   "metadata": {},
   "outputs": [],
   "source": [
    "df, n = prep.createDF_with_choesen_ferq(choesen_freq, tickers, start, end, prep.createPrepDataFrame, prep.PasteMissingRows, prep.create_data_without_weekends, prep.cut_weekends)"
   ]
  },
  {
   "cell_type": "markdown",
   "id": "5d9038c1",
   "metadata": {},
   "source": [
    "### 6. Markowitz Portfolio symulation\n",
    "\n",
    "Here we simulate thousands of portfolio with different weights of stocks. For eg. You could invest in chosen stocks with all equal weights, so if you selected 'BTC', 'SPX500', 'FILL and 'ETL' your equal weights will be [0.25, 0.25, 0.25, 0.25] multiplied by cash you are going to invest. Markowitz portfolio symulate portfolios with different wages for egx. [1,0,0,0], wchih mean that you invest all money in BTC then [0.9, 0.1,0,0] meaning of 90% for BTC ant 10 % for SPX etc. \n",
    "\n",
    "\n",
    "The process will be repeated x times. X mean iterations, where the minimum should be 20 000, but it depend on period and quantity of stock you selected before. The simulation might take a while, but the tips are: \n",
    "- if it took less than 10 second you should increase iterations,\n",
    "- if 30 secnond pass and you still have not result, just decrease iterations."
   ]
  },
  {
   "cell_type": "markdown",
   "id": "f5c59cba",
   "metadata": {},
   "source": [
    "**Choese iterations:**"
   ]
  },
  {
   "cell_type": "code",
   "execution_count": null,
   "id": "a26d3623",
   "metadata": {},
   "outputs": [],
   "source": [
    "iterations = 30000 # You can change it"
   ]
  },
  {
   "cell_type": "code",
   "execution_count": null,
   "id": "c6f9930f",
   "metadata": {},
   "outputs": [],
   "source": [
    "results, returns, vol, weights = m_model.symulatePortfoliosWeights(df, iterations, n, m_model.calculate_N, m_model.calculate_log_rets, m_model.gen_weights, m_model.calculate_returns, m_model.calculate_volatility)"
   ]
  },
  {
   "cell_type": "markdown",
   "id": "304b6a3b",
   "metadata": {},
   "source": [
    "### See results of your simulation on the plot\n",
    "\n",
    "The chart describe expected return and volatility for given weights of assets. As you can see the higher return is, the higher volatility you can expect. The main thing is to keep good balance between this two values, trying to take maximum profit "
   ]
  },
  {
   "cell_type": "code",
   "execution_count": null,
   "id": "51d2d1bc",
   "metadata": {},
   "outputs": [],
   "source": [
    "m_model.createResultsPlot(results)"
   ]
  },
  {
   "cell_type": "markdown",
   "id": "8acac889",
   "metadata": {},
   "source": [
    "### 7. Sharp Ratio\n",
    "\n",
    "We simuluate thousends of portfolios, but **which one is the best?** To anserw that question you should be awere of **Sharp Ratio**, which is calculated by dividind expected annual return by expected annual volotality for each portfolio. The one with the highest Sharp Ratio has the best proportion of risk/reward indicator. Let's check your Sharp Ratio then!"
   ]
  },
  {
   "cell_type": "code",
   "execution_count": null,
   "id": "411a8676",
   "metadata": {},
   "outputs": [],
   "source": [
    "maxSR, expected_vol, expected_ret, new_weights = m_model.findHighestSharpRatio(results);"
   ]
  },
  {
   "cell_type": "code",
   "execution_count": null,
   "id": "f7ddf631",
   "metadata": {},
   "outputs": [],
   "source": [
    "df.columns"
   ]
  },
  {
   "cell_type": "markdown",
   "id": "2a1913af",
   "metadata": {},
   "source": [
    "##### See Sharp Ratio on plot"
   ]
  },
  {
   "cell_type": "code",
   "execution_count": null,
   "id": "c340f849",
   "metadata": {},
   "outputs": [],
   "source": [
    "m_model.createResultsPlot2(results, expected_vol, expected_ret)"
   ]
  },
  {
   "cell_type": "markdown",
   "id": "d391a103",
   "metadata": {},
   "source": [
    "### 8. Find the best portfolio by risk appetite\n",
    "\n",
    "All investors has slightly differen risk appetite. The more you want to earn, the more risk u must take. Some investor could take higher risk in order to get higher profit/return. \n",
    "\n",
    "**Expected Volatility** describe in average how your investment will change annualy. It's also called standard deviation. \n",
    "\n",
    "**Example:** Let's say that your anual log return is 10% and in same way the volatility is 15%. It means that before you gain 10% profit, your portfolio will go up and down in average of 15%. So it could go up 20%, then downs 10%, then up and so on untill the investment end.\n",
    "\n",
    "**Note:** You need to be awere that here we work on logaritmic return, but usually more important is simple returns. Becouse of that you must take into account the fact that volotality calculated by log returns might be lower than simple one. If you do not know what to choese, just write whatever you think and come back again after you get to the end of analysis. I am sure that it will be more clear to You then."
   ]
  },
  {
   "cell_type": "code",
   "execution_count": null,
   "id": "e3061eea",
   "metadata": {},
   "outputs": [],
   "source": [
    "# Example of how to wtire value\n",
    "# 10% - 0.1\n",
    "# 35% - 0.35\n",
    "max_vol_yearly = 0.00 # 0.00"
   ]
  },
  {
   "cell_type": "code",
   "execution_count": null,
   "id": "cb24aea4",
   "metadata": {},
   "outputs": [],
   "source": [
    "my_rets, my_vol, sharpRatio, bestWeights = m_model.findBestWeightsByMaxVol(results, max_vol_yearly)"
   ]
  },
  {
   "cell_type": "code",
   "execution_count": null,
   "id": "c1eb80d1",
   "metadata": {},
   "outputs": [],
   "source": [
    "m_model.createResultsPlot3(results, expected_vol, expected_ret, my_vol, my_rets)"
   ]
  },
  {
   "cell_type": "code",
   "execution_count": null,
   "id": "4073d7a9",
   "metadata": {},
   "outputs": [],
   "source": [
    "summary = m_model.create_summary(maxSR, sharpRatio, expected_vol, my_vol, expected_ret, my_rets, new_weights, bestWeights)\n",
    "summary"
   ]
  },
  {
   "cell_type": "markdown",
   "id": "77021e12",
   "metadata": {},
   "source": [
    "**Select portfolio You want to analyze**"
   ]
  },
  {
   "cell_type": "code",
   "execution_count": null,
   "id": "a8525439",
   "metadata": {},
   "outputs": [],
   "source": [
    "display(HighestSR, MyWallet)"
   ]
  },
  {
   "cell_type": "code",
   "execution_count": null,
   "id": "ea5717fa",
   "metadata": {},
   "outputs": [],
   "source": [
    "tickers = m_model.choese_wallet(HighestSR, MyWallet)"
   ]
  },
  {
   "cell_type": "markdown",
   "id": "c2783e52",
   "metadata": {},
   "source": [
    "###### Weights of your portfolio"
   ]
  },
  {
   "cell_type": "code",
   "execution_count": null,
   "id": "257756bf",
   "metadata": {},
   "outputs": [],
   "source": [
    "weights = m_model.create_weightsDataFrame(summary, tickers, df)\n",
    "weights"
   ]
  },
  {
   "cell_type": "markdown",
   "id": "8cc046ab",
   "metadata": {},
   "source": [
    "### 9. Historical performence of your portfolio\n",
    "\n",
    "\n",
    "Write your investment amount and check how your portfolio would perform over period you choese previosly."
   ]
  },
  {
   "cell_type": "code",
   "execution_count": null,
   "id": "fdf3bae3",
   "metadata": {},
   "outputs": [],
   "source": [
    "investmentAmt = # Choose how much u want to invest (int)"
   ]
  },
  {
   "cell_type": "code",
   "execution_count": null,
   "id": "db0587a5",
   "metadata": {},
   "outputs": [],
   "source": [
    "cum_returns, buyAmt = reb.prepare_data(investmentAmt, df, weights)"
   ]
  },
  {
   "cell_type": "code",
   "execution_count": null,
   "id": "e8524a71",
   "metadata": {},
   "outputs": [],
   "source": [
    "reb.comparePortfolios_Plot(investmentAmt, cum_returns, max_y = 1.2, freq=20);"
   ]
  },
  {
   "cell_type": "markdown",
   "id": "0b6212c7",
   "metadata": {},
   "source": [
    "### 10. Proportion of your portfolio over time\n",
    "\n",
    "As you know some of stocks might grow faster than another. That is why the weights you started with may change. Let's check weights of assets in portfolio over analysis period!"
   ]
  },
  {
   "cell_type": "code",
   "execution_count": null,
   "id": "5a2584c2",
   "metadata": {},
   "outputs": [],
   "source": [
    "proportions = reb.calculate_proportions(cum_returns, df, weights)"
   ]
  },
  {
   "cell_type": "code",
   "execution_count": null,
   "id": "9c03ccc4",
   "metadata": {},
   "outputs": [],
   "source": [
    "reb.plot_proportions(proportions)"
   ]
  },
  {
   "cell_type": "markdown",
   "id": "afed3759",
   "metadata": {},
   "source": [
    "**Note:** If y-axis on the chart is too thick, increase freq paramiter, which as a default is 5"
   ]
  },
  {
   "cell_type": "markdown",
   "id": "98b808fc",
   "metadata": {},
   "source": [
    "If chart above does not presents horizontal straight lines, that means that your wallets lost weights established at the beginning"
   ]
  },
  {
   "cell_type": "markdown",
   "id": "41bbd253",
   "metadata": {},
   "source": [
    "### 11. Rebalanceing\n",
    "\n",
    "Markowitz model calculated annual returns and volotality base on daily log returns. Obviously it does not take into account the cummulated returns, which is good, becouse it helps maintain objectivity. So, if we want to create portfolio base on markowitz model we must keep portfolio weights at a fixed level at all times.\n",
    "\n",
    "Unfortunetly, there is no point to rebalance our portfolio whenever the weights sligtly change, mainly becouse of transaction cost and taxes. So we presumed that rebalancing should not be done more then one time in Quater (3 months) and not less than once a Year."
   ]
  },
  {
   "cell_type": "markdown",
   "id": "e4fb24b6",
   "metadata": {},
   "source": [
    "**Select how would you like to rebalance your portfolio**\n",
    "\n",
    "1. Period: It just check the proportion of your portfolio by choesen period for eg. every quater or every year passed\n",
    "2. Margin: You can select margin for proportions of your wallet. For eg. if you celect margin of 20% (0.2), it will rebalance your portfolio if any of your asset's proportion exceed the margin (grow more than 20% of its assemed proportion or drop lower then 20% of assumed proportion)"
   ]
  },
  {
   "cell_type": "code",
   "execution_count": null,
   "id": "ba104607",
   "metadata": {},
   "outputs": [],
   "source": [
    "display(period, margin)"
   ]
  },
  {
   "cell_type": "code",
   "execution_count": null,
   "id": "e64c6b9d",
   "metadata": {},
   "outputs": [],
   "source": [
    "choesen_method = reb.choese_rebalancing_method(period, margin)"
   ]
  },
  {
   "cell_type": "markdown",
   "id": "481b50a4",
   "metadata": {},
   "source": [
    "**Select next paramiters**\n",
    "1. Period: You can rebalance your portfolio every quater or year\n",
    "2. Margin: You can set margin whatever you like. Remember it must be positive number. Choose something beetwen 0.2 and 0.5, which means 20% and 50%"
   ]
  },
  {
   "cell_type": "code",
   "execution_count": null,
   "id": "7df60bc6",
   "metadata": {},
   "outputs": [],
   "source": [
    "selection = reb.display_next_options(choesen_method, quaterly, yearly)"
   ]
  },
  {
   "cell_type": "markdown",
   "id": "657c2554",
   "metadata": {},
   "source": [
    "**In this step algo will create rebalanced portfolio by choesen methon and paramiters**"
   ]
  },
  {
   "cell_type": "code",
   "execution_count": null,
   "id": "52bb5872",
   "metadata": {},
   "outputs": [],
   "source": [
    "new_proportions, portfolio_value = reb.run_selected_rebalancing_method(choesen_method, weights, buyAmt, cum_returns, proportions, n, quaterly, yearly, df, reb.rebalancing_model_over_period, reb.rebalancing_model_over_margin, selection, reb.calc_portfolio_value_by_date, reb.calc_portfolio_value_by_row, reb.calculate_new_proportions, reb.repair_rebalancing_dates, reb.choese_rebalancing_frquency, reb.create_dates_for_rebalancing)"
   ]
  },
  {
   "cell_type": "markdown",
   "id": "a9dd4e02",
   "metadata": {},
   "source": [
    "**See results on the plot** and comapare them to previous plot, where you did not make any rebalancing"
   ]
  },
  {
   "cell_type": "code",
   "execution_count": null,
   "id": "a45e1e47",
   "metadata": {},
   "outputs": [],
   "source": [
    "reb.plot_proportions(new_proportions)"
   ]
  },
  {
   "cell_type": "markdown",
   "id": "7051a84f",
   "metadata": {},
   "source": [
    "If the graph above does not remaind you Heart Rate Variability then you should consider increasing the frequency of rebalancing or just go to the next step and check the summary"
   ]
  },
  {
   "cell_type": "code",
   "execution_count": null,
   "id": "42e9a4f1",
   "metadata": {},
   "outputs": [],
   "source": [
    "freq = 5"
   ]
  },
  {
   "cell_type": "code",
   "execution_count": null,
   "id": "261acfab",
   "metadata": {},
   "outputs": [],
   "source": [
    "reb.compare_balance_portfolio_vs_previous(investmentAmt, portfolio_value, cum_returns, freq=freq) "
   ]
  },
  {
   "cell_type": "markdown",
   "id": "6588a8db",
   "metadata": {},
   "source": [
    "**Note:** If y-axis on the chart is too thick, increase freq paramiter, which as a default is 5"
   ]
  },
  {
   "cell_type": "code",
   "execution_count": null,
   "id": "aa994553",
   "metadata": {},
   "outputs": [],
   "source": [
    "all_portfolios = summ.create_table_with_all_portfolios(cum_returns, portfolio_value)"
   ]
  },
  {
   "cell_type": "markdown",
   "id": "a92dd8fb",
   "metadata": {},
   "source": [
    "### 12. Summary\n",
    "\n",
    "Below you can see table with summary of 3 portfolios:\n",
    "- equal weights, where all assets haave the same value in the begining\n",
    "- your portfolio, where all assets have previously selected weights in the begining\n",
    "- your balanced portfolio, where all assets have fixed proportions in each rebalancing period "
   ]
  },
  {
   "cell_type": "markdown",
   "id": "23fefb22",
   "metadata": {},
   "source": [
    "**Max dropdowns** show how much each portfolio drop for given period"
   ]
  },
  {
   "cell_type": "code",
   "execution_count": null,
   "id": "61ad65a7",
   "metadata": {},
   "outputs": [],
   "source": [
    "summ.dropdown_summary(all_portfolios, n)"
   ]
  },
  {
   "cell_type": "markdown",
   "id": "45905469",
   "metadata": {},
   "source": [
    "**Returns** is an average/annual profit investor make by each portfolio"
   ]
  },
  {
   "cell_type": "code",
   "execution_count": null,
   "id": "565af9ac",
   "metadata": {},
   "outputs": [],
   "source": [
    "summ.returns_summary(all_portfolios, investmentAmt, n)"
   ]
  },
  {
   "cell_type": "markdown",
   "id": "914bfab4",
   "metadata": {},
   "source": [
    "**Note_1:** If Max dropdowns for your portfolio are too hight you can:\n",
    "\n",
    "- select more stocks to your portfolio in setp nr. 1\n",
    "- decrease max volotality in step nr. 8\n",
    "- change the method of rebalancing\n",
    "- change rebalancing frequency for 'quaterly' if you haven't done already in step nr. 11\n",
    "- decrease margin for second rebalancing method"
   ]
  },
  {
   "cell_type": "code",
   "execution_count": null,
   "id": "eca5fc82",
   "metadata": {},
   "outputs": [],
   "source": []
  },
  {
   "cell_type": "code",
   "execution_count": null,
   "id": "fd4ab88c",
   "metadata": {},
   "outputs": [],
   "source": []
  }
 ],
 "metadata": {
  "kernelspec": {
   "display_name": "Python 3",
   "language": "python",
   "name": "python3"
  },
  "language_info": {
   "codemirror_mode": {
    "name": "ipython",
    "version": 3
   },
   "file_extension": ".py",
   "mimetype": "text/x-python",
   "name": "python",
   "nbconvert_exporter": "python",
   "pygments_lexer": "ipython3",
   "version": "3.8.8"
  }
 },
 "nbformat": 4,
 "nbformat_minor": 5
}
